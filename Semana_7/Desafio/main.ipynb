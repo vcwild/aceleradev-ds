{
 "cells": [
  {
   "cell_type": "markdown",
   "metadata": {},
   "source": [
    "# Desafio 6\n",
    "\n",
    "Neste desafio, vamos praticar _feature engineering_, um dos processos mais importantes e trabalhosos de ML. Utilizaremos o _data set_ [Countries of the world](https://www.kaggle.com/fernandol/countries-of-the-world), que contém dados sobre os 227 países do mundo com informações sobre tamanho da população, área, imigração e setores de produção.\n",
    "\n",
    "> Obs.: Por favor, não modifique o nome das funções de resposta."
   ]
  },
  {
   "cell_type": "markdown",
   "metadata": {},
   "source": [
    "## _Setup_ geral"
   ]
  },
  {
   "cell_type": "code",
   "execution_count": 1,
   "metadata": {},
   "outputs": [],
   "source": [
    "import pandas as pd\n",
    "import numpy as np\n",
    "import seaborn as sns\n",
    "import sklearn as sk\n",
    "from IPython import get_ipython\n",
    "from sklearn.impute import SimpleImputer\n",
    "from sklearn.pipeline import Pipeline\n",
    "from sklearn.feature_extraction.text import (\n",
    "    CountVectorizer, TfidfTransformer, TfidfVectorizer\n",
    ")\n",
    "from sklearn.datasets import fetch_20newsgroups\n",
    "from sklearn.preprocessing import (\n",
    "    KBinsDiscretizer, StandardScaler, OneHotEncoder, \n",
    ")\n",
    "from IPython.core.pylabtools import figsize\n",
    "\n",
    "# figsize(12, 8)\n",
    "# sns.set()"
   ]
  },
  {
   "cell_type": "code",
   "execution_count": 2,
   "metadata": {},
   "outputs": [
    {
     "output_type": "execute_result",
     "data": {
      "text/plain": "           Country                               Region  Population     Area  \\\n0     Afghanistan         ASIA (EX. NEAR EAST)             31056997   647500   \n1         Albania   EASTERN EUROPE                          3581655    28748   \n2         Algeria   NORTHERN AFRICA                        32930091  2381740   \n3  American Samoa   OCEANIA                                   57794      199   \n4         Andorra   WESTERN EUROPE                            71201      468   \n\n   Pop_density  Coastline_ratio  Net_migration  Infant_mortality      GDP  \\\n0         48.0             0.00          23.06            163.07    700.0   \n1        124.6             1.26          -4.93             21.52   4500.0   \n2         13.8             0.04          -0.39             31.00   6000.0   \n3        290.4            58.29         -20.71              9.27   8000.0   \n4        152.1             0.00           6.60              4.05  19000.0   \n\n   Literacy  Phones_per_1000  Arable  Crops  Other  Climate  Birthrate  \\\n0      36.0              3.2   12.13   0.22  87.65      1.0      46.60   \n1      86.5             71.2   21.09   4.42  74.49      3.0      15.11   \n2      70.0             78.1    3.22   0.25  96.53      1.0      17.14   \n3      97.0            259.5   10.00  15.00  75.00      2.0      22.46   \n4     100.0            497.2    2.22   0.00  97.78      3.0       8.71   \n\n   Deathrate  Agriculture  Industry  Service  \n0      20.34        0.380     0.240    0.380  \n1       5.22        0.232     0.188    0.579  \n2       4.61        0.101     0.600    0.298  \n3       3.27          NaN       NaN      NaN  \n4       6.25          NaN       NaN      NaN  ",
      "text/html": "<div>\n<style scoped>\n    .dataframe tbody tr th:only-of-type {\n        vertical-align: middle;\n    }\n\n    .dataframe tbody tr th {\n        vertical-align: top;\n    }\n\n    .dataframe thead th {\n        text-align: right;\n    }\n</style>\n<table border=\"1\" class=\"dataframe\">\n  <thead>\n    <tr style=\"text-align: right;\">\n      <th></th>\n      <th>Country</th>\n      <th>Region</th>\n      <th>Population</th>\n      <th>Area</th>\n      <th>Pop_density</th>\n      <th>Coastline_ratio</th>\n      <th>Net_migration</th>\n      <th>Infant_mortality</th>\n      <th>GDP</th>\n      <th>Literacy</th>\n      <th>Phones_per_1000</th>\n      <th>Arable</th>\n      <th>Crops</th>\n      <th>Other</th>\n      <th>Climate</th>\n      <th>Birthrate</th>\n      <th>Deathrate</th>\n      <th>Agriculture</th>\n      <th>Industry</th>\n      <th>Service</th>\n    </tr>\n  </thead>\n  <tbody>\n    <tr>\n      <th>0</th>\n      <td>Afghanistan</td>\n      <td>ASIA (EX. NEAR EAST)</td>\n      <td>31056997</td>\n      <td>647500</td>\n      <td>48.0</td>\n      <td>0.00</td>\n      <td>23.06</td>\n      <td>163.07</td>\n      <td>700.0</td>\n      <td>36.0</td>\n      <td>3.2</td>\n      <td>12.13</td>\n      <td>0.22</td>\n      <td>87.65</td>\n      <td>1.0</td>\n      <td>46.60</td>\n      <td>20.34</td>\n      <td>0.380</td>\n      <td>0.240</td>\n      <td>0.380</td>\n    </tr>\n    <tr>\n      <th>1</th>\n      <td>Albania</td>\n      <td>EASTERN EUROPE</td>\n      <td>3581655</td>\n      <td>28748</td>\n      <td>124.6</td>\n      <td>1.26</td>\n      <td>-4.93</td>\n      <td>21.52</td>\n      <td>4500.0</td>\n      <td>86.5</td>\n      <td>71.2</td>\n      <td>21.09</td>\n      <td>4.42</td>\n      <td>74.49</td>\n      <td>3.0</td>\n      <td>15.11</td>\n      <td>5.22</td>\n      <td>0.232</td>\n      <td>0.188</td>\n      <td>0.579</td>\n    </tr>\n    <tr>\n      <th>2</th>\n      <td>Algeria</td>\n      <td>NORTHERN AFRICA</td>\n      <td>32930091</td>\n      <td>2381740</td>\n      <td>13.8</td>\n      <td>0.04</td>\n      <td>-0.39</td>\n      <td>31.00</td>\n      <td>6000.0</td>\n      <td>70.0</td>\n      <td>78.1</td>\n      <td>3.22</td>\n      <td>0.25</td>\n      <td>96.53</td>\n      <td>1.0</td>\n      <td>17.14</td>\n      <td>4.61</td>\n      <td>0.101</td>\n      <td>0.600</td>\n      <td>0.298</td>\n    </tr>\n    <tr>\n      <th>3</th>\n      <td>American Samoa</td>\n      <td>OCEANIA</td>\n      <td>57794</td>\n      <td>199</td>\n      <td>290.4</td>\n      <td>58.29</td>\n      <td>-20.71</td>\n      <td>9.27</td>\n      <td>8000.0</td>\n      <td>97.0</td>\n      <td>259.5</td>\n      <td>10.00</td>\n      <td>15.00</td>\n      <td>75.00</td>\n      <td>2.0</td>\n      <td>22.46</td>\n      <td>3.27</td>\n      <td>NaN</td>\n      <td>NaN</td>\n      <td>NaN</td>\n    </tr>\n    <tr>\n      <th>4</th>\n      <td>Andorra</td>\n      <td>WESTERN EUROPE</td>\n      <td>71201</td>\n      <td>468</td>\n      <td>152.1</td>\n      <td>0.00</td>\n      <td>6.60</td>\n      <td>4.05</td>\n      <td>19000.0</td>\n      <td>100.0</td>\n      <td>497.2</td>\n      <td>2.22</td>\n      <td>0.00</td>\n      <td>97.78</td>\n      <td>3.0</td>\n      <td>8.71</td>\n      <td>6.25</td>\n      <td>NaN</td>\n      <td>NaN</td>\n      <td>NaN</td>\n    </tr>\n  </tbody>\n</table>\n</div>"
     },
     "metadata": {},
     "execution_count": 2
    }
   ],
   "source": [
    "countries = pd.read_csv(\"countries.csv\", decimal=\",\", encoding=\"utf-8\")\n",
    "\n",
    "new_column_names = [\n",
    "    \"Country\", \"Region\", \"Population\", \"Area\", \"Pop_density\", \"Coastline_ratio\",\n",
    "    \"Net_migration\", \"Infant_mortality\", \"GDP\", \"Literacy\", \"Phones_per_1000\",\n",
    "    \"Arable\", \"Crops\", \"Other\", \"Climate\", \"Birthrate\", \"Deathrate\", \"Agriculture\",\n",
    "    \"Industry\", \"Service\"\n",
    "]\n",
    "\n",
    "countries.columns = new_column_names\n",
    "\n",
    "countries.head(5)"
   ]
  },
  {
   "cell_type": "code",
   "execution_count": 4,
   "metadata": {},
   "outputs": [],
   "source": [
    "countries[\"Country\"] = countries[\"Country\"].str.rstrip().str.lstrip()\n",
    "countries[\"Region\"] = countries[\"Region\"].str.rstrip().str.lstrip()\n",
    "countries.to_csv('fit_countries.csv', sep=',', encoding='utf-8', decimal='.', index=False)"
   ]
  },
  {
   "cell_type": "code",
   "execution_count": 6,
   "metadata": {},
   "outputs": [
    {
     "output_type": "execute_result",
     "data": {
      "text/plain": "          Country                Region  Population     Area  Pop_density  \\\n0     Afghanistan  ASIA (EX. NEAR EAST)    31056997   647500         48.0   \n1         Albania        EASTERN EUROPE     3581655    28748        124.6   \n2         Algeria       NORTHERN AFRICA    32930091  2381740         13.8   \n3  American Samoa               OCEANIA       57794      199        290.4   \n4         Andorra        WESTERN EUROPE       71201      468        152.1   \n\n   Coastline_ratio  Net_migration  Infant_mortality      GDP  Literacy  \\\n0             0.00          23.06            163.07    700.0      36.0   \n1             1.26          -4.93             21.52   4500.0      86.5   \n2             0.04          -0.39             31.00   6000.0      70.0   \n3            58.29         -20.71              9.27   8000.0      97.0   \n4             0.00           6.60              4.05  19000.0     100.0   \n\n   Phones_per_1000  Arable  Crops  Other  Climate  Birthrate  Deathrate  \\\n0              3.2   12.13   0.22  87.65      1.0      46.60      20.34   \n1             71.2   21.09   4.42  74.49      3.0      15.11       5.22   \n2             78.1    3.22   0.25  96.53      1.0      17.14       4.61   \n3            259.5   10.00  15.00  75.00      2.0      22.46       3.27   \n4            497.2    2.22   0.00  97.78      3.0       8.71       6.25   \n\n   Agriculture  Industry  Service  \n0        0.380     0.240    0.380  \n1        0.232     0.188    0.579  \n2        0.101     0.600    0.298  \n3          NaN       NaN      NaN  \n4          NaN       NaN      NaN  ",
      "text/html": "<div>\n<style scoped>\n    .dataframe tbody tr th:only-of-type {\n        vertical-align: middle;\n    }\n\n    .dataframe tbody tr th {\n        vertical-align: top;\n    }\n\n    .dataframe thead th {\n        text-align: right;\n    }\n</style>\n<table border=\"1\" class=\"dataframe\">\n  <thead>\n    <tr style=\"text-align: right;\">\n      <th></th>\n      <th>Country</th>\n      <th>Region</th>\n      <th>Population</th>\n      <th>Area</th>\n      <th>Pop_density</th>\n      <th>Coastline_ratio</th>\n      <th>Net_migration</th>\n      <th>Infant_mortality</th>\n      <th>GDP</th>\n      <th>Literacy</th>\n      <th>Phones_per_1000</th>\n      <th>Arable</th>\n      <th>Crops</th>\n      <th>Other</th>\n      <th>Climate</th>\n      <th>Birthrate</th>\n      <th>Deathrate</th>\n      <th>Agriculture</th>\n      <th>Industry</th>\n      <th>Service</th>\n    </tr>\n  </thead>\n  <tbody>\n    <tr>\n      <th>0</th>\n      <td>Afghanistan</td>\n      <td>ASIA (EX. NEAR EAST)</td>\n      <td>31056997</td>\n      <td>647500</td>\n      <td>48.0</td>\n      <td>0.00</td>\n      <td>23.06</td>\n      <td>163.07</td>\n      <td>700.0</td>\n      <td>36.0</td>\n      <td>3.2</td>\n      <td>12.13</td>\n      <td>0.22</td>\n      <td>87.65</td>\n      <td>1.0</td>\n      <td>46.60</td>\n      <td>20.34</td>\n      <td>0.380</td>\n      <td>0.240</td>\n      <td>0.380</td>\n    </tr>\n    <tr>\n      <th>1</th>\n      <td>Albania</td>\n      <td>EASTERN EUROPE</td>\n      <td>3581655</td>\n      <td>28748</td>\n      <td>124.6</td>\n      <td>1.26</td>\n      <td>-4.93</td>\n      <td>21.52</td>\n      <td>4500.0</td>\n      <td>86.5</td>\n      <td>71.2</td>\n      <td>21.09</td>\n      <td>4.42</td>\n      <td>74.49</td>\n      <td>3.0</td>\n      <td>15.11</td>\n      <td>5.22</td>\n      <td>0.232</td>\n      <td>0.188</td>\n      <td>0.579</td>\n    </tr>\n    <tr>\n      <th>2</th>\n      <td>Algeria</td>\n      <td>NORTHERN AFRICA</td>\n      <td>32930091</td>\n      <td>2381740</td>\n      <td>13.8</td>\n      <td>0.04</td>\n      <td>-0.39</td>\n      <td>31.00</td>\n      <td>6000.0</td>\n      <td>70.0</td>\n      <td>78.1</td>\n      <td>3.22</td>\n      <td>0.25</td>\n      <td>96.53</td>\n      <td>1.0</td>\n      <td>17.14</td>\n      <td>4.61</td>\n      <td>0.101</td>\n      <td>0.600</td>\n      <td>0.298</td>\n    </tr>\n    <tr>\n      <th>3</th>\n      <td>American Samoa</td>\n      <td>OCEANIA</td>\n      <td>57794</td>\n      <td>199</td>\n      <td>290.4</td>\n      <td>58.29</td>\n      <td>-20.71</td>\n      <td>9.27</td>\n      <td>8000.0</td>\n      <td>97.0</td>\n      <td>259.5</td>\n      <td>10.00</td>\n      <td>15.00</td>\n      <td>75.00</td>\n      <td>2.0</td>\n      <td>22.46</td>\n      <td>3.27</td>\n      <td>NaN</td>\n      <td>NaN</td>\n      <td>NaN</td>\n    </tr>\n    <tr>\n      <th>4</th>\n      <td>Andorra</td>\n      <td>WESTERN EUROPE</td>\n      <td>71201</td>\n      <td>468</td>\n      <td>152.1</td>\n      <td>0.00</td>\n      <td>6.60</td>\n      <td>4.05</td>\n      <td>19000.0</td>\n      <td>100.0</td>\n      <td>497.2</td>\n      <td>2.22</td>\n      <td>0.00</td>\n      <td>97.78</td>\n      <td>3.0</td>\n      <td>8.71</td>\n      <td>6.25</td>\n      <td>NaN</td>\n      <td>NaN</td>\n      <td>NaN</td>\n    </tr>\n  </tbody>\n</table>\n</div>"
     },
     "metadata": {},
     "execution_count": 6
    }
   ],
   "source": [
    "countries = pd.read_csv('fit_countries.csv')\n",
    "countries.head()"
   ]
  },
  {
   "cell_type": "markdown",
   "metadata": {},
   "source": [
    "## Observações\n",
    "\n",
    "Esse _data set_ ainda precisa de alguns ajustes iniciais. Primeiro, note que as variáveis numéricas estão usando vírgula como separador decimal e estão codificadas como strings. Corrija isso antes de continuar: transforme essas variáveis em numéricas adequadamente.\n",
    "\n",
    "Além disso, as variáveis `Country` e `Region` possuem espaços a mais no começo e no final da string. Você pode utilizar o método `str.strip()` para remover esses espaços."
   ]
  },
  {
   "cell_type": "markdown",
   "metadata": {},
   "source": [
    "## Inicia sua análise a partir daqui"
   ]
  },
  {
   "cell_type": "markdown",
   "metadata": {},
   "source": [
    "## Questão 1\n",
    "\n",
    "Quais são as regiões (variável `Region`) presentes no _data set_? Retorne uma lista com as regiões únicas do _data set_ com os espaços à frente e atrás da string removidos (mas mantenha pontuação: ponto, hífen etc) e ordenadas em ordem alfabética."
   ]
  },
  {
   "cell_type": "code",
   "execution_count": 7,
   "metadata": {},
   "outputs": [],
   "source": [
    "def q1():\n",
    "   \n",
    "   return sorted(countries[\"Region\"].unique().tolist())\n",
    "\n",
    "q1()"
   ]
  },
  {
   "cell_type": "markdown",
   "metadata": {},
   "source": [
    "## Questão 2\n",
    "\n",
    "Discretizando a variável `Pop_density` em 10 intervalos com `KBinsDiscretizer`, seguindo o encode `ordinal` e estratégia `quantile`, quantos países se encontram acima do 90º percentil? Responda como um único escalar inteiro."
   ]
  },
  {
   "cell_type": "code",
   "execution_count": 9,
   "metadata": {},
   "outputs": [
    {
     "output_type": "execute_result",
     "data": {
      "text/plain": "0     48.0\n1    124.6\n2     13.8\n3    290.4\n4    152.1\nName: Pop_density, dtype: float64"
     },
     "metadata": {},
     "execution_count": 9
    }
   ],
   "source": [
    "countries[\"Pop_density\"].head()"
   ]
  },
  {
   "cell_type": "code",
   "execution_count": 10,
   "metadata": {},
   "outputs": [],
   "source": [
    "discretizer = KBinsDiscretizer(n_bins = 10, strategy = 'quantile', encode = 'ordinal')\n",
    "score_bins = discretizer.fit_transform(countries[[\"Pop_density\"]])\n"
   ]
  },
  {
   "cell_type": "code",
   "execution_count": 11,
   "metadata": {
    "tags": []
   },
   "outputs": [
    {
     "output_type": "stream",
     "name": "stdout",
     "text": "Bins quantile\ninterval: #elements\n\n0.00 ⊢ 10.14: 23\n10.14 ⊢ 21.22: 23\n21.22 ⊢ 39.48: 22\n39.48 ⊢ 59.80: 23\n59.80 ⊢ 78.80: 22\n78.80 ⊢ 105.54: 23\n105.54 ⊢ 150.12: 23\n150.12 ⊢ 253.70: 22\n253.70 ⊢ 396.74: 23\n396.74 ⊢ 16271.50: 23\n"
    }
   ],
   "source": [
    "def get_interval(bin_idx, bin_edges):\n",
    "\n",
    "  return f\"{np.round(bin_edges[bin_idx], 2):.2f} ⊢ {np.round(bin_edges[bin_idx+1], 2):.2f}\"\n",
    "\n",
    "\n",
    "bin_edges_quantile = discretizer.bin_edges_[0]\n",
    "\n",
    "print(f\"Bins quantile\")\n",
    "print(f\"interval: #elements\\n\")\n",
    "for i in range(len(discretizer.bin_edges_[0])-1):\n",
    "    print(f\"{get_interval(i, bin_edges_quantile)}: {sum(score_bins[:, 0] == i)}\")"
   ]
  },
  {
   "cell_type": "code",
   "execution_count": 12,
   "metadata": {},
   "outputs": [
    {
     "output_type": "execute_result",
     "data": {
      "text/plain": "23"
     },
     "metadata": {},
     "execution_count": 12
    }
   ],
   "source": [
    "def q2():\n",
    "    discretizer = KBinsDiscretizer(n_bins = 10, strategy = 'quantile', encode = 'ordinal')\n",
    "    score_bins = discretizer.fit_transform(countries[[\"Pop_density\"]])\n",
    "    # Quantil 1 == elemento 0, quantil 10 == elemento 9\n",
    "\n",
    "    return int(sum(score_bins.flatten() > 8))\n",
    "\n",
    "\n",
    "q2()"
   ]
  },
  {
   "cell_type": "markdown",
   "metadata": {},
   "source": [
    "# Questão 3\n",
    "\n",
    "Se codificarmos as variáveis `Region` e `Climate` usando _one-hot encoding_, quantos novos atributos seriam criados? Responda como um único escalar."
   ]
  },
  {
   "cell_type": "code",
   "execution_count": 34,
   "metadata": {},
   "outputs": [
    {
     "output_type": "execute_result",
     "data": {
      "text/plain": "18"
     },
     "metadata": {},
     "execution_count": 34
    }
   ],
   "source": [
    "def q3():\n",
    "    onehotencoder = OneHotEncoder(dtype='object')\n",
    "    new_region = countries[['Region', 'Climate']].fillna(0)\n",
    "    encoded = onehotencoder.fit_transform(new_region[['Region', 'Climate']])\n",
    "    \n",
    "    return encoded.shape[1]\n",
    "\n",
    "\n",
    "q3()"
   ]
  },
  {
   "cell_type": "markdown",
   "metadata": {},
   "source": [
    "## Questão 4\n",
    "\n",
    "Aplique o seguinte _pipeline_:\n",
    "\n",
    "1. Preencha as variáveis do tipo `int64` e `float64` com suas respectivas medianas.\n",
    "2. Padronize essas variáveis.\n",
    "\n",
    "Após aplicado o _pipeline_ descrito acima aos dados (somente nas variáveis dos tipos especificados), aplique o mesmo _pipeline_ (ou `ColumnTransformer`) ao dado abaixo. Qual o valor da variável `Arable` após o _pipeline_? Responda como um único float arredondado para três casas decimais."
   ]
  },
  {
   "cell_type": "code",
   "execution_count": 15,
   "metadata": {},
   "outputs": [],
   "source": [
    "test_country = [\n",
    "    'Test Country', 'NEAR EAST', -0.19032480757326514,\n",
    "    -0.3232636124824411, -0.04421734470810142, -0.27528113360605316,\n",
    "    0.13255850810281325, -0.8054845935643491, 1.0119784924248225,\n",
    "    0.6189182532646624, 1.0074863283776458, 0.20239896852403538,\n",
    "    -0.043678728558593366, -0.13929748680369286, 1.3163604645710438,\n",
    "    -0.3699637766938669, -0.6149300604558857, -0.854369594993175,\n",
    "    0.263445277972641, 0.5712416961268142\n",
    "]"
   ]
  },
  {
   "cell_type": "code",
   "execution_count": 16,
   "metadata": {},
   "outputs": [
    {
     "output_type": "execute_result",
     "data": {
      "text/plain": "        Country     Region  Population      Area  Pop_density  \\\n0  Test Country  NEAR EAST   -0.190325 -0.323264    -0.044217   \n\n   Coastline_ratio  Net_migration  Infant_mortality       GDP  Literacy  \\\n0        -0.275281       0.132559         -0.805485  1.011978  0.618918   \n\n   Phones_per_1000    Arable     Crops     Other  Climate  Birthrate  \\\n0         1.007486  0.202399 -0.043679 -0.139297  1.31636  -0.369964   \n\n   Deathrate  Agriculture  Industry   Service  \n0   -0.61493     -0.85437  0.263445  0.571242  ",
      "text/html": "<div>\n<style scoped>\n    .dataframe tbody tr th:only-of-type {\n        vertical-align: middle;\n    }\n\n    .dataframe tbody tr th {\n        vertical-align: top;\n    }\n\n    .dataframe thead th {\n        text-align: right;\n    }\n</style>\n<table border=\"1\" class=\"dataframe\">\n  <thead>\n    <tr style=\"text-align: right;\">\n      <th></th>\n      <th>Country</th>\n      <th>Region</th>\n      <th>Population</th>\n      <th>Area</th>\n      <th>Pop_density</th>\n      <th>Coastline_ratio</th>\n      <th>Net_migration</th>\n      <th>Infant_mortality</th>\n      <th>GDP</th>\n      <th>Literacy</th>\n      <th>Phones_per_1000</th>\n      <th>Arable</th>\n      <th>Crops</th>\n      <th>Other</th>\n      <th>Climate</th>\n      <th>Birthrate</th>\n      <th>Deathrate</th>\n      <th>Agriculture</th>\n      <th>Industry</th>\n      <th>Service</th>\n    </tr>\n  </thead>\n  <tbody>\n    <tr>\n      <th>0</th>\n      <td>Test Country</td>\n      <td>NEAR EAST</td>\n      <td>-0.190325</td>\n      <td>-0.323264</td>\n      <td>-0.044217</td>\n      <td>-0.275281</td>\n      <td>0.132559</td>\n      <td>-0.805485</td>\n      <td>1.011978</td>\n      <td>0.618918</td>\n      <td>1.007486</td>\n      <td>0.202399</td>\n      <td>-0.043679</td>\n      <td>-0.139297</td>\n      <td>1.31636</td>\n      <td>-0.369964</td>\n      <td>-0.61493</td>\n      <td>-0.85437</td>\n      <td>0.263445</td>\n      <td>0.571242</td>\n    </tr>\n  </tbody>\n</table>\n</div>"
     },
     "metadata": {},
     "execution_count": 16
    }
   ],
   "source": [
    "test_country_df = pd.DataFrame(data=[test_country], columns = countries.columns)\n",
    "test_country_df"
   ]
  },
  {
   "cell_type": "code",
   "execution_count": 17,
   "metadata": {},
   "outputs": [
    {
     "output_type": "execute_result",
     "data": {
      "text/plain": "array([[ 0.01969468,  0.02758332, -0.19984434, ...,  1.63657562,\n        -0.31540576, -1.1611354 ],\n       [-0.21387688, -0.31879748, -0.15360296, ...,  0.59516349,\n        -0.70631815,  0.08342432],\n       [ 0.03561811,  0.99842051, -0.22048996, ..., -0.32662697,\n         2.39091078, -1.67396905],\n       ...,\n       [-0.06192308, -0.03933023, -0.20431152, ..., -0.08738364,\n         1.4286649 , -1.0798325 ],\n       [-0.14654488,  0.08642673, -0.21958445, ...,  0.51072467,\n         0.06047154, -0.47944188],\n       [-0.14029829, -0.11624192, -0.20992568, ...,  0.22222537,\n        -0.29285312,  0.08342432]])"
     },
     "metadata": {},
     "execution_count": 17
    }
   ],
   "source": [
    "num_pipeline = Pipeline([\n",
    "    (\"imputer\", SimpleImputer(strategy=\"median\")),\n",
    "    (\"scaler\", StandardScaler())\n",
    "])\n",
    "\n",
    "num_pipeline.fit_transform(countries._get_numeric_data())"
   ]
  },
  {
   "cell_type": "code",
   "execution_count": 18,
   "metadata": {},
   "outputs": [
    {
     "output_type": "execute_result",
     "data": {
      "text/plain": "array([[-0.24432501, -0.33489095, -0.22884735, -0.29726002,  0.01959086,\n        -1.02861728, -0.96623348, -4.35427242, -1.03720972, -1.04685743,\n        -0.55058149, -5.10112169, -1.21812201, -2.02455164, -1.99092137,\n        -7.04915046, -0.13915481,  0.03490335]])"
     },
     "metadata": {},
     "execution_count": 18
    }
   ],
   "source": [
    "test_transformation = num_pipeline.transform(test_country_df._get_numeric_data())\n",
    "test_transformation"
   ]
  },
  {
   "cell_type": "code",
   "execution_count": 19,
   "metadata": {},
   "outputs": [
    {
     "output_type": "execute_result",
     "data": {
      "text/plain": "['Population',\n 'Area',\n 'Pop_density',\n 'Coastline_ratio',\n 'Net_migration',\n 'Infant_mortality',\n 'GDP',\n 'Literacy',\n 'Phones_per_1000',\n 'Arable',\n 'Crops',\n 'Other',\n 'Climate',\n 'Birthrate',\n 'Deathrate',\n 'Agriculture',\n 'Industry',\n 'Service']"
     },
     "metadata": {},
     "execution_count": 19
    }
   ],
   "source": [
    "colnames = list(countries._get_numeric_data().columns)\n",
    "colnames"
   ]
  },
  {
   "cell_type": "code",
   "execution_count": 20,
   "metadata": {},
   "outputs": [
    {
     "output_type": "execute_result",
     "data": {
      "text/plain": "-1.047"
     },
     "metadata": {},
     "execution_count": 20
    }
   ],
   "source": [
    "def q4():\n",
    "    num_pipeline = Pipeline([\n",
    "    (\"imputer\", SimpleImputer(strategy=\"median\")),\n",
    "    (\"scaler\", StandardScaler())\n",
    "    ])\n",
    "\n",
    "    num_pipeline.fit_transform(countries._get_numeric_data())\n",
    "\n",
    "    test_country_df = pd.DataFrame(data=[test_country], columns = countries.columns)\n",
    "    test_transformation = num_pipeline.transform(test_country_df._get_numeric_data())\n",
    "    colnames = list(countries._get_numeric_data().columns)\n",
    "    test_df = pd.DataFrame(test_transformation, columns = colnames)\n",
    "\n",
    "    return float(round(test_df.Arable[0], 3))\n",
    "\n",
    "\n",
    "q4()"
   ]
  },
  {
   "cell_type": "markdown",
   "metadata": {},
   "source": [
    "## Questão 5\n",
    "\n",
    "Descubra o número de _outliers_ da variável `Net_migration` segundo o método do _boxplot_, ou seja, usando a lógica:\n",
    "\n",
    "$$x \\notin [Q1 - 1.5 \\times \\text{IQR}, Q3 + 1.5 \\times \\text{IQR}] \\Rightarrow x \\text{ é outlier}$$\n",
    "\n",
    "que se encontram no grupo inferior e no grupo superior.\n",
    "\n",
    "Você deveria remover da análise as observações consideradas _outliers_ segundo esse método? Responda como uma tupla de três elementos `(outliers_abaixo, outliers_acima, removeria?)` ((int, int, bool))."
   ]
  },
  {
   "cell_type": "code",
   "execution_count": 21,
   "metadata": {},
   "outputs": [],
   "source": [
    "net = countries[\"Net_migration\"].copy()"
   ]
  },
  {
   "cell_type": "code",
   "execution_count": 22,
   "metadata": {},
   "outputs": [
    {
     "output_type": "display_data",
     "data": {
      "text/plain": "<Figure size 432x288 with 1 Axes>",
      "image/svg+xml": "<?xml version=\"1.0\" encoding=\"utf-8\" standalone=\"no\"?>\n<!DOCTYPE svg PUBLIC \"-//W3C//DTD SVG 1.1//EN\"\n  \"http://www.w3.org/Graphics/SVG/1.1/DTD/svg11.dtd\">\n<!-- Created with matplotlib (https://matplotlib.org/) -->\n<svg height=\"262.474375pt\" version=\"1.1\" viewBox=\"0 0 352.7 262.474375\" width=\"352.7pt\" xmlns=\"http://www.w3.org/2000/svg\" xmlns:xlink=\"http://www.w3.org/1999/xlink\">\n <defs>\n  <style type=\"text/css\">\n*{stroke-linecap:butt;stroke-linejoin:round;white-space:pre;}\n  </style>\n </defs>\n <g id=\"figure_1\">\n  <g id=\"patch_1\">\n   <path d=\"M 0 262.474375 \nL 352.7 262.474375 \nL 352.7 0 \nL 0 0 \nz\n\" style=\"fill:none;\"/>\n  </g>\n  <g id=\"axes_1\">\n   <g id=\"patch_2\">\n    <path d=\"M 10.7 224.64 \nL 345.5 224.64 \nL 345.5 7.2 \nL 10.7 7.2 \nz\n\" style=\"fill:#ffffff;\"/>\n   </g>\n   <g id=\"patch_3\">\n    <path clip-path=\"url(#p4e17395290)\" d=\"M 164.540099 28.944 \nL 164.540099 202.896 \nL 177.840894 202.896 \nL 177.840894 28.944 \nL 164.540099 28.944 \nz\n\" style=\"fill:#3274a1;stroke:#3f3f3f;stroke-linejoin:miter;stroke-width:1.5;\"/>\n   </g>\n   <g id=\"matplotlib.axis_1\">\n    <g id=\"xtick_1\">\n     <g id=\"line2d_1\">\n      <defs>\n       <path d=\"M 0 0 \nL 0 3.5 \n\" id=\"m659d461f0f\" style=\"stroke:#000000;stroke-width:0.8;\"/>\n      </defs>\n      <g>\n       <use style=\"stroke:#000000;stroke-width:0.8;\" x=\"32.75859\" xlink:href=\"#m659d461f0f\" y=\"224.64\"/>\n      </g>\n     </g>\n     <g id=\"text_1\">\n      <!-- −20 -->\n      <defs>\n       <path d=\"M 10.59375 35.5 \nL 73.1875 35.5 \nL 73.1875 27.203125 \nL 10.59375 27.203125 \nz\n\" id=\"DejaVuSans-8722\"/>\n       <path d=\"M 19.1875 8.296875 \nL 53.609375 8.296875 \nL 53.609375 0 \nL 7.328125 0 \nL 7.328125 8.296875 \nQ 12.9375 14.109375 22.625 23.890625 \nQ 32.328125 33.6875 34.8125 36.53125 \nQ 39.546875 41.84375 41.421875 45.53125 \nQ 43.3125 49.21875 43.3125 52.78125 \nQ 43.3125 58.59375 39.234375 62.25 \nQ 35.15625 65.921875 28.609375 65.921875 \nQ 23.96875 65.921875 18.8125 64.3125 \nQ 13.671875 62.703125 7.8125 59.421875 \nL 7.8125 69.390625 \nQ 13.765625 71.78125 18.9375 73 \nQ 24.125 74.21875 28.421875 74.21875 \nQ 39.75 74.21875 46.484375 68.546875 \nQ 53.21875 62.890625 53.21875 53.421875 \nQ 53.21875 48.921875 51.53125 44.890625 \nQ 49.859375 40.875 45.40625 35.40625 \nQ 44.1875 33.984375 37.640625 27.21875 \nQ 31.109375 20.453125 19.1875 8.296875 \nz\n\" id=\"DejaVuSans-50\"/>\n       <path d=\"M 31.78125 66.40625 \nQ 24.171875 66.40625 20.328125 58.90625 \nQ 16.5 51.421875 16.5 36.375 \nQ 16.5 21.390625 20.328125 13.890625 \nQ 24.171875 6.390625 31.78125 6.390625 \nQ 39.453125 6.390625 43.28125 13.890625 \nQ 47.125 21.390625 47.125 36.375 \nQ 47.125 51.421875 43.28125 58.90625 \nQ 39.453125 66.40625 31.78125 66.40625 \nz\nM 31.78125 74.21875 \nQ 44.046875 74.21875 50.515625 64.515625 \nQ 56.984375 54.828125 56.984375 36.375 \nQ 56.984375 17.96875 50.515625 8.265625 \nQ 44.046875 -1.421875 31.78125 -1.421875 \nQ 19.53125 -1.421875 13.0625 8.265625 \nQ 6.59375 17.96875 6.59375 36.375 \nQ 6.59375 54.828125 13.0625 64.515625 \nQ 19.53125 74.21875 31.78125 74.21875 \nz\n\" id=\"DejaVuSans-48\"/>\n      </defs>\n      <g transform=\"translate(22.206247 239.238438)scale(0.1 -0.1)\">\n       <use xlink:href=\"#DejaVuSans-8722\"/>\n       <use x=\"83.789062\" xlink:href=\"#DejaVuSans-50\"/>\n       <use x=\"147.412109\" xlink:href=\"#DejaVuSans-48\"/>\n      </g>\n     </g>\n    </g>\n    <g id=\"xtick_2\">\n     <g id=\"line2d_2\">\n      <g>\n       <use style=\"stroke:#000000;stroke-width:0.8;\" x=\"101.853627\" xlink:href=\"#m659d461f0f\" y=\"224.64\"/>\n      </g>\n     </g>\n     <g id=\"text_2\">\n      <!-- −10 -->\n      <defs>\n       <path d=\"M 12.40625 8.296875 \nL 28.515625 8.296875 \nL 28.515625 63.921875 \nL 10.984375 60.40625 \nL 10.984375 69.390625 \nL 28.421875 72.90625 \nL 38.28125 72.90625 \nL 38.28125 8.296875 \nL 54.390625 8.296875 \nL 54.390625 0 \nL 12.40625 0 \nz\n\" id=\"DejaVuSans-49\"/>\n      </defs>\n      <g transform=\"translate(91.301283 239.238438)scale(0.1 -0.1)\">\n       <use xlink:href=\"#DejaVuSans-8722\"/>\n       <use x=\"83.789062\" xlink:href=\"#DejaVuSans-49\"/>\n       <use x=\"147.412109\" xlink:href=\"#DejaVuSans-48\"/>\n      </g>\n     </g>\n    </g>\n    <g id=\"xtick_3\">\n     <g id=\"line2d_3\">\n      <g>\n       <use style=\"stroke:#000000;stroke-width:0.8;\" x=\"170.948664\" xlink:href=\"#m659d461f0f\" y=\"224.64\"/>\n      </g>\n     </g>\n     <g id=\"text_3\">\n      <!-- 0 -->\n      <g transform=\"translate(167.767414 239.238438)scale(0.1 -0.1)\">\n       <use xlink:href=\"#DejaVuSans-48\"/>\n      </g>\n     </g>\n    </g>\n    <g id=\"xtick_4\">\n     <g id=\"line2d_4\">\n      <g>\n       <use style=\"stroke:#000000;stroke-width:0.8;\" x=\"240.0437\" xlink:href=\"#m659d461f0f\" y=\"224.64\"/>\n      </g>\n     </g>\n     <g id=\"text_4\">\n      <!-- 10 -->\n      <g transform=\"translate(233.6812 239.238438)scale(0.1 -0.1)\">\n       <use xlink:href=\"#DejaVuSans-49\"/>\n       <use x=\"63.623047\" xlink:href=\"#DejaVuSans-48\"/>\n      </g>\n     </g>\n    </g>\n    <g id=\"xtick_5\">\n     <g id=\"line2d_5\">\n      <g>\n       <use style=\"stroke:#000000;stroke-width:0.8;\" x=\"309.138737\" xlink:href=\"#m659d461f0f\" y=\"224.64\"/>\n      </g>\n     </g>\n     <g id=\"text_5\">\n      <!-- 20 -->\n      <g transform=\"translate(302.776237 239.238438)scale(0.1 -0.1)\">\n       <use xlink:href=\"#DejaVuSans-50\"/>\n       <use x=\"63.623047\" xlink:href=\"#DejaVuSans-48\"/>\n      </g>\n     </g>\n    </g>\n    <g id=\"text_6\">\n     <!-- Net_migration -->\n     <defs>\n      <path d=\"M 9.8125 72.90625 \nL 23.09375 72.90625 \nL 55.421875 11.921875 \nL 55.421875 72.90625 \nL 64.984375 72.90625 \nL 64.984375 0 \nL 51.703125 0 \nL 19.390625 60.984375 \nL 19.390625 0 \nL 9.8125 0 \nz\n\" id=\"DejaVuSans-78\"/>\n      <path d=\"M 56.203125 29.59375 \nL 56.203125 25.203125 \nL 14.890625 25.203125 \nQ 15.484375 15.921875 20.484375 11.0625 \nQ 25.484375 6.203125 34.421875 6.203125 \nQ 39.59375 6.203125 44.453125 7.46875 \nQ 49.3125 8.734375 54.109375 11.28125 \nL 54.109375 2.78125 \nQ 49.265625 0.734375 44.1875 -0.34375 \nQ 39.109375 -1.421875 33.890625 -1.421875 \nQ 20.796875 -1.421875 13.15625 6.1875 \nQ 5.515625 13.8125 5.515625 26.8125 \nQ 5.515625 40.234375 12.765625 48.109375 \nQ 20.015625 56 32.328125 56 \nQ 43.359375 56 49.78125 48.890625 \nQ 56.203125 41.796875 56.203125 29.59375 \nz\nM 47.21875 32.234375 \nQ 47.125 39.59375 43.09375 43.984375 \nQ 39.0625 48.390625 32.421875 48.390625 \nQ 24.90625 48.390625 20.390625 44.140625 \nQ 15.875 39.890625 15.1875 32.171875 \nz\n\" id=\"DejaVuSans-101\"/>\n      <path d=\"M 18.3125 70.21875 \nL 18.3125 54.6875 \nL 36.8125 54.6875 \nL 36.8125 47.703125 \nL 18.3125 47.703125 \nL 18.3125 18.015625 \nQ 18.3125 11.328125 20.140625 9.421875 \nQ 21.96875 7.515625 27.59375 7.515625 \nL 36.8125 7.515625 \nL 36.8125 0 \nL 27.59375 0 \nQ 17.1875 0 13.234375 3.875 \nQ 9.28125 7.765625 9.28125 18.015625 \nL 9.28125 47.703125 \nL 2.6875 47.703125 \nL 2.6875 54.6875 \nL 9.28125 54.6875 \nL 9.28125 70.21875 \nz\n\" id=\"DejaVuSans-116\"/>\n      <path d=\"M 50.984375 -16.609375 \nL 50.984375 -23.578125 \nL -0.984375 -23.578125 \nL -0.984375 -16.609375 \nz\n\" id=\"DejaVuSans-95\"/>\n      <path d=\"M 52 44.1875 \nQ 55.375 50.25 60.0625 53.125 \nQ 64.75 56 71.09375 56 \nQ 79.640625 56 84.28125 50.015625 \nQ 88.921875 44.046875 88.921875 33.015625 \nL 88.921875 0 \nL 79.890625 0 \nL 79.890625 32.71875 \nQ 79.890625 40.578125 77.09375 44.375 \nQ 74.3125 48.1875 68.609375 48.1875 \nQ 61.625 48.1875 57.5625 43.546875 \nQ 53.515625 38.921875 53.515625 30.90625 \nL 53.515625 0 \nL 44.484375 0 \nL 44.484375 32.71875 \nQ 44.484375 40.625 41.703125 44.40625 \nQ 38.921875 48.1875 33.109375 48.1875 \nQ 26.21875 48.1875 22.15625 43.53125 \nQ 18.109375 38.875 18.109375 30.90625 \nL 18.109375 0 \nL 9.078125 0 \nL 9.078125 54.6875 \nL 18.109375 54.6875 \nL 18.109375 46.1875 \nQ 21.1875 51.21875 25.484375 53.609375 \nQ 29.78125 56 35.6875 56 \nQ 41.65625 56 45.828125 52.96875 \nQ 50 49.953125 52 44.1875 \nz\n\" id=\"DejaVuSans-109\"/>\n      <path d=\"M 9.421875 54.6875 \nL 18.40625 54.6875 \nL 18.40625 0 \nL 9.421875 0 \nz\nM 9.421875 75.984375 \nL 18.40625 75.984375 \nL 18.40625 64.59375 \nL 9.421875 64.59375 \nz\n\" id=\"DejaVuSans-105\"/>\n      <path d=\"M 45.40625 27.984375 \nQ 45.40625 37.75 41.375 43.109375 \nQ 37.359375 48.484375 30.078125 48.484375 \nQ 22.859375 48.484375 18.828125 43.109375 \nQ 14.796875 37.75 14.796875 27.984375 \nQ 14.796875 18.265625 18.828125 12.890625 \nQ 22.859375 7.515625 30.078125 7.515625 \nQ 37.359375 7.515625 41.375 12.890625 \nQ 45.40625 18.265625 45.40625 27.984375 \nz\nM 54.390625 6.78125 \nQ 54.390625 -7.171875 48.1875 -13.984375 \nQ 42 -20.796875 29.203125 -20.796875 \nQ 24.46875 -20.796875 20.265625 -20.09375 \nQ 16.0625 -19.390625 12.109375 -17.921875 \nL 12.109375 -9.1875 \nQ 16.0625 -11.328125 19.921875 -12.34375 \nQ 23.78125 -13.375 27.78125 -13.375 \nQ 36.625 -13.375 41.015625 -8.765625 \nQ 45.40625 -4.15625 45.40625 5.171875 \nL 45.40625 9.625 \nQ 42.625 4.78125 38.28125 2.390625 \nQ 33.9375 0 27.875 0 \nQ 17.828125 0 11.671875 7.65625 \nQ 5.515625 15.328125 5.515625 27.984375 \nQ 5.515625 40.671875 11.671875 48.328125 \nQ 17.828125 56 27.875 56 \nQ 33.9375 56 38.28125 53.609375 \nQ 42.625 51.21875 45.40625 46.390625 \nL 45.40625 54.6875 \nL 54.390625 54.6875 \nz\n\" id=\"DejaVuSans-103\"/>\n      <path d=\"M 41.109375 46.296875 \nQ 39.59375 47.171875 37.8125 47.578125 \nQ 36.03125 48 33.890625 48 \nQ 26.265625 48 22.1875 43.046875 \nQ 18.109375 38.09375 18.109375 28.8125 \nL 18.109375 0 \nL 9.078125 0 \nL 9.078125 54.6875 \nL 18.109375 54.6875 \nL 18.109375 46.1875 \nQ 20.953125 51.171875 25.484375 53.578125 \nQ 30.03125 56 36.53125 56 \nQ 37.453125 56 38.578125 55.875 \nQ 39.703125 55.765625 41.0625 55.515625 \nz\n\" id=\"DejaVuSans-114\"/>\n      <path d=\"M 34.28125 27.484375 \nQ 23.390625 27.484375 19.1875 25 \nQ 14.984375 22.515625 14.984375 16.5 \nQ 14.984375 11.71875 18.140625 8.90625 \nQ 21.296875 6.109375 26.703125 6.109375 \nQ 34.1875 6.109375 38.703125 11.40625 \nQ 43.21875 16.703125 43.21875 25.484375 \nL 43.21875 27.484375 \nz\nM 52.203125 31.203125 \nL 52.203125 0 \nL 43.21875 0 \nL 43.21875 8.296875 \nQ 40.140625 3.328125 35.546875 0.953125 \nQ 30.953125 -1.421875 24.3125 -1.421875 \nQ 15.921875 -1.421875 10.953125 3.296875 \nQ 6 8.015625 6 15.921875 \nQ 6 25.140625 12.171875 29.828125 \nQ 18.359375 34.515625 30.609375 34.515625 \nL 43.21875 34.515625 \nL 43.21875 35.40625 \nQ 43.21875 41.609375 39.140625 45 \nQ 35.0625 48.390625 27.6875 48.390625 \nQ 23 48.390625 18.546875 47.265625 \nQ 14.109375 46.140625 10.015625 43.890625 \nL 10.015625 52.203125 \nQ 14.9375 54.109375 19.578125 55.046875 \nQ 24.21875 56 28.609375 56 \nQ 40.484375 56 46.34375 49.84375 \nQ 52.203125 43.703125 52.203125 31.203125 \nz\n\" id=\"DejaVuSans-97\"/>\n      <path d=\"M 30.609375 48.390625 \nQ 23.390625 48.390625 19.1875 42.75 \nQ 14.984375 37.109375 14.984375 27.296875 \nQ 14.984375 17.484375 19.15625 11.84375 \nQ 23.34375 6.203125 30.609375 6.203125 \nQ 37.796875 6.203125 41.984375 11.859375 \nQ 46.1875 17.53125 46.1875 27.296875 \nQ 46.1875 37.015625 41.984375 42.703125 \nQ 37.796875 48.390625 30.609375 48.390625 \nz\nM 30.609375 56 \nQ 42.328125 56 49.015625 48.375 \nQ 55.71875 40.765625 55.71875 27.296875 \nQ 55.71875 13.875 49.015625 6.21875 \nQ 42.328125 -1.421875 30.609375 -1.421875 \nQ 18.84375 -1.421875 12.171875 6.21875 \nQ 5.515625 13.875 5.515625 27.296875 \nQ 5.515625 40.765625 12.171875 48.375 \nQ 18.84375 56 30.609375 56 \nz\n\" id=\"DejaVuSans-111\"/>\n      <path d=\"M 54.890625 33.015625 \nL 54.890625 0 \nL 45.90625 0 \nL 45.90625 32.71875 \nQ 45.90625 40.484375 42.875 44.328125 \nQ 39.84375 48.1875 33.796875 48.1875 \nQ 26.515625 48.1875 22.3125 43.546875 \nQ 18.109375 38.921875 18.109375 30.90625 \nL 18.109375 0 \nL 9.078125 0 \nL 9.078125 54.6875 \nL 18.109375 54.6875 \nL 18.109375 46.1875 \nQ 21.34375 51.125 25.703125 53.5625 \nQ 30.078125 56 35.796875 56 \nQ 45.21875 56 50.046875 50.171875 \nQ 54.890625 44.34375 54.890625 33.015625 \nz\n\" id=\"DejaVuSans-110\"/>\n     </defs>\n     <g transform=\"translate(142.692188 252.916562)scale(0.1 -0.1)\">\n      <use xlink:href=\"#DejaVuSans-78\"/>\n      <use x=\"74.804688\" xlink:href=\"#DejaVuSans-101\"/>\n      <use x=\"136.328125\" xlink:href=\"#DejaVuSans-116\"/>\n      <use x=\"175.537109\" xlink:href=\"#DejaVuSans-95\"/>\n      <use x=\"225.537109\" xlink:href=\"#DejaVuSans-109\"/>\n      <use x=\"322.949219\" xlink:href=\"#DejaVuSans-105\"/>\n      <use x=\"350.732422\" xlink:href=\"#DejaVuSans-103\"/>\n      <use x=\"414.208984\" xlink:href=\"#DejaVuSans-114\"/>\n      <use x=\"455.322266\" xlink:href=\"#DejaVuSans-97\"/>\n      <use x=\"516.601562\" xlink:href=\"#DejaVuSans-116\"/>\n      <use x=\"555.810547\" xlink:href=\"#DejaVuSans-105\"/>\n      <use x=\"583.59375\" xlink:href=\"#DejaVuSans-111\"/>\n      <use x=\"644.775391\" xlink:href=\"#DejaVuSans-110\"/>\n     </g>\n    </g>\n   </g>\n   <g id=\"matplotlib.axis_2\">\n    <g id=\"ytick_1\">\n     <g id=\"line2d_6\">\n      <defs>\n       <path d=\"M 0 0 \nL -3.5 0 \n\" id=\"m7f4af936a8\" style=\"stroke:#000000;stroke-width:0.8;\"/>\n      </defs>\n      <g>\n       <use style=\"stroke:#000000;stroke-width:0.8;\" x=\"10.7\" xlink:href=\"#m7f4af936a8\" y=\"115.92\"/>\n      </g>\n     </g>\n    </g>\n   </g>\n   <g id=\"line2d_7\">\n    <path clip-path=\"url(#p4e17395290)\" d=\"M 164.540099 115.92 \nL 145.10712 115.92 \n\" style=\"fill:none;stroke:#3f3f3f;stroke-linecap:square;stroke-width:1.5;\"/>\n   </g>\n   <g id=\"line2d_8\">\n    <path clip-path=\"url(#p4e17395290)\" d=\"M 177.840894 115.92 \nL 197.481158 115.92 \n\" style=\"fill:none;stroke:#3f3f3f;stroke-linecap:square;stroke-width:1.5;\"/>\n   </g>\n   <g id=\"line2d_9\">\n    <path clip-path=\"url(#p4e17395290)\" d=\"M 145.10712 72.432 \nL 145.10712 159.408 \n\" style=\"fill:none;stroke:#3f3f3f;stroke-linecap:square;stroke-width:1.5;\"/>\n   </g>\n   <g id=\"line2d_10\">\n    <path clip-path=\"url(#p4e17395290)\" d=\"M 197.481158 72.432 \nL 197.481158 159.408 \n\" style=\"fill:none;stroke:#3f3f3f;stroke-linecap:square;stroke-width:1.5;\"/>\n   </g>\n   <g id=\"line2d_11\">\n    <defs>\n     <path d=\"M -0 3.535534 \nL 2.12132 0 \nL -0 -3.535534 \nL -2.12132 -0 \nz\n\" id=\"mf1174d05d4\" style=\"stroke:#3f3f3f;stroke-linejoin:miter;\"/>\n    </defs>\n    <g clip-path=\"url(#p4e17395290)\">\n     <use style=\"fill:#3f3f3f;stroke:#3f3f3f;stroke-linejoin:miter;\" x=\"136.884811\" xlink:href=\"#mf1174d05d4\" y=\"115.92\"/>\n     <use style=\"fill:#3f3f3f;stroke:#3f3f3f;stroke-linejoin:miter;\" x=\"27.852843\" xlink:href=\"#mf1174d05d4\" y=\"115.92\"/>\n     <use style=\"fill:#3f3f3f;stroke:#3f3f3f;stroke-linejoin:miter;\" x=\"128.455216\" xlink:href=\"#mf1174d05d4\" y=\"115.92\"/>\n     <use style=\"fill:#3f3f3f;stroke:#3f3f3f;stroke-linejoin:miter;\" x=\"126.244175\" xlink:href=\"#mf1174d05d4\" y=\"115.92\"/>\n     <use style=\"fill:#3f3f3f;stroke:#3f3f3f;stroke-linejoin:miter;\" x=\"137.092096\" xlink:href=\"#mf1174d05d4\" y=\"115.92\"/>\n     <use style=\"fill:#3f3f3f;stroke:#3f3f3f;stroke-linejoin:miter;\" x=\"139.303137\" xlink:href=\"#mf1174d05d4\" y=\"115.92\"/>\n     <use style=\"fill:#3f3f3f;stroke:#3f3f3f;stroke-linejoin:miter;\" x=\"87.550954\" xlink:href=\"#mf1174d05d4\" y=\"115.92\"/>\n     <use style=\"fill:#3f3f3f;stroke:#3f3f3f;stroke-linejoin:miter;\" x=\"75.113848\" xlink:href=\"#mf1174d05d4\" y=\"115.92\"/>\n     <use style=\"fill:#3f3f3f;stroke:#3f3f3f;stroke-linejoin:miter;\" x=\"111.665122\" xlink:href=\"#mf1174d05d4\" y=\"115.92\"/>\n     <use style=\"fill:#3f3f3f;stroke:#3f3f3f;stroke-linejoin:miter;\" x=\"138.473996\" xlink:href=\"#mf1174d05d4\" y=\"115.92\"/>\n     <use style=\"fill:#3f3f3f;stroke:#3f3f3f;stroke-linejoin:miter;\" x=\"113.116118\" xlink:href=\"#mf1174d05d4\" y=\"115.92\"/>\n     <use style=\"fill:#3f3f3f;stroke:#3f3f3f;stroke-linejoin:miter;\" x=\"74.768373\" xlink:href=\"#mf1174d05d4\" y=\"115.92\"/>\n     <use style=\"fill:#3f3f3f;stroke:#3f3f3f;stroke-linejoin:miter;\" x=\"136.953906\" xlink:href=\"#mf1174d05d4\" y=\"115.92\"/>\n     <use style=\"fill:#3f3f3f;stroke:#3f3f3f;stroke-linejoin:miter;\" x=\"129.215262\" xlink:href=\"#mf1174d05d4\" y=\"115.92\"/>\n     <use style=\"fill:#3f3f3f;stroke:#3f3f3f;stroke-linejoin:miter;\" x=\"137.299381\" xlink:href=\"#mf1174d05d4\" y=\"115.92\"/>\n     <use style=\"fill:#3f3f3f;stroke:#3f3f3f;stroke-linejoin:miter;\" x=\"25.918182\" xlink:href=\"#mf1174d05d4\" y=\"115.92\"/>\n     <use style=\"fill:#3f3f3f;stroke:#3f3f3f;stroke-linejoin:miter;\" x=\"121.822093\" xlink:href=\"#mf1174d05d4\" y=\"115.92\"/>\n     <use style=\"fill:#3f3f3f;stroke:#3f3f3f;stroke-linejoin:miter;\" x=\"137.368476\" xlink:href=\"#mf1174d05d4\" y=\"115.92\"/>\n     <use style=\"fill:#3f3f3f;stroke:#3f3f3f;stroke-linejoin:miter;\" x=\"118.160056\" xlink:href=\"#mf1174d05d4\" y=\"115.92\"/>\n     <use style=\"fill:#3f3f3f;stroke:#3f3f3f;stroke-linejoin:miter;\" x=\"90.107471\" xlink:href=\"#mf1174d05d4\" y=\"115.92\"/>\n     <use style=\"fill:#3f3f3f;stroke:#3f3f3f;stroke-linejoin:miter;\" x=\"131.633588\" xlink:href=\"#mf1174d05d4\" y=\"115.92\"/>\n     <use style=\"fill:#3f3f3f;stroke:#3f3f3f;stroke-linejoin:miter;\" x=\"110.075936\" xlink:href=\"#mf1174d05d4\" y=\"115.92\"/>\n     <use style=\"fill:#3f3f3f;stroke:#3f3f3f;stroke-linejoin:miter;\" x=\"96.118739\" xlink:href=\"#mf1174d05d4\" y=\"115.92\"/>\n     <use style=\"fill:#3f3f3f;stroke:#3f3f3f;stroke-linejoin:miter;\" x=\"109.177701\" xlink:href=\"#mf1174d05d4\" y=\"115.92\"/>\n     <use style=\"fill:#3f3f3f;stroke:#3f3f3f;stroke-linejoin:miter;\" x=\"330.281818\" xlink:href=\"#mf1174d05d4\" y=\"115.92\"/>\n     <use style=\"fill:#3f3f3f;stroke:#3f3f3f;stroke-linejoin:miter;\" x=\"216.551388\" xlink:href=\"#mf1174d05d4\" y=\"115.92\"/>\n     <use style=\"fill:#3f3f3f;stroke:#3f3f3f;stroke-linejoin:miter;\" x=\"245.294923\" xlink:href=\"#mf1174d05d4\" y=\"115.92\"/>\n     <use style=\"fill:#3f3f3f;stroke:#3f3f3f;stroke-linejoin:miter;\" x=\"198.448488\" xlink:href=\"#mf1174d05d4\" y=\"115.92\"/>\n     <use style=\"fill:#3f3f3f;stroke:#3f3f3f;stroke-linejoin:miter;\" x=\"240.112795\" xlink:href=\"#mf1174d05d4\" y=\"115.92\"/>\n     <use style=\"fill:#3f3f3f;stroke:#3f3f3f;stroke-linejoin:miter;\" x=\"212.129306\" xlink:href=\"#mf1174d05d4\" y=\"115.92\"/>\n     <use style=\"fill:#3f3f3f;stroke:#3f3f3f;stroke-linejoin:miter;\" x=\"300.501857\" xlink:href=\"#mf1174d05d4\" y=\"115.92\"/>\n     <use style=\"fill:#3f3f3f;stroke:#3f3f3f;stroke-linejoin:miter;\" x=\"214.271252\" xlink:href=\"#mf1174d05d4\" y=\"115.92\"/>\n     <use style=\"fill:#3f3f3f;stroke:#3f3f3f;stroke-linejoin:miter;\" x=\"207.154463\" xlink:href=\"#mf1174d05d4\" y=\"115.92\"/>\n     <use style=\"fill:#3f3f3f;stroke:#3f3f3f;stroke-linejoin:miter;\" x=\"205.427087\" xlink:href=\"#mf1174d05d4\" y=\"115.92\"/>\n     <use style=\"fill:#3f3f3f;stroke:#3f3f3f;stroke-linejoin:miter;\" x=\"207.983603\" xlink:href=\"#mf1174d05d4\" y=\"115.92\"/>\n     <use style=\"fill:#3f3f3f;stroke:#3f3f3f;stroke-linejoin:miter;\" x=\"216.482293\" xlink:href=\"#mf1174d05d4\" y=\"115.92\"/>\n     <use style=\"fill:#3f3f3f;stroke:#3f3f3f;stroke-linejoin:miter;\" x=\"268.925426\" xlink:href=\"#mf1174d05d4\" y=\"115.92\"/>\n     <use style=\"fill:#3f3f3f;stroke:#3f3f3f;stroke-linejoin:miter;\" x=\"204.459756\" xlink:href=\"#mf1174d05d4\" y=\"115.92\"/>\n     <use style=\"fill:#3f3f3f;stroke:#3f3f3f;stroke-linejoin:miter;\" x=\"232.926912\" xlink:href=\"#mf1174d05d4\" y=\"115.92\"/>\n     <use style=\"fill:#3f3f3f;stroke:#3f3f3f;stroke-linejoin:miter;\" x=\"204.528852\" xlink:href=\"#mf1174d05d4\" y=\"115.92\"/>\n     <use style=\"fill:#3f3f3f;stroke:#3f3f3f;stroke-linejoin:miter;\" x=\"217.795099\" xlink:href=\"#mf1174d05d4\" y=\"115.92\"/>\n     <use style=\"fill:#3f3f3f;stroke:#3f3f3f;stroke-linejoin:miter;\" x=\"224.497317\" xlink:href=\"#mf1174d05d4\" y=\"115.92\"/>\n     <use style=\"fill:#3f3f3f;stroke:#3f3f3f;stroke-linejoin:miter;\" x=\"198.932154\" xlink:href=\"#mf1174d05d4\" y=\"115.92\"/>\n     <use style=\"fill:#3f3f3f;stroke:#3f3f3f;stroke-linejoin:miter;\" x=\"237.348994\" xlink:href=\"#mf1174d05d4\" y=\"115.92\"/>\n     <use style=\"fill:#3f3f3f;stroke:#3f3f3f;stroke-linejoin:miter;\" x=\"283.504478\" xlink:href=\"#mf1174d05d4\" y=\"115.92\"/>\n     <use style=\"fill:#3f3f3f;stroke:#3f3f3f;stroke-linejoin:miter;\" x=\"246.815014\" xlink:href=\"#mf1174d05d4\" y=\"115.92\"/>\n     <use style=\"fill:#3f3f3f;stroke:#3f3f3f;stroke-linejoin:miter;\" x=\"250.615241\" xlink:href=\"#mf1174d05d4\" y=\"115.92\"/>\n     <use style=\"fill:#3f3f3f;stroke:#3f3f3f;stroke-linejoin:miter;\" x=\"208.052698\" xlink:href=\"#mf1174d05d4\" y=\"115.92\"/>\n     <use style=\"fill:#3f3f3f;stroke:#3f3f3f;stroke-linejoin:miter;\" x=\"198.932154\" xlink:href=\"#mf1174d05d4\" y=\"115.92\"/>\n     <use style=\"fill:#3f3f3f;stroke:#3f3f3f;stroke-linejoin:miter;\" x=\"251.651666\" xlink:href=\"#mf1174d05d4\" y=\"115.92\"/>\n    </g>\n   </g>\n   <g id=\"line2d_12\">\n    <path clip-path=\"url(#p4e17395290)\" d=\"M 170.948664 28.944 \nL 170.948664 202.896 \n\" style=\"fill:none;stroke:#3f3f3f;stroke-linecap:square;stroke-width:1.5;\"/>\n   </g>\n   <g id=\"patch_4\">\n    <path d=\"M 10.7 224.64 \nL 10.7 7.2 \n\" style=\"fill:none;stroke:#000000;stroke-linecap:square;stroke-linejoin:miter;stroke-width:0.8;\"/>\n   </g>\n   <g id=\"patch_5\">\n    <path d=\"M 345.5 224.64 \nL 345.5 7.2 \n\" style=\"fill:none;stroke:#000000;stroke-linecap:square;stroke-linejoin:miter;stroke-width:0.8;\"/>\n   </g>\n   <g id=\"patch_6\">\n    <path d=\"M 10.7 224.64 \nL 345.5 224.64 \n\" style=\"fill:none;stroke:#000000;stroke-linecap:square;stroke-linejoin:miter;stroke-width:0.8;\"/>\n   </g>\n   <g id=\"patch_7\">\n    <path d=\"M 10.7 7.2 \nL 345.5 7.2 \n\" style=\"fill:none;stroke:#000000;stroke-linecap:square;stroke-linejoin:miter;stroke-width:0.8;\"/>\n   </g>\n  </g>\n </g>\n <defs>\n  <clipPath id=\"p4e17395290\">\n   <rect height=\"217.44\" width=\"334.8\" x=\"10.7\" y=\"7.2\"/>\n  </clipPath>\n </defs>\n</svg>\n",
      "image/png": "[encoded data removed]"
     },
     "metadata": {
      "needs_background": "light"
     }
    }
   ],
   "source": [
    "sns.boxplot(net);"
   ]
  },
  {
   "cell_type": "code",
   "execution_count": 23,
   "metadata": {
    "tags": []
   },
   "outputs": [
    {
     "output_type": "stream",
     "name": "stdout",
     "text": "Primeiro quartil: -0.927500\nTerceiro quartil: 0.997500\nIQR: 1.925000\n"
    }
   ],
   "source": [
    "q1, q3 = net.quantile([0.25, 0.75])\n",
    "iqr = q3 - q1\n",
    "\n",
    "print(f'Primeiro quartil: {q1:1f}\\nTerceiro quartil: {q3:1f}\\nIQR: {iqr:1f}')"
   ]
  },
  {
   "cell_type": "code",
   "execution_count": 24,
   "metadata": {
    "tags": []
   },
   "outputs": [
    {
     "output_type": "stream",
     "name": "stdout",
     "text": "Limite inferior: -3.815000\nLimite superior: 3.885000\n"
    }
   ],
   "source": [
    "lim_inf, lim_sup = q1 - 1.5*iqr, q3 + 1.5*iqr\n",
    "\n",
    "print(f'Limite inferior: {lim_inf:1f}\\nLimite superior: {lim_sup:1f}')"
   ]
  },
  {
   "cell_type": "code",
   "execution_count": 25,
   "metadata": {},
   "outputs": [
    {
     "output_type": "execute_result",
     "data": {
      "text/plain": "array([ -4.93, -20.71,  -6.15,  -6.47,  -4.9 ,  -4.58, -12.07, -13.87,\n        -8.58,  -4.7 ,  -8.37, -13.92,  -4.92,  -6.04,  -4.87, -20.99,\n        -7.11,  -4.86,  -7.64, -11.7 ,  -5.69,  -8.81, -10.83,  -8.94,\n        23.06,   6.6 ,  10.76,   3.98,  10.01,   5.96,  18.75,   6.27,\n         5.24,   4.99,   5.36,   6.59,  14.18,   4.85,   8.97,   4.86,\n         6.78,   7.75,   4.05,   9.61,  16.29,  10.98,  11.53,   5.37,\n         4.05,  11.68])"
     },
     "metadata": {},
     "execution_count": 25
    }
   ],
   "source": [
    "inf_outlier, sup_outlier = net[net < lim_inf], net[net > lim_sup]\n",
    "\n",
    "outliers = pd.concat([inf_outlier, sup_outlier])\n",
    "np.array(outliers)"
   ]
  },
  {
   "cell_type": "code",
   "execution_count": 26,
   "metadata": {},
   "outputs": [
    {
     "output_type": "execute_result",
     "data": {
      "text/plain": "(24, 26, False)"
     },
     "metadata": {},
     "execution_count": 26
    }
   ],
   "source": [
    "def q5():\n",
    "    net = countries[\"Net_migration\"].copy()\n",
    "    q1, q3 = net.quantile([0.25, 0.75])\n",
    "    iqr = q3 - q1\n",
    "    lim_inf, lim_sup = q1 - 1.5*iqr, q3 + 1.5*iqr\n",
    "    inf_outlier, sup_outlier = net[net < lim_inf], net[net > lim_sup]\n",
    "    # Há um número muito grande de outliers, não removeria\n",
    "\n",
    "    return len(inf_outlier), len(sup_outlier), False\n",
    "\n",
    "\n",
    "q5()"
   ]
  },
  {
   "cell_type": "markdown",
   "metadata": {},
   "source": [
    "## Questão 6\n",
    "Para as questões 6 e 7 utilize a biblioteca `fetch_20newsgroups` de datasets de test do `sklearn`\n",
    "\n",
    "Considere carregar as seguintes categorias e o dataset `newsgroups`:\n",
    "\n",
    "```\n",
    "categories = ['sci.electronics', 'comp.graphics', 'rec.motorcycles']\n",
    "newsgroup = fetch_20newsgroups(subset=\"train\", categories=categories, shuffle=True, random_state=42)\n",
    "```\n",
    "\n",
    "\n",
    "Aplique `CountVectorizer` ao _data set_ `newsgroups` e descubra o número de vezes que a palavra _phone_ aparece no corpus. Responda como um único escalar."
   ]
  },
  {
   "cell_type": "code",
   "execution_count": 27,
   "metadata": {},
   "outputs": [],
   "source": [
    "categories = ['sci.electronics', 'comp.graphics', 'rec.motorcycles']\n",
    "newsgroup = fetch_20newsgroups(subset=\"train\", categories=categories, shuffle=True, random_state=42)"
   ]
  },
  {
   "cell_type": "code",
   "execution_count": 28,
   "metadata": {},
   "outputs": [],
   "source": [
    "count_vectorizer = CountVectorizer()\n",
    "newsgroups_counts = count_vectorizer.fit_transform(newsgroup.data)"
   ]
  },
  {
   "cell_type": "code",
   "execution_count": 29,
   "metadata": {},
   "outputs": [
    {
     "output_type": "execute_result",
     "data": {
      "text/plain": "    phone\n5       1\n8       1\n37      1\n43      1\n66      1",
      "text/html": "<div>\n<style scoped>\n    .dataframe tbody tr th:only-of-type {\n        vertical-align: middle;\n    }\n\n    .dataframe tbody tr th {\n        vertical-align: top;\n    }\n\n    .dataframe thead th {\n        text-align: right;\n    }\n</style>\n<table border=\"1\" class=\"dataframe\">\n  <thead>\n    <tr style=\"text-align: right;\">\n      <th></th>\n      <th>phone</th>\n    </tr>\n  </thead>\n  <tbody>\n    <tr>\n      <th>5</th>\n      <td>1</td>\n    </tr>\n    <tr>\n      <th>8</th>\n      <td>1</td>\n    </tr>\n    <tr>\n      <th>37</th>\n      <td>1</td>\n    </tr>\n    <tr>\n      <th>43</th>\n      <td>1</td>\n    </tr>\n    <tr>\n      <th>66</th>\n      <td>1</td>\n    </tr>\n  </tbody>\n</table>\n</div>"
     },
     "metadata": {},
     "execution_count": 29
    }
   ],
   "source": [
    "words_idx = sorted([count_vectorizer.vocabulary_.get(f\"{word.lower()}\") for word in [u\"phone\"]])\n",
    "found = pd.DataFrame(newsgroups_counts[:, words_idx].toarray(), columns=np.array(count_vectorizer.get_feature_names())[words_idx])\n",
    "found[found[\"phone\"] == 1].head()"
   ]
  },
  {
   "cell_type": "code",
   "execution_count": 31,
   "metadata": {},
   "outputs": [
    {
     "output_type": "execute_result",
     "data": {
      "text/plain": "213"
     },
     "metadata": {},
     "execution_count": 31
    }
   ],
   "source": [
    "def q6():\n",
    "    count_vectorizer = CountVectorizer()\n",
    "    newsgroups_counts = count_vectorizer.fit_transform(newsgroup.data)\n",
    "    word_idx = sorted([count_vectorizer.vocabulary_.get(\"phone\")])\n",
    "    occurencies = pd.DataFrame(\n",
    "        newsgroups_counts[:, word_idx].toarray(), \n",
    "        columns=np.array(count_vectorizer.get_feature_names())[word_idx]\n",
    "    )\n",
    "\n",
    "    return int(occurencies[\"phone\"].sum())\n",
    "\n",
    "\n",
    "q6()"
   ]
  },
  {
   "cell_type": "markdown",
   "metadata": {},
   "source": [
    "## Questão 7\n",
    "\n",
    "Aplique `TfidfVectorizer` ao _data set_ `newsgroups` e descubra o TF-IDF da palavra _phone_. Responda como um único escalar arredondado para três casas decimais."
   ]
  },
  {
   "cell_type": "code",
   "execution_count": 32,
   "metadata": {},
   "outputs": [
    {
     "output_type": "execute_result",
     "data": {
      "text/plain": "       phone\n5   0.047752\n8   0.003878\n34  0.077240\n37  0.007246\n43  0.041626\n52  0.061870\n66  0.035081\n78  0.083525\n82  0.130126\n88  0.050443",
      "text/html": "<div>\n<style scoped>\n    .dataframe tbody tr th:only-of-type {\n        vertical-align: middle;\n    }\n\n    .dataframe tbody tr th {\n        vertical-align: top;\n    }\n\n    .dataframe thead th {\n        text-align: right;\n    }\n</style>\n<table border=\"1\" class=\"dataframe\">\n  <thead>\n    <tr style=\"text-align: right;\">\n      <th></th>\n      <th>phone</th>\n    </tr>\n  </thead>\n  <tbody>\n    <tr>\n      <th>5</th>\n      <td>0.047752</td>\n    </tr>\n    <tr>\n      <th>8</th>\n      <td>0.003878</td>\n    </tr>\n    <tr>\n      <th>34</th>\n      <td>0.077240</td>\n    </tr>\n    <tr>\n      <th>37</th>\n      <td>0.007246</td>\n    </tr>\n    <tr>\n      <th>43</th>\n      <td>0.041626</td>\n    </tr>\n    <tr>\n      <th>52</th>\n      <td>0.061870</td>\n    </tr>\n    <tr>\n      <th>66</th>\n      <td>0.035081</td>\n    </tr>\n    <tr>\n      <th>78</th>\n      <td>0.083525</td>\n    </tr>\n    <tr>\n      <th>82</th>\n      <td>0.130126</td>\n    </tr>\n    <tr>\n      <th>88</th>\n      <td>0.050443</td>\n    </tr>\n  </tbody>\n</table>\n</div>"
     },
     "metadata": {},
     "execution_count": 32
    }
   ],
   "source": [
    "tfidf_transformer = TfidfTransformer()\n",
    "\n",
    "tfidf_transformer.fit(newsgroups_counts)\n",
    "\n",
    "newsgroups_tfidf = tfidf_transformer.transform(newsgroups_counts)\n",
    "\n",
    "tf_IDF_matrix = pd.DataFrame(newsgroups_tfidf[:, words_idx].toarray(), columns=np.array(count_vectorizer.get_feature_names())[words_idx])\n",
    "tf_IDF_matrix[tf_IDF_matrix[\"phone\"] != 0].head(10)"
   ]
  },
  {
   "cell_type": "code",
   "execution_count": 33,
   "metadata": {},
   "outputs": [
    {
     "output_type": "execute_result",
     "data": {
      "text/plain": "8.888"
     },
     "metadata": {},
     "execution_count": 33
    }
   ],
   "source": [
    "def q7():\n",
    "    tfidf = TfidfVectorizer()\n",
    "    tfidf_transform = tfidf.fit_transform(newsgroup.data)\n",
    "    phone_tfidf = pd.DataFrame(tfidf_transform.toarray(), columns = tfidf.get_feature_names())\n",
    "    \n",
    "    return float(phone_tfidf[\"phone\"].sum().round(3))\n",
    "\n",
    "\n",
    "q7()"
   ]
  }
 ],
 "metadata": {
  "kernelspec": {
   "display_name": "Python 3",
   "language": "python",
   "name": "python3"
  },
  "language_info": {
   "codemirror_mode": {
    "name": "ipython",
    "version": 3
   },
   "file_extension": ".py",
   "mimetype": "text/x-python",
   "name": "python",
   "nbconvert_exporter": "python",
   "pygments_lexer": "ipython3",
   "version": "3.7.3"
  }
 },
 "nbformat": 4,
 "nbformat_minor": 2
}