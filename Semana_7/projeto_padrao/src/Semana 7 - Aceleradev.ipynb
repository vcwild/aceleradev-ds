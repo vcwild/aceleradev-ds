{
 "cells": [
  {
   "cell_type": "markdown",
   "metadata": {},
   "source": [
    "# AceleraDev DataScience \n",
    "\n",
    "## Setup\n",
    "\n",
    "https://www.kaggle.com/c/house-prices-advanced-regression-techniques/data\n",
    "\n",
    "\n"
   ]
  },
  {
   "cell_type": "code",
   "execution_count": 2,
   "metadata": {},
   "outputs": [],
   "source": [
    "#lendo os pacotes\n",
    "import pandas as pd\n",
    "import seaborn as sns\n",
    "import matplotlib.pyplot as plt\n",
    "import numpy as np"
   ]
  },
  {
   "cell_type": "code",
   "execution_count": 4,
   "metadata": {},
   "outputs": [],
   "source": [
    "df = pd.read_csv('../data/train.csv')"
   ]
  },
  {
   "cell_type": "code",
   "execution_count": 6,
   "metadata": {},
   "outputs": [],
   "source": [
    "y_train = df['SalePrice']\n",
    "X_train = df.drop(columns = 'SalePrice')"
   ]
  },
  {
   "cell_type": "code",
   "execution_count": 8,
   "metadata": {},
   "outputs": [],
   "source": [
    "X_test = pd.read_csv('../data/test.csv')\n",
    "y_test = pd.read_csv('../data/sample_submission.csv')"
   ]
  },
  {
   "cell_type": "markdown",
   "metadata": {},
   "source": [
    "## Analysis"
   ]
  },
  {
   "cell_type": "markdown",
   "metadata": {},
   "source": [
    "### Selecao por completude"
   ]
  },
  {
   "cell_type": "code",
   "execution_count": 9,
   "metadata": {},
   "outputs": [],
   "source": [
    "#Criando um dataframe auxliar para analisar a consistencia das variaveis\n",
    "cons = pd.DataFrame({'colunas' : df.columns,\n",
    "                    'tipo': df.dtypes,\n",
    "                    'missing' : df.isna().sum(),\n",
    "                    'size' : df.shape[0],\n",
    "                    'unicos': df.nunique()})\n",
    "cons['percentual'] = round(cons['missing'] / cons['size'],2)"
   ]
  },
  {
   "cell_type": "markdown",
   "metadata": {},
   "source": [
    "### Removendo colunas com dados missing"
   ]
  },
  {
   "cell_type": "code",
   "execution_count": 10,
   "metadata": {},
   "outputs": [
    {
     "name": "stdout",
     "output_type": "stream",
     "text": [
      "Contagem de colunas com ATÉ 20% de dados faltantes 76\n",
      "Contagem de colunas com 0% de dados faltantes 63\n"
     ]
    }
   ],
   "source": [
    "print('Contagem de colunas com ATÉ 20% de dados faltantes', cons[cons.percentual < 0.2].shape[0])\n",
    "print('Contagem de colunas com 0% de dados faltantes',  cons[cons.percentual == 0].shape[0])"
   ]
  },
  {
   "cell_type": "code",
   "execution_count": 11,
   "metadata": {},
   "outputs": [
    {
     "data": {
      "text/plain": [
       "int64     35\n",
       "object    28\n",
       "Name: tipo, dtype: int64"
      ]
     },
     "execution_count": 11,
     "metadata": {},
     "output_type": "execute_result"
    }
   ],
   "source": [
    "cons[cons.percentual == 0]['tipo'].value_counts()"
   ]
  },
  {
   "cell_type": "code",
   "execution_count": 12,
   "metadata": {},
   "outputs": [],
   "source": [
    "cons['completa'] = ['completa' if x == 0 else 'faltante' for x in cons['percentual']]"
   ]
  },
  {
   "cell_type": "code",
   "execution_count": 21,
   "metadata": {},
   "outputs": [],
   "source": [
    "mantem = list(cons[cons['completa'] == 'completa']['colunas'])\n",
    "df = df[mantem]"
   ]
  },
  {
   "cell_type": "code",
   "execution_count": null,
   "metadata": {},
   "outputs": [],
   "source": [
    "df.drop"
   ]
  },
  {
   "cell_type": "code",
   "execution_count": 49,
   "metadata": {},
   "outputs": [],
   "source": [
    "colunas_numericas = list(cons[((cons['tipo'] != 'object') &\n",
    "                              (cons['completa'] == 'completa'))]['colunas'])\n",
    "colunas_numericas.remove('SalePrice')"
   ]
  },
  {
   "cell_type": "code",
   "execution_count": 27,
   "metadata": {},
   "outputs": [],
   "source": [
    "colunas_categoricas = list(cons[((cons['tipo'] == 'object') &\n",
    "                              (cons['completa'] == 'completa'))]['colunas'])"
   ]
  },
  {
   "cell_type": "markdown",
   "metadata": {},
   "source": [
    "## Categoricas"
   ]
  },
  {
   "cell_type": "markdown",
   "metadata": {},
   "source": [
    "### Label Encoding"
   ]
  },
  {
   "cell_type": "code",
   "execution_count": 26,
   "metadata": {},
   "outputs": [
    {
     "data": {
      "text/plain": [
       "Index(['Id', 'MSSubClass', 'MSZoning', 'LotArea', 'Street', 'LotShape',\n",
       "       'LandContour', 'Utilities', 'LotConfig', 'LandSlope', 'Neighborhood',\n",
       "       'Condition1', 'Condition2', 'BldgType', 'HouseStyle', 'OverallQual',\n",
       "       'OverallCond', 'YearBuilt', 'YearRemodAdd', 'RoofStyle', 'RoofMatl',\n",
       "       'Exterior1st', 'Exterior2nd', 'ExterQual', 'ExterCond', 'Foundation',\n",
       "       'BsmtFinSF1', 'BsmtFinSF2', 'BsmtUnfSF', 'TotalBsmtSF', 'Heating',\n",
       "       'HeatingQC', 'CentralAir', 'Electrical', '1stFlrSF', '2ndFlrSF',\n",
       "       'LowQualFinSF', 'GrLivArea', 'BsmtFullBath', 'BsmtHalfBath', 'FullBath',\n",
       "       'HalfBath', 'BedroomAbvGr', 'KitchenAbvGr', 'KitchenQual',\n",
       "       'TotRmsAbvGrd', 'Functional', 'Fireplaces', 'GarageCars', 'GarageArea',\n",
       "       'PavedDrive', 'WoodDeckSF', 'OpenPorchSF', 'EnclosedPorch', '3SsnPorch',\n",
       "       'ScreenPorch', 'PoolArea', 'MiscVal', 'MoSold', 'YrSold', 'SaleType',\n",
       "       'SaleCondition', 'SalePrice'],\n",
       "      dtype='object')"
      ]
     },
     "execution_count": 26,
     "metadata": {},
     "output_type": "execute_result"
    }
   ],
   "source": [
    "df.columns"
   ]
  },
  {
   "cell_type": "markdown",
   "metadata": {},
   "source": [
    "### Label encoder"
   ]
  },
  {
   "cell_type": "code",
   "execution_count": 18,
   "metadata": {},
   "outputs": [],
   "source": [
    "from sklearn.preprocessing import LabelEncoder"
   ]
  },
  {
   "cell_type": "code",
   "execution_count": 19,
   "metadata": {},
   "outputs": [],
   "source": [
    "encoding = LabelEncoder()"
   ]
  },
  {
   "cell_type": "code",
   "execution_count": 33,
   "metadata": {},
   "outputs": [
    {
     "data": {
      "text/plain": [
       "array([6, 4, 4, ..., 7, 3, 4])"
      ]
     },
     "execution_count": 33,
     "metadata": {},
     "output_type": "execute_result"
    }
   ],
   "source": [
    "encoding.fit_transform(df['TotRmsAbvGrd'])"
   ]
  },
  {
   "cell_type": "markdown",
   "metadata": {},
   "source": [
    "### Dummies"
   ]
  },
  {
   "cell_type": "code",
   "execution_count": 36,
   "metadata": {},
   "outputs": [
    {
     "data": {
      "text/plain": [
       "(1460, 63)"
      ]
     },
     "execution_count": 36,
     "metadata": {},
     "output_type": "execute_result"
    }
   ],
   "source": [
    "df.shape"
   ]
  },
  {
   "cell_type": "code",
   "execution_count": 35,
   "metadata": {},
   "outputs": [
    {
     "data": {
      "text/plain": [
       "(1460, 222)"
      ]
     },
     "execution_count": 35,
     "metadata": {},
     "output_type": "execute_result"
    }
   ],
   "source": [
    "pd.get_dummies(df).shape"
   ]
  },
  {
   "cell_type": "markdown",
   "metadata": {},
   "source": [
    "### Catboost"
   ]
  },
  {
   "cell_type": "code",
   "execution_count": 37,
   "metadata": {},
   "outputs": [],
   "source": [
    "import category_encoders as ce"
   ]
  },
  {
   "cell_type": "code",
   "execution_count": 42,
   "metadata": {},
   "outputs": [],
   "source": [
    "catb = ce.CatBoostEncoder(cols=colunas_categoricas)"
   ]
  },
  {
   "cell_type": "code",
   "execution_count": 45,
   "metadata": {},
   "outputs": [
    {
     "data": {
      "text/html": [
       "<div>\n",
       "<style scoped>\n",
       "    .dataframe tbody tr th:only-of-type {\n",
       "        vertical-align: middle;\n",
       "    }\n",
       "\n",
       "    .dataframe tbody tr th {\n",
       "        vertical-align: top;\n",
       "    }\n",
       "\n",
       "    .dataframe thead th {\n",
       "        text-align: right;\n",
       "    }\n",
       "</style>\n",
       "<table border=\"1\" class=\"dataframe\">\n",
       "  <thead>\n",
       "    <tr style=\"text-align: right;\">\n",
       "      <th></th>\n",
       "      <th>MSZoning</th>\n",
       "      <th>Street</th>\n",
       "      <th>LotShape</th>\n",
       "      <th>LandContour</th>\n",
       "      <th>Utilities</th>\n",
       "      <th>LotConfig</th>\n",
       "      <th>LandSlope</th>\n",
       "      <th>Neighborhood</th>\n",
       "      <th>Condition1</th>\n",
       "      <th>Condition2</th>\n",
       "      <th>...</th>\n",
       "      <th>Foundation</th>\n",
       "      <th>Heating</th>\n",
       "      <th>HeatingQC</th>\n",
       "      <th>CentralAir</th>\n",
       "      <th>Electrical</th>\n",
       "      <th>KitchenQual</th>\n",
       "      <th>Functional</th>\n",
       "      <th>PavedDrive</th>\n",
       "      <th>SaleType</th>\n",
       "      <th>SaleCondition</th>\n",
       "    </tr>\n",
       "  </thead>\n",
       "  <tbody>\n",
       "    <tr>\n",
       "      <th>0</th>\n",
       "      <td>180921.195890</td>\n",
       "      <td>180921.195890</td>\n",
       "      <td>180921.195890</td>\n",
       "      <td>180921.195890</td>\n",
       "      <td>180921.195890</td>\n",
       "      <td>180921.195890</td>\n",
       "      <td>180921.195890</td>\n",
       "      <td>180921.195890</td>\n",
       "      <td>180921.195890</td>\n",
       "      <td>180921.195890</td>\n",
       "      <td>...</td>\n",
       "      <td>180921.195890</td>\n",
       "      <td>180921.195890</td>\n",
       "      <td>180921.195890</td>\n",
       "      <td>180921.195890</td>\n",
       "      <td>180921.195890</td>\n",
       "      <td>180921.195890</td>\n",
       "      <td>180921.195890</td>\n",
       "      <td>180921.195890</td>\n",
       "      <td>180921.195890</td>\n",
       "      <td>180921.195890</td>\n",
       "    </tr>\n",
       "    <tr>\n",
       "      <th>1</th>\n",
       "      <td>194710.597945</td>\n",
       "      <td>194710.597945</td>\n",
       "      <td>194710.597945</td>\n",
       "      <td>194710.597945</td>\n",
       "      <td>194710.597945</td>\n",
       "      <td>180921.195890</td>\n",
       "      <td>194710.597945</td>\n",
       "      <td>180921.195890</td>\n",
       "      <td>180921.195890</td>\n",
       "      <td>194710.597945</td>\n",
       "      <td>...</td>\n",
       "      <td>180921.195890</td>\n",
       "      <td>194710.597945</td>\n",
       "      <td>194710.597945</td>\n",
       "      <td>194710.597945</td>\n",
       "      <td>194710.597945</td>\n",
       "      <td>180921.195890</td>\n",
       "      <td>194710.597945</td>\n",
       "      <td>194710.597945</td>\n",
       "      <td>194710.597945</td>\n",
       "      <td>194710.597945</td>\n",
       "    </tr>\n",
       "    <tr>\n",
       "      <th>2</th>\n",
       "      <td>190307.065297</td>\n",
       "      <td>190307.065297</td>\n",
       "      <td>180921.195890</td>\n",
       "      <td>190307.065297</td>\n",
       "      <td>190307.065297</td>\n",
       "      <td>194710.597945</td>\n",
       "      <td>190307.065297</td>\n",
       "      <td>194710.597945</td>\n",
       "      <td>194710.597945</td>\n",
       "      <td>190307.065297</td>\n",
       "      <td>...</td>\n",
       "      <td>194710.597945</td>\n",
       "      <td>190307.065297</td>\n",
       "      <td>190307.065297</td>\n",
       "      <td>190307.065297</td>\n",
       "      <td>190307.065297</td>\n",
       "      <td>194710.597945</td>\n",
       "      <td>190307.065297</td>\n",
       "      <td>190307.065297</td>\n",
       "      <td>190307.065297</td>\n",
       "      <td>190307.065297</td>\n",
       "    </tr>\n",
       "    <tr>\n",
       "      <th>3</th>\n",
       "      <td>198605.298973</td>\n",
       "      <td>198605.298973</td>\n",
       "      <td>202210.597945</td>\n",
       "      <td>198605.298973</td>\n",
       "      <td>198605.298973</td>\n",
       "      <td>180921.195890</td>\n",
       "      <td>198605.298973</td>\n",
       "      <td>180921.195890</td>\n",
       "      <td>204307.065297</td>\n",
       "      <td>198605.298973</td>\n",
       "      <td>...</td>\n",
       "      <td>180921.195890</td>\n",
       "      <td>198605.298973</td>\n",
       "      <td>180921.195890</td>\n",
       "      <td>198605.298973</td>\n",
       "      <td>198605.298973</td>\n",
       "      <td>204307.065297</td>\n",
       "      <td>198605.298973</td>\n",
       "      <td>198605.298973</td>\n",
       "      <td>198605.298973</td>\n",
       "      <td>180921.195890</td>\n",
       "    </tr>\n",
       "    <tr>\n",
       "      <th>4</th>\n",
       "      <td>186884.239178</td>\n",
       "      <td>186884.239178</td>\n",
       "      <td>181473.731963</td>\n",
       "      <td>186884.239178</td>\n",
       "      <td>186884.239178</td>\n",
       "      <td>181210.597945</td>\n",
       "      <td>186884.239178</td>\n",
       "      <td>180921.195890</td>\n",
       "      <td>188230.298973</td>\n",
       "      <td>186884.239178</td>\n",
       "      <td>...</td>\n",
       "      <td>204307.065297</td>\n",
       "      <td>186884.239178</td>\n",
       "      <td>198605.298973</td>\n",
       "      <td>186884.239178</td>\n",
       "      <td>186884.239178</td>\n",
       "      <td>188230.298973</td>\n",
       "      <td>186884.239178</td>\n",
       "      <td>186884.239178</td>\n",
       "      <td>186884.239178</td>\n",
       "      <td>198605.298973</td>\n",
       "    </tr>\n",
       "    <tr>\n",
       "      <th>...</th>\n",
       "      <td>...</td>\n",
       "      <td>...</td>\n",
       "      <td>...</td>\n",
       "      <td>...</td>\n",
       "      <td>...</td>\n",
       "      <td>...</td>\n",
       "      <td>...</td>\n",
       "      <td>...</td>\n",
       "      <td>...</td>\n",
       "      <td>...</td>\n",
       "      <td>...</td>\n",
       "      <td>...</td>\n",
       "      <td>...</td>\n",
       "      <td>...</td>\n",
       "      <td>...</td>\n",
       "      <td>...</td>\n",
       "      <td>...</td>\n",
       "      <td>...</td>\n",
       "      <td>...</td>\n",
       "      <td>...</td>\n",
       "      <td>...</td>\n",
       "    </tr>\n",
       "    <tr>\n",
       "      <th>1455</th>\n",
       "      <td>191008.321880</td>\n",
       "      <td>181105.930480</td>\n",
       "      <td>164644.954610</td>\n",
       "      <td>180153.548734</td>\n",
       "      <td>180925.939654</td>\n",
       "      <td>176887.998279</td>\n",
       "      <td>179927.498691</td>\n",
       "      <td>192929.458176</td>\n",
       "      <td>184477.799519</td>\n",
       "      <td>181144.751697</td>\n",
       "      <td>...</td>\n",
       "      <td>225239.593811</td>\n",
       "      <td>181998.639885</td>\n",
       "      <td>214852.720535</td>\n",
       "      <td>186175.352826</td>\n",
       "      <td>186781.834858</td>\n",
       "      <td>139864.757430</td>\n",
       "      <td>183429.208693</td>\n",
       "      <td>186423.144608</td>\n",
       "      <td>173349.107835</td>\n",
       "      <td>175152.475038</td>\n",
       "    </tr>\n",
       "    <tr>\n",
       "      <th>1456</th>\n",
       "      <td>190994.377348</td>\n",
       "      <td>181101.722396</td>\n",
       "      <td>164656.185679</td>\n",
       "      <td>180149.608712</td>\n",
       "      <td>180921.869640</td>\n",
       "      <td>176886.198471</td>\n",
       "      <td>179923.925450</td>\n",
       "      <td>188651.728711</td>\n",
       "      <td>184470.259503</td>\n",
       "      <td>181140.490427</td>\n",
       "      <td>...</td>\n",
       "      <td>149775.505057</td>\n",
       "      <td>181993.728559</td>\n",
       "      <td>142294.935037</td>\n",
       "      <td>186167.147721</td>\n",
       "      <td>186772.989637</td>\n",
       "      <td>139912.625607</td>\n",
       "      <td>145447.457932</td>\n",
       "      <td>186414.600745</td>\n",
       "      <td>173350.413921</td>\n",
       "      <td>175152.347444</td>\n",
       "    </tr>\n",
       "    <tr>\n",
       "      <th>1457</th>\n",
       "      <td>191010.918360</td>\n",
       "      <td>181121.624791</td>\n",
       "      <td>164705.312238</td>\n",
       "      <td>180172.412678</td>\n",
       "      <td>180941.827176</td>\n",
       "      <td>176917.735425</td>\n",
       "      <td>179945.719707</td>\n",
       "      <td>208946.709723</td>\n",
       "      <td>184490.553415</td>\n",
       "      <td>181160.490087</td>\n",
       "      <td>...</td>\n",
       "      <td>151696.032648</td>\n",
       "      <td>182013.368300</td>\n",
       "      <td>214798.938186</td>\n",
       "      <td>186184.633306</td>\n",
       "      <td>186790.414250</td>\n",
       "      <td>212089.378113</td>\n",
       "      <td>183423.001617</td>\n",
       "      <td>186432.228099</td>\n",
       "      <td>173379.385926</td>\n",
       "      <td>175181.484278</td>\n",
       "    </tr>\n",
       "    <tr>\n",
       "      <th>1458</th>\n",
       "      <td>191076.561040</td>\n",
       "      <td>181180.384856</td>\n",
       "      <td>164815.479649</td>\n",
       "      <td>180238.311600</td>\n",
       "      <td>181000.509051</td>\n",
       "      <td>177002.970691</td>\n",
       "      <td>180008.394783</td>\n",
       "      <td>146019.507537</td>\n",
       "      <td>184555.691974</td>\n",
       "      <td>181219.589471</td>\n",
       "      <td>...</td>\n",
       "      <td>149870.646439</td>\n",
       "      <td>182072.574069</td>\n",
       "      <td>157059.517483</td>\n",
       "      <td>186243.515540</td>\n",
       "      <td>122609.619105</td>\n",
       "      <td>212182.229003</td>\n",
       "      <td>183484.132594</td>\n",
       "      <td>186492.024792</td>\n",
       "      <td>173452.940913</td>\n",
       "      <td>175257.773764</td>\n",
       "    </tr>\n",
       "    <tr>\n",
       "      <th>1459</th>\n",
       "      <td>191034.031447</td>\n",
       "      <td>181153.524206</td>\n",
       "      <td>164790.949401</td>\n",
       "      <td>180209.239661</td>\n",
       "      <td>180973.863739</td>\n",
       "      <td>176969.816726</td>\n",
       "      <td>179980.982776</td>\n",
       "      <td>128553.911959</td>\n",
       "      <td>184522.016822</td>\n",
       "      <td>181192.534392</td>\n",
       "      <td>...</td>\n",
       "      <td>149858.429331</td>\n",
       "      <td>182044.599577</td>\n",
       "      <td>156997.548531</td>\n",
       "      <td>186211.194283</td>\n",
       "      <td>186850.166564</td>\n",
       "      <td>140007.982579</td>\n",
       "      <td>183453.721468</td>\n",
       "      <td>186458.915072</td>\n",
       "      <td>173428.214835</td>\n",
       "      <td>175230.117025</td>\n",
       "    </tr>\n",
       "  </tbody>\n",
       "</table>\n",
       "<p>1460 rows × 28 columns</p>\n",
       "</div>"
      ],
      "text/plain": [
       "           MSZoning         Street       LotShape    LandContour  \\\n",
       "0     180921.195890  180921.195890  180921.195890  180921.195890   \n",
       "1     194710.597945  194710.597945  194710.597945  194710.597945   \n",
       "2     190307.065297  190307.065297  180921.195890  190307.065297   \n",
       "3     198605.298973  198605.298973  202210.597945  198605.298973   \n",
       "4     186884.239178  186884.239178  181473.731963  186884.239178   \n",
       "...             ...            ...            ...            ...   \n",
       "1455  191008.321880  181105.930480  164644.954610  180153.548734   \n",
       "1456  190994.377348  181101.722396  164656.185679  180149.608712   \n",
       "1457  191010.918360  181121.624791  164705.312238  180172.412678   \n",
       "1458  191076.561040  181180.384856  164815.479649  180238.311600   \n",
       "1459  191034.031447  181153.524206  164790.949401  180209.239661   \n",
       "\n",
       "          Utilities      LotConfig      LandSlope   Neighborhood  \\\n",
       "0     180921.195890  180921.195890  180921.195890  180921.195890   \n",
       "1     194710.597945  180921.195890  194710.597945  180921.195890   \n",
       "2     190307.065297  194710.597945  190307.065297  194710.597945   \n",
       "3     198605.298973  180921.195890  198605.298973  180921.195890   \n",
       "4     186884.239178  181210.597945  186884.239178  180921.195890   \n",
       "...             ...            ...            ...            ...   \n",
       "1455  180925.939654  176887.998279  179927.498691  192929.458176   \n",
       "1456  180921.869640  176886.198471  179923.925450  188651.728711   \n",
       "1457  180941.827176  176917.735425  179945.719707  208946.709723   \n",
       "1458  181000.509051  177002.970691  180008.394783  146019.507537   \n",
       "1459  180973.863739  176969.816726  179980.982776  128553.911959   \n",
       "\n",
       "         Condition1     Condition2  ...     Foundation        Heating  \\\n",
       "0     180921.195890  180921.195890  ...  180921.195890  180921.195890   \n",
       "1     180921.195890  194710.597945  ...  180921.195890  194710.597945   \n",
       "2     194710.597945  190307.065297  ...  194710.597945  190307.065297   \n",
       "3     204307.065297  198605.298973  ...  180921.195890  198605.298973   \n",
       "4     188230.298973  186884.239178  ...  204307.065297  186884.239178   \n",
       "...             ...            ...  ...            ...            ...   \n",
       "1455  184477.799519  181144.751697  ...  225239.593811  181998.639885   \n",
       "1456  184470.259503  181140.490427  ...  149775.505057  181993.728559   \n",
       "1457  184490.553415  181160.490087  ...  151696.032648  182013.368300   \n",
       "1458  184555.691974  181219.589471  ...  149870.646439  182072.574069   \n",
       "1459  184522.016822  181192.534392  ...  149858.429331  182044.599577   \n",
       "\n",
       "          HeatingQC     CentralAir     Electrical    KitchenQual  \\\n",
       "0     180921.195890  180921.195890  180921.195890  180921.195890   \n",
       "1     194710.597945  194710.597945  194710.597945  180921.195890   \n",
       "2     190307.065297  190307.065297  190307.065297  194710.597945   \n",
       "3     180921.195890  198605.298973  198605.298973  204307.065297   \n",
       "4     198605.298973  186884.239178  186884.239178  188230.298973   \n",
       "...             ...            ...            ...            ...   \n",
       "1455  214852.720535  186175.352826  186781.834858  139864.757430   \n",
       "1456  142294.935037  186167.147721  186772.989637  139912.625607   \n",
       "1457  214798.938186  186184.633306  186790.414250  212089.378113   \n",
       "1458  157059.517483  186243.515540  122609.619105  212182.229003   \n",
       "1459  156997.548531  186211.194283  186850.166564  140007.982579   \n",
       "\n",
       "         Functional     PavedDrive       SaleType  SaleCondition  \n",
       "0     180921.195890  180921.195890  180921.195890  180921.195890  \n",
       "1     194710.597945  194710.597945  194710.597945  194710.597945  \n",
       "2     190307.065297  190307.065297  190307.065297  190307.065297  \n",
       "3     198605.298973  198605.298973  198605.298973  180921.195890  \n",
       "4     186884.239178  186884.239178  186884.239178  198605.298973  \n",
       "...             ...            ...            ...            ...  \n",
       "1455  183429.208693  186423.144608  173349.107835  175152.475038  \n",
       "1456  145447.457932  186414.600745  173350.413921  175152.347444  \n",
       "1457  183423.001617  186432.228099  173379.385926  175181.484278  \n",
       "1458  183484.132594  186492.024792  173452.940913  175257.773764  \n",
       "1459  183453.721468  186458.915072  173428.214835  175230.117025  \n",
       "\n",
       "[1460 rows x 28 columns]"
      ]
     },
     "execution_count": 45,
     "metadata": {},
     "output_type": "execute_result"
    }
   ],
   "source": [
    "catb.fit_transform(X_train[colunas_categoricas], y_train)"
   ]
  },
  {
   "cell_type": "markdown",
   "metadata": {},
   "source": [
    "## Numericas"
   ]
  },
  {
   "cell_type": "markdown",
   "metadata": {},
   "source": [
    "### Standard Scaler"
   ]
  },
  {
   "cell_type": "code",
   "execution_count": 46,
   "metadata": {},
   "outputs": [],
   "source": [
    "from sklearn.preprocessing import StandardScaler"
   ]
  },
  {
   "cell_type": "code",
   "execution_count": 47,
   "metadata": {},
   "outputs": [],
   "source": [
    "std = StandardScaler()"
   ]
  },
  {
   "cell_type": "code",
   "execution_count": 50,
   "metadata": {},
   "outputs": [
    {
     "data": {
      "text/plain": [
       "array([[-1.73086488,  0.07337496, -0.20714171, ..., -0.08768781,\n",
       "        -1.5991111 ,  0.13877749],\n",
       "       [-1.7284922 , -0.87256276, -0.09188637, ..., -0.08768781,\n",
       "        -0.48911005, -0.61443862],\n",
       "       [-1.72611953,  0.07337496,  0.07347998, ..., -0.08768781,\n",
       "         0.99089135,  0.13877749],\n",
       "       ...,\n",
       "       [ 1.72611953,  0.30985939, -0.14781027, ...,  4.95311151,\n",
       "        -0.48911005,  1.64520971],\n",
       "       [ 1.7284922 , -0.87256276, -0.08016039, ..., -0.08768781,\n",
       "        -0.8591104 ,  1.64520971],\n",
       "       [ 1.73086488, -0.87256276, -0.05811155, ..., -0.08768781,\n",
       "        -0.1191097 ,  0.13877749]])"
      ]
     },
     "execution_count": 50,
     "metadata": {},
     "output_type": "execute_result"
    }
   ],
   "source": [
    "std.fit_transform(X_train[colunas_numericas])"
   ]
  },
  {
   "cell_type": "markdown",
   "metadata": {},
   "source": [
    "### MinMaxScaler"
   ]
  },
  {
   "cell_type": "code",
   "execution_count": 51,
   "metadata": {},
   "outputs": [],
   "source": [
    "from sklearn.preprocessing import MinMaxScaler"
   ]
  },
  {
   "cell_type": "code",
   "execution_count": 52,
   "metadata": {},
   "outputs": [],
   "source": [
    "minmax = MinMaxScaler()"
   ]
  },
  {
   "cell_type": "code",
   "execution_count": 53,
   "metadata": {},
   "outputs": [
    {
     "data": {
      "text/plain": [
       "array([[0.00000000e+00, 2.35294118e-01, 3.34198042e-02, ...,\n",
       "        0.00000000e+00, 9.09090909e-02, 5.00000000e-01],\n",
       "       [6.85400960e-04, 0.00000000e+00, 3.87950174e-02, ...,\n",
       "        0.00000000e+00, 3.63636364e-01, 2.50000000e-01],\n",
       "       [1.37080192e-03, 2.35294118e-01, 4.65072799e-02, ...,\n",
       "        0.00000000e+00, 7.27272727e-01, 5.00000000e-01],\n",
       "       ...,\n",
       "       [9.98629198e-01, 2.94117647e-01, 3.61868705e-02, ...,\n",
       "        1.61290323e-01, 3.63636364e-01, 1.00000000e+00],\n",
       "       [9.99314599e-01, 0.00000000e+00, 3.93418869e-02, ...,\n",
       "        0.00000000e+00, 2.72727273e-01, 1.00000000e+00],\n",
       "       [1.00000000e+00, 0.00000000e+00, 4.03701886e-02, ...,\n",
       "        0.00000000e+00, 4.54545455e-01, 5.00000000e-01]])"
      ]
     },
     "execution_count": 53,
     "metadata": {},
     "output_type": "execute_result"
    }
   ],
   "source": [
    "minmax.fit_transform(X_train[colunas_numericas])"
   ]
  },
  {
   "cell_type": "markdown",
   "metadata": {},
   "source": [
    "### MinAbsScaler"
   ]
  },
  {
   "cell_type": "code",
   "execution_count": 54,
   "metadata": {},
   "outputs": [],
   "source": [
    "from sklearn.preprocessing import MaxAbsScaler"
   ]
  },
  {
   "cell_type": "code",
   "execution_count": 55,
   "metadata": {},
   "outputs": [],
   "source": [
    "maxabs = MaxAbsScaler()"
   ]
  },
  {
   "cell_type": "code",
   "execution_count": 56,
   "metadata": {},
   "outputs": [
    {
     "data": {
      "text/plain": [
       "array([[6.84931507e-04, 3.15789474e-01, 3.92575902e-02, ...,\n",
       "        0.00000000e+00, 1.66666667e-01, 9.99004975e-01],\n",
       "       [1.36986301e-03, 1.05263158e-01, 4.46003391e-02, ...,\n",
       "        0.00000000e+00, 4.16666667e-01, 9.98507463e-01],\n",
       "       [2.05479452e-03, 3.15789474e-01, 5.22660224e-02, ...,\n",
       "        0.00000000e+00, 7.50000000e-01, 9.99004975e-01],\n",
       "       ...,\n",
       "       [9.98630137e-01, 3.68421053e-01, 4.20079444e-02, ...,\n",
       "        1.61290323e-01, 4.16666667e-01, 1.00000000e+00],\n",
       "       [9.99315068e-01, 1.05263158e-01, 4.51439058e-02, ...,\n",
       "        0.00000000e+00, 3.33333333e-01, 1.00000000e+00],\n",
       "       [1.00000000e+00, 1.05263158e-01, 4.61659969e-02, ...,\n",
       "        0.00000000e+00, 5.00000000e-01, 9.99004975e-01]])"
      ]
     },
     "execution_count": 56,
     "metadata": {},
     "output_type": "execute_result"
    }
   ],
   "source": [
    "maxabs.fit_transform(X_train[colunas_numericas])"
   ]
  }
 ],
 "metadata": {
  "kernelspec": {
   "display_name": "Python 3",
   "language": "python",
   "name": "python3"
  },
  "language_info": {
   "codemirror_mode": {
    "name": "ipython",
    "version": 3
   },
   "file_extension": ".py",
   "mimetype": "text/x-python",
   "name": "python",
   "nbconvert_exporter": "python",
   "pygments_lexer": "ipython3",
   "version": "3.8.2"
  }
 },
 "nbformat": 4,
 "nbformat_minor": 4
}
