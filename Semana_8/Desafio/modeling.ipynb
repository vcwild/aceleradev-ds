{
 "metadata": {
  "language_info": {
   "codemirror_mode": {
    "name": "ipython",
    "version": 3
   },
   "file_extension": ".py",
   "mimetype": "text/x-python",
   "name": "python",
   "nbconvert_exporter": "python",
   "pygments_lexer": "ipython3",
   "version": "3.7.7-final"
  },
  "orig_nbformat": 2,
  "kernelspec": {
   "name": "python37764bitvenvvenvf8aff628cc844bdbaf40a1034be26cb1",
   "display_name": "Python 3.7.7 64-bit ('venv': venv)"
  }
 },
 "nbformat": 4,
 "nbformat_minor": 2,
 "cells": [
  {
   "cell_type": "code",
   "execution_count": 1,
   "metadata": {},
   "outputs": [],
   "source": []
  },
  {
   "cell_type": "code",
   "execution_count": 2,
   "metadata": {},
   "outputs": [],
   "source": []
  },
  {
   "cell_type": "code",
   "execution_count": 3,
   "metadata": {},
   "outputs": [],
   "source": []
  },
  {
   "cell_type": "code",
   "execution_count": 4,
   "metadata": {},
   "outputs": [],
   "source": [
    "label = 'NU_NOTA_MT'\n",
    "\n",
    "tidy_train[label] = train_df[label]"
   ]
  },
  {
   "cell_type": "code",
   "execution_count": 5,
   "metadata": {},
   "outputs": [],
   "source": [
    "df = tidy_train.select_dtypes('number')\n",
    "df.fillna(-1, inplace=True)\n",
    "\n",
    "X = df.drop('NU_NOTA_MT', axis=1)\n",
    "y = df['NU_NOTA_MT']"
   ]
  },
  {
   "cell_type": "markdown",
   "metadata": {},
   "source": [
    "from sklearn.model_selection import train_test_split\n",
    "\n",
    "Xtrain, Xval, ytrain, yval = train_test_split(X,y, train_size=0.75, random_state=42)\n",
    "Xtrain.shape, Xval.shape, ytrain.shape, yval.shape "
   ]
  },
  {
   "cell_type": "code",
   "execution_count": null,
   "metadata": {
    "tags": []
   },
   "outputs": [],
   "source": [
    "from sklearn.feature_selection import SelectFromModel\n",
    "from sklearn.metrics import mean_absolute_error, mean_squared_error\n",
    "\n",
    "from sklearn.linear_model import LinearRegression, Ridge, Lasso\n",
    "from sklearn.ensemble import RandomForestRegressor\n",
    "from xgboost import XGBRegressor\n",
    "\n",
    "k_vs_score = []\n",
    "for k in range(2, Xtrain.shape[1], 2):\n",
    "  #selector_model = LinearRegression(normalize=True)\n",
    "  #selector_model = Ridge(alpha=0.1, normalize=True)\n",
    "  selector_model = Lasso(alpha=1.,normalize=True)\n",
    "  #selector_model = RandomForestRegressor(random_state=1, n_jobs=-1)\n",
    "  selector = SelectFromModel(selector_model, max_features=k, threshold=-np.inf)\n",
    "\n",
    "  selector.fit(Xtrain, ytrain)\n",
    "\n",
    "  #Xtrain2 = np.zeros((Xtrain.shape[0], 7))\n",
    "  Xtrain2 = selector.transform(Xtrain)\n",
    "  #Xtrain2[:, -1] = Xtrain['START YEAR'].values\n",
    "\n",
    "  #Xval2 = np.zeros((Xval.shape[0], 7))\n",
    "  Xval2 = selector.transform(Xval)\n",
    "  #Xval2[:, -1] = Xval['START YEAR'].values\n",
    "\n",
    "  #print(Xtrain.shape, Xtrain2.shape)\n",
    "\n",
    "  #Xtrain.columns[selector.get_support()]\n",
    "\n",
    "  mdl = RandomForestRegressor(criterion='mse', n_estimators=1000, random_state=0, n_jobs=-1, max_depth=9)\n",
    "  #mdl = XGBRegressor(objective=\"reg:squarederror\", seed=0)\n",
    "  mdl.fit(Xtrain2, ytrain)\n",
    "\n",
    "  p = mdl.predict(Xval2)\n",
    "\n",
    "  score = mean_absolute_error(yval, p)\n",
    "  print(\"k = {} - MAE = {}\".format(k, score))\n",
    "\n",
    "  mask = selector.get_support()\n",
    "  print(Xtrain.columns[mask])\n",
    "\n",
    "  k_vs_score.append(score)\n",
    "  #break\n",
    "\n",
    "# k = 28 - MAE = 43.9954746831755 LR/RF\n",
    "# k = 12 - MAE = 44.2187036125273 RF/RF\n",
    "# k = 10 - MAE = 43.741711593358595 LASSO/RF\n",
    "# k = 28 - MAE = 42.49656642909788 LASSO/RF"
   ]
  },
  {
   "cell_type": "code",
   "execution_count": 6,
   "metadata": {
    "tags": []
   },
   "outputs": [],
   "source": [
    "from sklearn.linear_model import Lasso\n",
    "from sklearn.feature_selection import SelectFromModel\n",
    "from sklearn.ensemble import RandomForestRegressor\n",
    "\n",
    "selector_model = Lasso(alpha=1.,normalize=True)\n",
    "selector = SelectFromModel(selector_model, max_features=28, threshold=-np.inf)\n",
    "\n",
    "Xtrain = df.drop('NU_NOTA_MT', axis=1)\n",
    "ytrain = df['NU_NOTA_MT']\n",
    "\n",
    "selector.fit(Xtrain, ytrain)\n",
    "\n",
    "Xtrain2 = selector.transform(Xtrain)\n",
    "\n",
    "model = RandomForestRegressor(criterion='mse', n_estimators=1000, max_depth=9, n_jobs=-1, random_state=0)\n",
    "model.fit(Xtrain2, ytrain);\n",
    "\n",
    "#Xval2 = selector.transform(Xval)\n",
    "\n",
    "\n",
    "#ypred = model.predict(Xval2)\n",
    "\n",
    "#mae_rf = mean_absolute_error(yval, ypred)\n",
    "#rmse_rf = np.sqrt(mean_squared_error(yval, ypred))\n",
    "\n",
    "#print(mae_rf,rmse_rf)"
   ]
  },
  {
   "cell_type": "code",
   "execution_count": 7,
   "metadata": {},
   "outputs": [],
   "source": [
    "Xtest = test_df[X.columns]\n",
    "Xtest.fillna(-1, inplace=True)\n",
    "\n",
    "Xtest2 = selector.transform(Xtest)\n",
    "\n",
    "ypred = model.predict(Xtest2)"
   ]
  },
  {
   "cell_type": "code",
   "execution_count": 8,
   "metadata": {},
   "outputs": [],
   "source": [
    "answer = pd.DataFrame({'NU_INSCRICAO':test_df.NU_INSCRICAO,\n",
    "                        'TP_PRESENCA_CN':test_df.TP_PRESENCA_CN,\n",
    "                        'NU_NOTA_MT':ypred})"
   ]
  },
  {
   "cell_type": "code",
   "execution_count": 9,
   "metadata": {},
   "outputs": [],
   "source": [
    "for index, row in answer.iterrows():\n",
    "    if row['TP_PRESENCA_CN'] == 0:\n",
    "        answer.loc[index,'NU_NOTA_MT'] = np.nan\n",
    "answer['NU_NOTA_MT'] = answer['NU_NOTA_MT'].apply(lambda x: 0 if x < 250 else x)"
   ]
  },
  {
   "cell_type": "code",
   "execution_count": 10,
   "metadata": {},
   "outputs": [],
   "source": [
    "answer.drop('TP_PRESENCA_CN', axis=1, inplace=True)\n",
    "answer.to_csv('answer.csv', index=False)\n"
   ]
  },
  {
   "cell_type": "code",
   "execution_count": 11,
   "metadata": {
    "tags": []
   },
   "outputs": [
    {
     "output_type": "stream",
     "name": "stdout",
     "text": "\u001b[37mVersão: \u001b[32m1.0.14\u001b[0m\n\n\u001b[0m\u001b[36mUsando arquivo de configuração: /home/vcwild/.codenation.yml\n\u001b[0m\u001b[36m\nExecutando testes...\n\n\u001b[0m{\"score\": 93.75923111050471}\nPreparando code review... 100% |████████████████████████████████████████|  [9s:0s]\u001b[32m\nCódigos submetidos com sucesso! \n\u001b[0m\u001b[32m\nSua nota é: 93.759231\n\u001b[0m\u001b[36m\nParabéns! Você superou este desafio!\n\u001b[0m\u001b[36m\nO que fazer agora?\n\u001b[0m\u001b[36m- Você pode continuar sua jornada escolhendo um novo desafio em https://www.codenation.com.br\n\u001b[0m\u001b[36m- Você pode ajudar outros desenvolvedores revisando códigos ou respondendo dúvidas no forum do desafio\n\u001b[0m\u001b[36m- Lembre-se que ensinar é uma ótima forma de ganhar reconhecimento e gera um bom karma ;)\n\u001b[0m"
    }
   ],
   "source": [
    "! codenation submit -c enem-2"
   ]
  },
  {
   "cell_type": "markdown",
   "metadata": {
    "tags": []
   },
   "source": [
    "from sklearn.feature_selection import SelectFromModel\n",
    "from sklearn.metrics import mean_absolute_error\n",
    "\n",
    "from sklearn.linear_model import LinearRegression, Ridge, Lasso\n",
    "from sklearn.ensemble import RandomForestRegressor\n",
    "from xgboost import XGBRegressor\n",
    "\n",
    "\n",
    "fs = []\n",
    "for seed in range(1000):\n",
    "\n",
    "  np.random.seed(seed)\n",
    "  k = np.random.randint(2, 20, 1)[0]\n",
    "  selected = np.random.choice(Xtrain.columns, k, replace=False)\n",
    "  #print(selected)\n",
    "  \n",
    "  Xtrain2 = Xtrain[selected]\n",
    "  Xval2 = Xval[selected]\n",
    "  \n",
    "  #mdl = RandomForestRegressor(n_estimators=1000, random_state=seed, n_jobs=-1)\n",
    "  mdl = XGBRegressor(objective=\"reg:squarederror\", seed=0)\n",
    "  mdl.fit(Xtrain2, ytrain)\n",
    "\n",
    "  p = mdl.predict(Xval2)\n",
    "\n",
    "  score = mean_absolute_error(yval, p)\n",
    "  if score < 46:\n",
    "    print(\"seed = {} - k = {} - MAE = {}\".format(seed, k, score))\n",
    "    fs.append(p)\n"
   ]
  },
  {
   "cell_type": "code",
   "execution_count": null,
   "metadata": {},
   "outputs": [],
   "source": []
  }
 ]
}