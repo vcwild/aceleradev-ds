{
 "metadata": {
  "language_info": {
   "codemirror_mode": {
    "name": "ipython",
    "version": 3
   },
   "file_extension": ".py",
   "mimetype": "text/x-python",
   "name": "python",
   "nbconvert_exporter": "python",
   "pygments_lexer": "ipython3",
   "version": "3.7.6-final"
  },
  "orig_nbformat": 2,
  "kernelspec": {
   "name": "python_defaultSpec_1597356130275",
   "display_name": "Python 3.7.6 64-bit ('base': conda)"
  }
 },
 "nbformat": 4,
 "nbformat_minor": 2,
 "cells": [
  {
   "cell_type": "code",
   "execution_count": 1,
   "metadata": {},
   "outputs": [],
   "source": [
    "import pandas as pd\n",
    "import numpy as np"
   ]
  },
  {
   "cell_type": "markdown",
   "metadata": {},
   "source": [
    "## Setup"
   ]
  },
  {
   "cell_type": "code",
   "execution_count": 2,
   "metadata": {},
   "outputs": [],
   "source": [
    "train_df = pd.read_csv('./train.csv')\n",
    "test_df = pd.read_csv('./test.csv')\n",
    "\n",
    "train_df.drop('Unnamed: 0', axis=1, inplace=True)\n",
    "\n",
    "test_labels = test_df.columns.values.tolist()\n",
    "tidy_train = train_df[test_labels]"
   ]
  },
  {
   "cell_type": "markdown",
   "metadata": {},
   "source": [
    "## Cleaning the Data"
   ]
  },
  {
   "cell_type": "code",
   "execution_count": 3,
   "metadata": {},
   "outputs": [],
   "source": [
    "tidy_train['TP_SEXO'] = tidy_train['TP_SEXO'].map({'F':0, 'M':1}) \n",
    "\n",
    "tidy_train['TP_COR_RACA'] = tidy_train['TP_COR_RACA'].map({\n",
    "    0:0, 6:0, 1:1, 2:0, 3:0, 4:1, 5:0\n",
    "})\n",
    "tidy_train['TP_ESCOLA'] = tidy_train['TP_ESCOLA'].map({\n",
    "    1:0, 2:0, 3:1, 4:0\n",
    "})\n",
    "\n",
    "test_df['TP_SEXO'] = test_df['TP_SEXO'].map({'F':0, 'M':1}) \n",
    "\n",
    "test_df['TP_COR_RACA'] = test_df['TP_COR_RACA'].map({\n",
    "    0:0, 6:0, 1:1, 2:0, 3:0, 4:1, 5:0\n",
    "})\n",
    "\n",
    "test_df['TP_ESCOLA'] = test_df['TP_ESCOLA'].map({1:0, 2:0, 3:1, 4:0})"
   ]
  },
  {
   "cell_type": "code",
   "execution_count": 4,
   "metadata": {},
   "outputs": [],
   "source": [
    "label = 'NU_NOTA_MT'\n",
    "\n",
    "tidy_train[label] = train_df[label]\n",
    "\n",
    "df = tidy_train.select_dtypes('number')\n",
    "df.fillna(-1, inplace=True)\n",
    "\n",
    "X = df.drop('NU_NOTA_MT', axis=1)\n",
    "y = df['NU_NOTA_MT']"
   ]
  },
  {
   "cell_type": "markdown",
   "metadata": {},
   "source": [
    "## Modeling"
   ]
  },
  {
   "cell_type": "code",
   "execution_count": 5,
   "metadata": {
    "tags": []
   },
   "outputs": [
    {
     "output_type": "stream",
     "name": "stdout",
     "text": "Selected features:\nIndex(['CO_UF_RESIDENCIA', 'NU_IDADE', 'TP_SEXO', 'TP_COR_RACA',\n       'TP_NACIONALIDADE', 'TP_ST_CONCLUSAO', 'TP_ANO_CONCLUIU', 'TP_ESCOLA',\n       'TP_ENSINO', 'IN_TREINEIRO', 'TP_DEPENDENCIA_ADM_ESC', 'IN_BAIXA_VISAO',\n       'IN_CEGUEIRA', 'IN_SURDEZ', 'IN_DISLEXIA', 'IN_DISCALCULIA',\n       'IN_SABATISTA', 'IN_GESTANTE', 'IN_IDOSO', 'TP_PRESENCA_CN',\n       'TP_PRESENCA_CH', 'TP_PRESENCA_LC', 'NU_NOTA_CN', 'NU_NOTA_CH',\n       'NU_NOTA_LC', 'TP_LINGUA', 'TP_STATUS_REDACAO', 'NU_NOTA_COMP1'],\n      dtype='object')\n"
    }
   ],
   "source": [
    "from sklearn.linear_model import Lasso\n",
    "from sklearn.feature_selection import SelectFromModel\n",
    "from sklearn.ensemble import RandomForestRegressor\n",
    "\n",
    "## Selector will pick columns to use in the model\n",
    "selector_model = Lasso(alpha=1.,normalize=True)\n",
    "selector = SelectFromModel(selector_model, max_features=28, threshold=-np.inf)\n",
    "\n",
    "Xtrain = df.drop('NU_NOTA_MT', axis=1)\n",
    "ytrain = df['NU_NOTA_MT']\n",
    "\n",
    "selector.fit(Xtrain, ytrain)\n",
    "\n",
    "mask = selector.get_support()\n",
    "print(f'Selected features:\\n{Xtrain.columns[mask]}')"
   ]
  },
  {
   "cell_type": "markdown",
   "metadata": {},
   "source": [
    "## Prediction"
   ]
  },
  {
   "cell_type": "code",
   "execution_count": 6,
   "metadata": {},
   "outputs": [],
   "source": [
    "Xtest = test_df[X.columns]\n",
    "Xtest.fillna(-1, inplace=True)\n",
    "\n",
    "Xtrain2 = selector.transform(Xtrain)\n",
    "\n",
    "model = RandomForestRegressor(criterion='mse', n_estimators=1000, max_depth=9, n_jobs=-1, random_state=0)\n",
    "model.fit(Xtrain2, ytrain);\n",
    "\n",
    "Xtest2 = selector.transform(Xtest)\n",
    "\n",
    "ypred = model.predict(Xtest2)"
   ]
  },
  {
   "cell_type": "markdown",
   "metadata": {},
   "source": [
    "## Post-processing"
   ]
  },
  {
   "cell_type": "code",
   "execution_count": 7,
   "metadata": {},
   "outputs": [],
   "source": [
    "answer = pd.DataFrame({'NU_INSCRICAO':test_df.NU_INSCRICAO,\n",
    "                        'TP_PRESENCA_CN':test_df.TP_PRESENCA_CN,\n",
    "                        'NU_NOTA_MT':ypred})\n",
    "\n",
    "for index, row in answer.iterrows():\n",
    "    if row['TP_PRESENCA_CN'] == 0:\n",
    "        answer.loc[index,'NU_NOTA_MT'] = np.nan\n",
    "answer['NU_NOTA_MT'] = answer['NU_NOTA_MT'].apply(lambda x: 0 if x < 250 else x)\n",
    "\n",
    "answer.drop('TP_PRESENCA_CN', axis=1, inplace=True)\n",
    "answer.to_csv('answer.csv', index=False)"
   ]
  },
  {
   "cell_type": "markdown",
   "metadata": {},
   "source": [
    "## Submit"
   ]
  },
  {
   "cell_type": "code",
   "execution_count": 8,
   "metadata": {
    "tags": []
   },
   "outputs": [
    {
     "output_type": "stream",
     "name": "stdout",
     "text": "\u001b[37mVersão: \u001b[32m1.0.14\u001b[0m\n\n\u001b[0m\u001b[36mUsando arquivo de configuração: /home/vcwild/.codenation.yml\n\u001b[0m\u001b[36m\nExecutando testes...\n\n\u001b[0m{\"score\": 93.75923111050471}\nPreparando code review... 100% |████████████████████████████████████████|  [6s:0s]\u001b[32m\nCódigos submetidos com sucesso! \n\u001b[0m\u001b[32m\nSua nota é: 93.759231\n\u001b[0m\u001b[36m\nParabéns! Você superou este desafio!\n\u001b[0m\u001b[36m\nO que fazer agora?\n\u001b[0m\u001b[36m- Você pode continuar sua jornada escolhendo um novo desafio em https://www.codenation.com.br\n\u001b[0m\u001b[36m- Você pode ajudar outros desenvolvedores revisando códigos ou respondendo dúvidas no forum do desafio\n\u001b[0m\u001b[36m- Lembre-se que ensinar é uma ótima forma de ganhar reconhecimento e gera um bom karma ;)\n\u001b[0m"
    }
   ],
   "source": [
    "! codenation submit -c enem-2"
   ]
  }
 ]
}