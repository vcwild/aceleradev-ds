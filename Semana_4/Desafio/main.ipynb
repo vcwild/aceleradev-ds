{
 "cells": [
  {
   "cell_type": "markdown",
   "metadata": {},
   "source": [
    "# Desafio 3\n",
    "\n",
    "Neste desafio, iremos praticar nossos conhecimentos sobre distribuições de probabilidade. Para isso,\n",
    "dividiremos este desafio em duas partes:\n",
    "    \n",
    "1. A primeira parte contará com 3 questões sobre um *data set* artificial com dados de uma amostra normal e\n",
    "    uma binomial.\n",
    "2. A segunda parte será sobre a análise da distribuição de uma variável do _data set_ [Pulsar Star](https://archive.ics.uci.edu/ml/datasets/HTRU2), contendo 2 questões.\n",
    "\n",
    "> Obs.: Por favor, não modifique o nome das funções de resposta."
   ]
  },
  {
   "cell_type": "markdown",
   "metadata": {},
   "source": [
    "## _Setup_ geral"
   ]
  },
  {
   "cell_type": "code",
   "execution_count": 1,
   "metadata": {},
   "outputs": [],
   "source": [
    "import pandas as pd\n",
    "import matplotlib.pyplot as plt\n",
    "import numpy as np\n",
    "import scipy.stats as sct\n",
    "import seaborn as sns\n",
    "from IPython import get_ipython\n",
    "from statsmodels.distributions.empirical_distribution import ECDF\n",
    "from IPython.core.pylabtools import figsize"
   ]
  },
  {
   "cell_type": "code",
   "execution_count": 2,
   "metadata": {},
   "outputs": [],
   "source": [
    "figsize(12, 8)\n",
    "\n",
    "sns.set()"
   ]
  },
  {
   "cell_type": "markdown",
   "metadata": {},
   "source": [
    "## Parte 1"
   ]
  },
  {
   "cell_type": "markdown",
   "metadata": {},
   "source": [
    "### _Setup_ da parte 1"
   ]
  },
  {
   "cell_type": "code",
   "execution_count": 3,
   "metadata": {},
   "outputs": [],
   "source": [
    "np.random.seed(42)\n",
    "    \n",
    "dataframe = pd.DataFrame({\"normal\": sct.norm.rvs(20, 4, size=10000),\n",
    "                     \"binomial\": sct.binom.rvs(100, 0.2, size=10000)})"
   ]
  },
  {
   "cell_type": "markdown",
   "metadata": {},
   "source": [
    "## Inicie sua análise a partir da parte 1 a partir daqui"
   ]
  },
  {
   "cell_type": "code",
   "execution_count": 4,
   "metadata": {},
   "outputs": [
    {
     "output_type": "execute_result",
     "data": {
      "text/plain": "(0.31, -0.01, -0.316)"
     },
     "metadata": {},
     "execution_count": 4
    }
   ],
   "source": [
    "# Sua análise da parte 1 começa aqui.\n",
    "qt = dataframe.quantile((0.25, 0.5, 0.75))\n",
    "tuple((qt['normal'] - qt['binomial']).round(3))\n"
   ]
  },
  {
   "cell_type": "markdown",
   "metadata": {},
   "source": [
    "## Questão 1\n",
    "\n",
    "Qual a diferença entre os quartis (Q1, Q2 e Q3) das variáveis `normal` e `binomial` de `dataframe`? Responda como uma tupla de três elementos arredondados para três casas decimais.\n",
    "\n",
    "Em outra palavras, sejam `q1_norm`, `q2_norm` e `q3_norm` os quantis da variável `normal` e `q1_binom`, `q2_binom` e `q3_binom` os quantis da variável `binom`, qual a diferença `(q1_norm - q1 binom, q2_norm - q2_binom, q3_norm - q3_binom)`?"
   ]
  },
  {
   "cell_type": "code",
   "execution_count": 5,
   "metadata": {},
   "outputs": [],
   "source": [
    "def q1():\n",
    "    qt = dataframe.quantile((0.25, 0.5, 0.75))\n",
    "    \n",
    "    return tuple((qt['normal'] - qt['binomial']).round(3))"
   ]
  },
  {
   "cell_type": "markdown",
   "metadata": {},
   "source": [
    "Para refletir:\n",
    "\n",
    "* Você esperava valores dessa magnitude?\n",
    "\n",
    "* Você é capaz de explicar como distribuições aparentemente tão diferentes (discreta e contínua, por exemplo) conseguem dar esses valores?"
   ]
  },
  {
   "cell_type": "markdown",
   "metadata": {},
   "source": [
    "## Questão 2\n",
    "\n",
    "Considere o intervalo $[\\bar{x} - s, \\bar{x} + s]$, onde $\\bar{x}$ é a média amostral e $s$ é o desvio padrão. Qual a probabilidade nesse intervalo, calculada pela função de distribuição acumulada empírica (CDF empírica) da variável `normal`? Responda como uma único escalar arredondado para três casas decimais."
   ]
  },
  {
   "cell_type": "code",
   "execution_count": 6,
   "metadata": {},
   "outputs": [],
   "source": [
    "def q2():\n",
    "    ecdf = ECDF(dataframe['normal'])\n",
    "    mean = dataframe['normal'].mean()\n",
    "    std = dataframe['normal'].std()\n",
    "    \n",
    "    return float(ecdf(mean + std) - ecdf(mean - std))"
   ]
  },
  {
   "cell_type": "markdown",
   "metadata": {},
   "source": [
    "Para refletir:\n",
    "\n",
    "* Esse valor se aproxima do esperado teórico?\n",
    "* Experimente também para os intervalos $[\\bar{x} - 2s, \\bar{x} + 2s]$ e $[\\bar{x} - 3s, \\bar{x} + 3s]$."
   ]
  },
  {
   "cell_type": "code",
   "execution_count": 7,
   "metadata": {
    "tags": []
   },
   "outputs": [
    {
     "output_type": "stream",
     "name": "stdout",
     "text": "No intervalo de média +/- 1 x desvio padrão, espera-se que estejam 68.38% dos dados\nNo intervalo de média +/- 2 x desvio padrão, espera-se que estejam 95.38% dos dados\nNo intervalo de média +/- 3 x desvio padrão, espera-se que estejam 99.72999999999999% dos dados\n"
    }
   ],
   "source": [
    "def q2n(n):\n",
    "    ecdf = ECDF(dataframe['normal'])\n",
    "    mean = dataframe['normal'].mean()\n",
    "    std = dataframe['normal'].std()\n",
    "    \n",
    "    return round(float(ecdf(mean + n*std) - ecdf(mean - n*std)), 4)\n",
    "\n",
    "\n",
    "for i in range(0, 3):\n",
    "    print(f'No intervalo de média +/- {i+ 1} x desvio padrão, espera-se que estejam {q2n(i + 1)*100}% dos dados')"
   ]
  },
  {
   "cell_type": "markdown",
   "metadata": {},
   "source": [
    "## Questão 3\n",
    "\n",
    "Qual é a diferença entre as médias e as variâncias das variáveis `binomial` e `normal`? Responda como uma tupla de dois elementos arredondados para três casas decimais.\n",
    "\n",
    "Em outras palavras, sejam `m_binom` e `v_binom` a média e a variância da variável `binomial`, e `m_norm` e `v_norm` a média e a variância da variável `normal`. Quais as diferenças `(m_binom - m_norm, v_binom - v_norm)`?"
   ]
  },
  {
   "cell_type": "code",
   "execution_count": 8,
   "metadata": {},
   "outputs": [],
   "source": [
    "def q3():\n",
    "    means = dataframe.mean()\n",
    "    variances = dataframe.var()\n",
    "\n",
    "    return (\n",
    "        round(means['binomial'] - means['normal'], 3), \n",
    "        round(variances['binomial'] - variances['normal'], 3)\n",
    "    )"
   ]
  },
  {
   "cell_type": "code",
   "execution_count": 9,
   "metadata": {},
   "outputs": [
    {
     "output_type": "execute_result",
     "data": {
      "text/plain": "(0.106, 0.22)"
     },
     "metadata": {},
     "execution_count": 9
    }
   ],
   "source": [
    "q3()"
   ]
  },
  {
   "cell_type": "markdown",
   "metadata": {},
   "source": [
    "Para refletir:\n",
    "\n",
    "* Você esperava valores dessa magnitude?\n",
    " \n",
    "- Reposta: Sim, pois o valor de amostra binomial é pequeno.\n",
    "\n",
    "* Qual o efeito de aumentar ou diminuir $n$ (atualmente 100) na distribuição da variável `binomial`?\n",
    "\n",
    "- Reposta: Aumentar o número de ocorrências de $n$ no modelo binomial faz com que a distribuição se aproxime cada vez mais do modelo normal, portanto, diminuindo as diferenças dos valores de média e variância entre os modelos e vice versa."
   ]
  },
  {
   "cell_type": "markdown",
   "metadata": {},
   "source": [
    "## Parte 2"
   ]
  },
  {
   "cell_type": "markdown",
   "metadata": {},
   "source": [
    "### _Setup_ da parte 2"
   ]
  },
  {
   "cell_type": "code",
   "execution_count": 10,
   "metadata": {},
   "outputs": [],
   "source": [
    "stars = pd.read_csv(\"pulsar_stars.csv\")\n",
    "\n",
    "stars.rename({old_name: new_name\n",
    "              for (old_name, new_name)\n",
    "              in zip(stars.columns,\n",
    "                     [\"mean_profile\", \"sd_profile\", \"kurt_profile\", \"skew_profile\", \"mean_curve\", \"sd_curve\", \"kurt_curve\", \"skew_curve\", \"target\"])\n",
    "             },\n",
    "             axis=1, inplace=True)\n",
    "\n",
    "stars.loc[:, \"target\"] = stars.target.astype(bool)"
   ]
  },
  {
   "cell_type": "markdown",
   "metadata": {},
   "source": [
    "## Inicie sua análise da parte 2 a partir daqui"
   ]
  },
  {
   "cell_type": "code",
   "execution_count": 11,
   "metadata": {},
   "outputs": [
    {
     "output_type": "execute_result",
     "data": {
      "text/plain": "       mean_profile    sd_profile  kurt_profile  skew_profile    mean_curve  \\\ncount  17897.000000  17897.000000  17897.000000  17897.000000  17897.000000   \nmean     111.078321     46.549021      0.477897      1.770417     12.614926   \nstd       25.652705      6.843040      1.064056      6.168058     29.473637   \nmin        5.812500     24.772042     -1.876011     -1.791886      0.213211   \n25%      100.929688     42.375426      0.027108     -0.188528      1.923077   \n50%      115.078125     46.946435      0.223241      0.198736      2.801839   \n75%      127.085938     51.022887      0.473349      0.928206      5.464883   \nmax      192.617188     98.778911      8.069522     68.101622    223.392140   \n\n           sd_curve    kurt_curve    skew_curve  \ncount  17897.000000  17897.000000  17897.000000  \nmean      26.326918      8.303574    104.859419  \nstd       19.471042      4.506217    106.517270  \nmin        7.370432     -3.139270     -1.976976  \n25%       14.437330      5.781485     34.957119  \n50%       18.459977      8.433872     83.068996  \n75%       28.428152     10.702973    139.310905  \nmax      110.642211     34.539844   1191.000837  ",
      "text/html": "<div>\n<style scoped>\n    .dataframe tbody tr th:only-of-type {\n        vertical-align: middle;\n    }\n\n    .dataframe tbody tr th {\n        vertical-align: top;\n    }\n\n    .dataframe thead th {\n        text-align: right;\n    }\n</style>\n<table border=\"1\" class=\"dataframe\">\n  <thead>\n    <tr style=\"text-align: right;\">\n      <th></th>\n      <th>mean_profile</th>\n      <th>sd_profile</th>\n      <th>kurt_profile</th>\n      <th>skew_profile</th>\n      <th>mean_curve</th>\n      <th>sd_curve</th>\n      <th>kurt_curve</th>\n      <th>skew_curve</th>\n    </tr>\n  </thead>\n  <tbody>\n    <tr>\n      <th>count</th>\n      <td>17897.000000</td>\n      <td>17897.000000</td>\n      <td>17897.000000</td>\n      <td>17897.000000</td>\n      <td>17897.000000</td>\n      <td>17897.000000</td>\n      <td>17897.000000</td>\n      <td>17897.000000</td>\n    </tr>\n    <tr>\n      <th>mean</th>\n      <td>111.078321</td>\n      <td>46.549021</td>\n      <td>0.477897</td>\n      <td>1.770417</td>\n      <td>12.614926</td>\n      <td>26.326918</td>\n      <td>8.303574</td>\n      <td>104.859419</td>\n    </tr>\n    <tr>\n      <th>std</th>\n      <td>25.652705</td>\n      <td>6.843040</td>\n      <td>1.064056</td>\n      <td>6.168058</td>\n      <td>29.473637</td>\n      <td>19.471042</td>\n      <td>4.506217</td>\n      <td>106.517270</td>\n    </tr>\n    <tr>\n      <th>min</th>\n      <td>5.812500</td>\n      <td>24.772042</td>\n      <td>-1.876011</td>\n      <td>-1.791886</td>\n      <td>0.213211</td>\n      <td>7.370432</td>\n      <td>-3.139270</td>\n      <td>-1.976976</td>\n    </tr>\n    <tr>\n      <th>25%</th>\n      <td>100.929688</td>\n      <td>42.375426</td>\n      <td>0.027108</td>\n      <td>-0.188528</td>\n      <td>1.923077</td>\n      <td>14.437330</td>\n      <td>5.781485</td>\n      <td>34.957119</td>\n    </tr>\n    <tr>\n      <th>50%</th>\n      <td>115.078125</td>\n      <td>46.946435</td>\n      <td>0.223241</td>\n      <td>0.198736</td>\n      <td>2.801839</td>\n      <td>18.459977</td>\n      <td>8.433872</td>\n      <td>83.068996</td>\n    </tr>\n    <tr>\n      <th>75%</th>\n      <td>127.085938</td>\n      <td>51.022887</td>\n      <td>0.473349</td>\n      <td>0.928206</td>\n      <td>5.464883</td>\n      <td>28.428152</td>\n      <td>10.702973</td>\n      <td>139.310905</td>\n    </tr>\n    <tr>\n      <th>max</th>\n      <td>192.617188</td>\n      <td>98.778911</td>\n      <td>8.069522</td>\n      <td>68.101622</td>\n      <td>223.392140</td>\n      <td>110.642211</td>\n      <td>34.539844</td>\n      <td>1191.000837</td>\n    </tr>\n  </tbody>\n</table>\n</div>"
     },
     "metadata": {},
     "execution_count": 11
    }
   ],
   "source": [
    "stars.describe()"
   ]
  },
  {
   "cell_type": "code",
   "execution_count": 12,
   "metadata": {
    "tags": []
   },
   "outputs": [
    {
     "output_type": "stream",
     "name": "stdout",
     "text": "<class 'pandas.core.frame.DataFrame'>\nRangeIndex: 17897 entries, 0 to 17896\nData columns (total 9 columns):\nmean_profile    17897 non-null float64\nsd_profile      17897 non-null float64\nkurt_profile    17897 non-null float64\nskew_profile    17897 non-null float64\nmean_curve      17897 non-null float64\nsd_curve        17897 non-null float64\nkurt_curve      17897 non-null float64\nskew_curve      17897 non-null float64\ntarget          17897 non-null bool\ndtypes: bool(1), float64(8)\nmemory usage: 1.1 MB\n"
    }
   ],
   "source": [
    "stars.info()"
   ]
  },
  {
   "cell_type": "markdown",
   "metadata": {},
   "source": [
    "## Questão 4\n",
    "\n",
    "Considerando a variável `mean_profile` de `stars`:\n",
    "\n",
    "1. Filtre apenas os valores de `mean_profile` onde `target == 0` (ou seja, onde a estrela não é um pulsar).\n",
    "2. Padronize a variável `mean_profile` filtrada anteriormente para ter média 0 e variância 1.\n",
    "\n",
    "Chamaremos a variável resultante de `false_pulsar_mean_profile_standardized`.\n",
    "\n",
    "Encontre os quantis teóricos para uma distribuição normal de média 0 e variância 1 para 0.80, 0.90 e 0.95 através da função `norm.ppf()` disponível em `scipy.stats`.\n",
    "\n",
    "Quais as probabilidade associadas a esses quantis utilizando a CDF empírica da variável `false_pulsar_mean_profile_standardized`? Responda como uma tupla de três elementos arredondados para três casas decimais."
   ]
  },
  {
   "cell_type": "code",
   "execution_count": 13,
   "metadata": {},
   "outputs": [],
   "source": [
    "    non_pulsar = stars[stars['target'] == 0]['mean_profile']\n",
    "    std_non_pulsar = (non_pulsar - non_pulsar.mean()) / non_pulsar.std()\n",
    "    # print(std_non_pulsar.mean(), std_non_pulsar.var())"
   ]
  },
  {
   "cell_type": "code",
   "execution_count": 14,
   "metadata": {},
   "outputs": [
    {
     "output_type": "execute_result",
     "data": {
      "text/plain": "(0.806, 0.911, 0.959)"
     },
     "metadata": {},
     "execution_count": 14
    }
   ],
   "source": [
    "def q4():\n",
    "    non_pulsar = stars[stars['target'] == 0]['mean_profile']\n",
    "    std_non_pulsar = (non_pulsar - non_pulsar.mean()) / non_pulsar.std()\n",
    "    ecdf = ECDF(std_non_pulsar)\n",
    "    q80 = sct.norm.ppf(0.8, loc = 0, scale = 1)\n",
    "    q90 = sct.norm.ppf(0.9, loc = 0, scale = 1)\n",
    "    q95 = sct.norm.ppf(0.95, loc = 0, scale = 1)\n",
    "\n",
    "    return (\n",
    "        ecdf(q80).round(3), \n",
    "        ecdf(q90).round(3), \n",
    "        ecdf(q95).round(3)\n",
    "    )\n",
    "\n",
    "\n",
    "q4()"
   ]
  },
  {
   "cell_type": "markdown",
   "metadata": {},
   "source": [
    "Para refletir:\n",
    "\n",
    "* Os valores encontrados fazem sentido?\n",
    "* O que isso pode dizer sobre a distribuição da variável `false_pulsar_mean_profile_standardized`?"
   ]
  },
  {
   "cell_type": "code",
   "execution_count": 15,
   "metadata": {},
   "outputs": [
    {
     "output_type": "display_data",
     "data": {
      "text/plain": "<Figure size 864x576 with 1 Axes>",
      "image/svg+xml": "<?xml version=\"1.0\" encoding=\"utf-8\" standalone=\"no\"?>\n<!DOCTYPE svg PUBLIC \"-//W3C//DTD SVG 1.1//EN\"\n  \"http://www.w3.org/Graphics/SVG/1.1/DTD/svg11.dtd\">\n<!-- Created with matplotlib (https://matplotlib.org/) -->\n<svg height=\"485.373437pt\" version=\"1.1\" viewBox=\"0 0 717.992187 485.373437\" width=\"717.992187pt\" xmlns=\"http://www.w3.org/2000/svg\" xmlns:xlink=\"http://www.w3.org/1999/xlink\">\n <defs>\n  <style type=\"text/css\">\n*{stroke-linecap:butt;stroke-linejoin:round;white-space:pre;}\n  </style>\n </defs>\n <g id=\"figure_1\">\n  <g id=\"patch_1\">\n   <path d=\"M 0 485.373437 \nL 717.992187 485.373437 \nL 717.992187 0 \nL 0 0 \nz\n\" style=\"fill:#ffffff;\"/>\n  </g>\n  <g id=\"axes_1\">\n   <g id=\"patch_2\">\n    <path d=\"M 41.192188 442.08 \nL 710.792188 442.08 \nL 710.792188 7.2 \nL 41.192188 7.2 \nz\n\" style=\"fill:#eaeaf2;\"/>\n   </g>\n   <g id=\"matplotlib.axis_1\">\n    <g id=\"xtick_1\">\n     <g id=\"line2d_1\">\n      <path clip-path=\"url(#pb5b29b48cf)\" d=\"M 78.949574 442.08 \nL 78.949574 7.2 \n\" style=\"fill:none;stroke:#ffffff;stroke-linecap:round;\"/>\n     </g>\n     <g id=\"text_1\">\n      <!-- −6 -->\n      <defs>\n       <path d=\"M 10.59375 35.5 \nL 73.1875 35.5 \nL 73.1875 27.203125 \nL 10.59375 27.203125 \nz\n\" id=\"DejaVuSans-8722\"/>\n       <path d=\"M 33.015625 40.375 \nQ 26.375 40.375 22.484375 35.828125 \nQ 18.609375 31.296875 18.609375 23.390625 \nQ 18.609375 15.53125 22.484375 10.953125 \nQ 26.375 6.390625 33.015625 6.390625 \nQ 39.65625 6.390625 43.53125 10.953125 \nQ 47.40625 15.53125 47.40625 23.390625 \nQ 47.40625 31.296875 43.53125 35.828125 \nQ 39.65625 40.375 33.015625 40.375 \nz\nM 52.59375 71.296875 \nL 52.59375 62.3125 \nQ 48.875 64.0625 45.09375 64.984375 \nQ 41.3125 65.921875 37.59375 65.921875 \nQ 27.828125 65.921875 22.671875 59.328125 \nQ 17.53125 52.734375 16.796875 39.40625 \nQ 19.671875 43.65625 24.015625 45.921875 \nQ 28.375 48.1875 33.59375 48.1875 \nQ 44.578125 48.1875 50.953125 41.515625 \nQ 57.328125 34.859375 57.328125 23.390625 \nQ 57.328125 12.15625 50.6875 5.359375 \nQ 44.046875 -1.421875 33.015625 -1.421875 \nQ 20.359375 -1.421875 13.671875 8.265625 \nQ 6.984375 17.96875 6.984375 36.375 \nQ 6.984375 53.65625 15.1875 63.9375 \nQ 23.390625 74.21875 37.203125 74.21875 \nQ 40.921875 74.21875 44.703125 73.484375 \nQ 48.484375 72.75 52.59375 71.296875 \nz\n\" id=\"DejaVuSans-54\"/>\n      </defs>\n      <g style=\"fill:#262626;\" transform=\"translate(70.841371 459.938281)scale(0.11 -0.11)\">\n       <use xlink:href=\"#DejaVuSans-8722\"/>\n       <use x=\"83.789062\" xlink:href=\"#DejaVuSans-54\"/>\n      </g>\n     </g>\n    </g>\n    <g id=\"xtick_2\">\n     <g id=\"line2d_2\">\n      <path clip-path=\"url(#pb5b29b48cf)\" d=\"M 190.336829 442.08 \nL 190.336829 7.2 \n\" style=\"fill:none;stroke:#ffffff;stroke-linecap:round;\"/>\n     </g>\n     <g id=\"text_2\">\n      <!-- −4 -->\n      <defs>\n       <path d=\"M 37.796875 64.3125 \nL 12.890625 25.390625 \nL 37.796875 25.390625 \nz\nM 35.203125 72.90625 \nL 47.609375 72.90625 \nL 47.609375 25.390625 \nL 58.015625 25.390625 \nL 58.015625 17.1875 \nL 47.609375 17.1875 \nL 47.609375 0 \nL 37.796875 0 \nL 37.796875 17.1875 \nL 4.890625 17.1875 \nL 4.890625 26.703125 \nz\n\" id=\"DejaVuSans-52\"/>\n      </defs>\n      <g style=\"fill:#262626;\" transform=\"translate(182.228626 459.938281)scale(0.11 -0.11)\">\n       <use xlink:href=\"#DejaVuSans-8722\"/>\n       <use x=\"83.789062\" xlink:href=\"#DejaVuSans-52\"/>\n      </g>\n     </g>\n    </g>\n    <g id=\"xtick_3\">\n     <g id=\"line2d_3\">\n      <path clip-path=\"url(#pb5b29b48cf)\" d=\"M 301.724085 442.08 \nL 301.724085 7.2 \n\" style=\"fill:none;stroke:#ffffff;stroke-linecap:round;\"/>\n     </g>\n     <g id=\"text_3\">\n      <!-- −2 -->\n      <defs>\n       <path d=\"M 19.1875 8.296875 \nL 53.609375 8.296875 \nL 53.609375 0 \nL 7.328125 0 \nL 7.328125 8.296875 \nQ 12.9375 14.109375 22.625 23.890625 \nQ 32.328125 33.6875 34.8125 36.53125 \nQ 39.546875 41.84375 41.421875 45.53125 \nQ 43.3125 49.21875 43.3125 52.78125 \nQ 43.3125 58.59375 39.234375 62.25 \nQ 35.15625 65.921875 28.609375 65.921875 \nQ 23.96875 65.921875 18.8125 64.3125 \nQ 13.671875 62.703125 7.8125 59.421875 \nL 7.8125 69.390625 \nQ 13.765625 71.78125 18.9375 73 \nQ 24.125 74.21875 28.421875 74.21875 \nQ 39.75 74.21875 46.484375 68.546875 \nQ 53.21875 62.890625 53.21875 53.421875 \nQ 53.21875 48.921875 51.53125 44.890625 \nQ 49.859375 40.875 45.40625 35.40625 \nQ 44.1875 33.984375 37.640625 27.21875 \nQ 31.109375 20.453125 19.1875 8.296875 \nz\n\" id=\"DejaVuSans-50\"/>\n      </defs>\n      <g style=\"fill:#262626;\" transform=\"translate(293.615882 459.938281)scale(0.11 -0.11)\">\n       <use xlink:href=\"#DejaVuSans-8722\"/>\n       <use x=\"83.789062\" xlink:href=\"#DejaVuSans-50\"/>\n      </g>\n     </g>\n    </g>\n    <g id=\"xtick_4\">\n     <g id=\"line2d_4\">\n      <path clip-path=\"url(#pb5b29b48cf)\" d=\"M 413.11134 442.08 \nL 413.11134 7.2 \n\" style=\"fill:none;stroke:#ffffff;stroke-linecap:round;\"/>\n     </g>\n     <g id=\"text_4\">\n      <!-- 0 -->\n      <defs>\n       <path d=\"M 31.78125 66.40625 \nQ 24.171875 66.40625 20.328125 58.90625 \nQ 16.5 51.421875 16.5 36.375 \nQ 16.5 21.390625 20.328125 13.890625 \nQ 24.171875 6.390625 31.78125 6.390625 \nQ 39.453125 6.390625 43.28125 13.890625 \nQ 47.125 21.390625 47.125 36.375 \nQ 47.125 51.421875 43.28125 58.90625 \nQ 39.453125 66.40625 31.78125 66.40625 \nz\nM 31.78125 74.21875 \nQ 44.046875 74.21875 50.515625 64.515625 \nQ 56.984375 54.828125 56.984375 36.375 \nQ 56.984375 17.96875 50.515625 8.265625 \nQ 44.046875 -1.421875 31.78125 -1.421875 \nQ 19.53125 -1.421875 13.0625 8.265625 \nQ 6.59375 17.96875 6.59375 36.375 \nQ 6.59375 54.828125 13.0625 64.515625 \nQ 19.53125 74.21875 31.78125 74.21875 \nz\n\" id=\"DejaVuSans-48\"/>\n      </defs>\n      <g style=\"fill:#262626;\" transform=\"translate(409.611965 459.938281)scale(0.11 -0.11)\">\n       <use xlink:href=\"#DejaVuSans-48\"/>\n      </g>\n     </g>\n    </g>\n    <g id=\"xtick_5\">\n     <g id=\"line2d_5\">\n      <path clip-path=\"url(#pb5b29b48cf)\" d=\"M 524.498596 442.08 \nL 524.498596 7.2 \n\" style=\"fill:none;stroke:#ffffff;stroke-linecap:round;\"/>\n     </g>\n     <g id=\"text_5\">\n      <!-- 2 -->\n      <g style=\"fill:#262626;\" transform=\"translate(520.999221 459.938281)scale(0.11 -0.11)\">\n       <use xlink:href=\"#DejaVuSans-50\"/>\n      </g>\n     </g>\n    </g>\n    <g id=\"xtick_6\">\n     <g id=\"line2d_6\">\n      <path clip-path=\"url(#pb5b29b48cf)\" d=\"M 635.885851 442.08 \nL 635.885851 7.2 \n\" style=\"fill:none;stroke:#ffffff;stroke-linecap:round;\"/>\n     </g>\n     <g id=\"text_6\">\n      <!-- 4 -->\n      <g style=\"fill:#262626;\" transform=\"translate(632.386476 459.938281)scale(0.11 -0.11)\">\n       <use xlink:href=\"#DejaVuSans-52\"/>\n      </g>\n     </g>\n    </g>\n    <g id=\"text_7\">\n     <!-- mean_profile -->\n     <defs>\n      <path d=\"M 52 44.1875 \nQ 55.375 50.25 60.0625 53.125 \nQ 64.75 56 71.09375 56 \nQ 79.640625 56 84.28125 50.015625 \nQ 88.921875 44.046875 88.921875 33.015625 \nL 88.921875 0 \nL 79.890625 0 \nL 79.890625 32.71875 \nQ 79.890625 40.578125 77.09375 44.375 \nQ 74.3125 48.1875 68.609375 48.1875 \nQ 61.625 48.1875 57.5625 43.546875 \nQ 53.515625 38.921875 53.515625 30.90625 \nL 53.515625 0 \nL 44.484375 0 \nL 44.484375 32.71875 \nQ 44.484375 40.625 41.703125 44.40625 \nQ 38.921875 48.1875 33.109375 48.1875 \nQ 26.21875 48.1875 22.15625 43.53125 \nQ 18.109375 38.875 18.109375 30.90625 \nL 18.109375 0 \nL 9.078125 0 \nL 9.078125 54.6875 \nL 18.109375 54.6875 \nL 18.109375 46.1875 \nQ 21.1875 51.21875 25.484375 53.609375 \nQ 29.78125 56 35.6875 56 \nQ 41.65625 56 45.828125 52.96875 \nQ 50 49.953125 52 44.1875 \nz\n\" id=\"DejaVuSans-109\"/>\n      <path d=\"M 56.203125 29.59375 \nL 56.203125 25.203125 \nL 14.890625 25.203125 \nQ 15.484375 15.921875 20.484375 11.0625 \nQ 25.484375 6.203125 34.421875 6.203125 \nQ 39.59375 6.203125 44.453125 7.46875 \nQ 49.3125 8.734375 54.109375 11.28125 \nL 54.109375 2.78125 \nQ 49.265625 0.734375 44.1875 -0.34375 \nQ 39.109375 -1.421875 33.890625 -1.421875 \nQ 20.796875 -1.421875 13.15625 6.1875 \nQ 5.515625 13.8125 5.515625 26.8125 \nQ 5.515625 40.234375 12.765625 48.109375 \nQ 20.015625 56 32.328125 56 \nQ 43.359375 56 49.78125 48.890625 \nQ 56.203125 41.796875 56.203125 29.59375 \nz\nM 47.21875 32.234375 \nQ 47.125 39.59375 43.09375 43.984375 \nQ 39.0625 48.390625 32.421875 48.390625 \nQ 24.90625 48.390625 20.390625 44.140625 \nQ 15.875 39.890625 15.1875 32.171875 \nz\n\" id=\"DejaVuSans-101\"/>\n      <path d=\"M 34.28125 27.484375 \nQ 23.390625 27.484375 19.1875 25 \nQ 14.984375 22.515625 14.984375 16.5 \nQ 14.984375 11.71875 18.140625 8.90625 \nQ 21.296875 6.109375 26.703125 6.109375 \nQ 34.1875 6.109375 38.703125 11.40625 \nQ 43.21875 16.703125 43.21875 25.484375 \nL 43.21875 27.484375 \nz\nM 52.203125 31.203125 \nL 52.203125 0 \nL 43.21875 0 \nL 43.21875 8.296875 \nQ 40.140625 3.328125 35.546875 0.953125 \nQ 30.953125 -1.421875 24.3125 -1.421875 \nQ 15.921875 -1.421875 10.953125 3.296875 \nQ 6 8.015625 6 15.921875 \nQ 6 25.140625 12.171875 29.828125 \nQ 18.359375 34.515625 30.609375 34.515625 \nL 43.21875 34.515625 \nL 43.21875 35.40625 \nQ 43.21875 41.609375 39.140625 45 \nQ 35.0625 48.390625 27.6875 48.390625 \nQ 23 48.390625 18.546875 47.265625 \nQ 14.109375 46.140625 10.015625 43.890625 \nL 10.015625 52.203125 \nQ 14.9375 54.109375 19.578125 55.046875 \nQ 24.21875 56 28.609375 56 \nQ 40.484375 56 46.34375 49.84375 \nQ 52.203125 43.703125 52.203125 31.203125 \nz\n\" id=\"DejaVuSans-97\"/>\n      <path d=\"M 54.890625 33.015625 \nL 54.890625 0 \nL 45.90625 0 \nL 45.90625 32.71875 \nQ 45.90625 40.484375 42.875 44.328125 \nQ 39.84375 48.1875 33.796875 48.1875 \nQ 26.515625 48.1875 22.3125 43.546875 \nQ 18.109375 38.921875 18.109375 30.90625 \nL 18.109375 0 \nL 9.078125 0 \nL 9.078125 54.6875 \nL 18.109375 54.6875 \nL 18.109375 46.1875 \nQ 21.34375 51.125 25.703125 53.5625 \nQ 30.078125 56 35.796875 56 \nQ 45.21875 56 50.046875 50.171875 \nQ 54.890625 44.34375 54.890625 33.015625 \nz\n\" id=\"DejaVuSans-110\"/>\n      <path d=\"M 50.984375 -16.609375 \nL 50.984375 -23.578125 \nL -0.984375 -23.578125 \nL -0.984375 -16.609375 \nz\n\" id=\"DejaVuSans-95\"/>\n      <path d=\"M 18.109375 8.203125 \nL 18.109375 -20.796875 \nL 9.078125 -20.796875 \nL 9.078125 54.6875 \nL 18.109375 54.6875 \nL 18.109375 46.390625 \nQ 20.953125 51.265625 25.265625 53.625 \nQ 29.59375 56 35.59375 56 \nQ 45.5625 56 51.78125 48.09375 \nQ 58.015625 40.1875 58.015625 27.296875 \nQ 58.015625 14.40625 51.78125 6.484375 \nQ 45.5625 -1.421875 35.59375 -1.421875 \nQ 29.59375 -1.421875 25.265625 0.953125 \nQ 20.953125 3.328125 18.109375 8.203125 \nz\nM 48.6875 27.296875 \nQ 48.6875 37.203125 44.609375 42.84375 \nQ 40.53125 48.484375 33.40625 48.484375 \nQ 26.265625 48.484375 22.1875 42.84375 \nQ 18.109375 37.203125 18.109375 27.296875 \nQ 18.109375 17.390625 22.1875 11.75 \nQ 26.265625 6.109375 33.40625 6.109375 \nQ 40.53125 6.109375 44.609375 11.75 \nQ 48.6875 17.390625 48.6875 27.296875 \nz\n\" id=\"DejaVuSans-112\"/>\n      <path d=\"M 41.109375 46.296875 \nQ 39.59375 47.171875 37.8125 47.578125 \nQ 36.03125 48 33.890625 48 \nQ 26.265625 48 22.1875 43.046875 \nQ 18.109375 38.09375 18.109375 28.8125 \nL 18.109375 0 \nL 9.078125 0 \nL 9.078125 54.6875 \nL 18.109375 54.6875 \nL 18.109375 46.1875 \nQ 20.953125 51.171875 25.484375 53.578125 \nQ 30.03125 56 36.53125 56 \nQ 37.453125 56 38.578125 55.875 \nQ 39.703125 55.765625 41.0625 55.515625 \nz\n\" id=\"DejaVuSans-114\"/>\n      <path d=\"M 30.609375 48.390625 \nQ 23.390625 48.390625 19.1875 42.75 \nQ 14.984375 37.109375 14.984375 27.296875 \nQ 14.984375 17.484375 19.15625 11.84375 \nQ 23.34375 6.203125 30.609375 6.203125 \nQ 37.796875 6.203125 41.984375 11.859375 \nQ 46.1875 17.53125 46.1875 27.296875 \nQ 46.1875 37.015625 41.984375 42.703125 \nQ 37.796875 48.390625 30.609375 48.390625 \nz\nM 30.609375 56 \nQ 42.328125 56 49.015625 48.375 \nQ 55.71875 40.765625 55.71875 27.296875 \nQ 55.71875 13.875 49.015625 6.21875 \nQ 42.328125 -1.421875 30.609375 -1.421875 \nQ 18.84375 -1.421875 12.171875 6.21875 \nQ 5.515625 13.875 5.515625 27.296875 \nQ 5.515625 40.765625 12.171875 48.375 \nQ 18.84375 56 30.609375 56 \nz\n\" id=\"DejaVuSans-111\"/>\n      <path d=\"M 37.109375 75.984375 \nL 37.109375 68.5 \nL 28.515625 68.5 \nQ 23.6875 68.5 21.796875 66.546875 \nQ 19.921875 64.59375 19.921875 59.515625 \nL 19.921875 54.6875 \nL 34.71875 54.6875 \nL 34.71875 47.703125 \nL 19.921875 47.703125 \nL 19.921875 0 \nL 10.890625 0 \nL 10.890625 47.703125 \nL 2.296875 47.703125 \nL 2.296875 54.6875 \nL 10.890625 54.6875 \nL 10.890625 58.5 \nQ 10.890625 67.625 15.140625 71.796875 \nQ 19.390625 75.984375 28.609375 75.984375 \nz\n\" id=\"DejaVuSans-102\"/>\n      <path d=\"M 9.421875 54.6875 \nL 18.40625 54.6875 \nL 18.40625 0 \nL 9.421875 0 \nz\nM 9.421875 75.984375 \nL 18.40625 75.984375 \nL 18.40625 64.59375 \nL 9.421875 64.59375 \nz\n\" id=\"DejaVuSans-105\"/>\n      <path d=\"M 9.421875 75.984375 \nL 18.40625 75.984375 \nL 18.40625 0 \nL 9.421875 0 \nz\n\" id=\"DejaVuSans-108\"/>\n     </defs>\n     <g style=\"fill:#262626;\" transform=\"translate(336.89375 475.344062)scale(0.12 -0.12)\">\n      <use xlink:href=\"#DejaVuSans-109\"/>\n      <use x=\"97.412109\" xlink:href=\"#DejaVuSans-101\"/>\n      <use x=\"158.935547\" xlink:href=\"#DejaVuSans-97\"/>\n      <use x=\"220.214844\" xlink:href=\"#DejaVuSans-110\"/>\n      <use x=\"283.59375\" xlink:href=\"#DejaVuSans-95\"/>\n      <use x=\"333.59375\" xlink:href=\"#DejaVuSans-112\"/>\n      <use x=\"397.070312\" xlink:href=\"#DejaVuSans-114\"/>\n      <use x=\"438.152344\" xlink:href=\"#DejaVuSans-111\"/>\n      <use x=\"499.333984\" xlink:href=\"#DejaVuSans-102\"/>\n      <use x=\"534.539062\" xlink:href=\"#DejaVuSans-105\"/>\n      <use x=\"562.322266\" xlink:href=\"#DejaVuSans-108\"/>\n      <use x=\"590.105469\" xlink:href=\"#DejaVuSans-101\"/>\n     </g>\n    </g>\n   </g>\n   <g id=\"matplotlib.axis_2\">\n    <g id=\"ytick_1\">\n     <g id=\"line2d_7\">\n      <path clip-path=\"url(#pb5b29b48cf)\" d=\"M 41.192188 442.08 \nL 710.792188 442.08 \n\" style=\"fill:none;stroke:#ffffff;stroke-linecap:round;\"/>\n     </g>\n     <g id=\"text_8\">\n      <!-- 0.00 -->\n      <defs>\n       <path d=\"M 10.6875 12.40625 \nL 21 12.40625 \nL 21 0 \nL 10.6875 0 \nz\n\" id=\"DejaVuSans-46\"/>\n      </defs>\n      <g style=\"fill:#262626;\" transform=\"translate(7.2 446.259141)scale(0.11 -0.11)\">\n       <use xlink:href=\"#DejaVuSans-48\"/>\n       <use x=\"63.623047\" xlink:href=\"#DejaVuSans-46\"/>\n       <use x=\"95.410156\" xlink:href=\"#DejaVuSans-48\"/>\n       <use x=\"159.033203\" xlink:href=\"#DejaVuSans-48\"/>\n      </g>\n     </g>\n    </g>\n    <g id=\"ytick_2\">\n     <g id=\"line2d_8\">\n      <path clip-path=\"url(#pb5b29b48cf)\" d=\"M 41.192188 392.565643 \nL 710.792188 392.565643 \n\" style=\"fill:none;stroke:#ffffff;stroke-linecap:round;\"/>\n     </g>\n     <g id=\"text_9\">\n      <!-- 0.05 -->\n      <defs>\n       <path d=\"M 10.796875 72.90625 \nL 49.515625 72.90625 \nL 49.515625 64.59375 \nL 19.828125 64.59375 \nL 19.828125 46.734375 \nQ 21.96875 47.46875 24.109375 47.828125 \nQ 26.265625 48.1875 28.421875 48.1875 \nQ 40.625 48.1875 47.75 41.5 \nQ 54.890625 34.8125 54.890625 23.390625 \nQ 54.890625 11.625 47.5625 5.09375 \nQ 40.234375 -1.421875 26.90625 -1.421875 \nQ 22.3125 -1.421875 17.546875 -0.640625 \nQ 12.796875 0.140625 7.71875 1.703125 \nL 7.71875 11.625 \nQ 12.109375 9.234375 16.796875 8.0625 \nQ 21.484375 6.890625 26.703125 6.890625 \nQ 35.15625 6.890625 40.078125 11.328125 \nQ 45.015625 15.765625 45.015625 23.390625 \nQ 45.015625 31 40.078125 35.4375 \nQ 35.15625 39.890625 26.703125 39.890625 \nQ 22.75 39.890625 18.8125 39.015625 \nQ 14.890625 38.140625 10.796875 36.28125 \nz\n\" id=\"DejaVuSans-53\"/>\n      </defs>\n      <g style=\"fill:#262626;\" transform=\"translate(7.2 396.744783)scale(0.11 -0.11)\">\n       <use xlink:href=\"#DejaVuSans-48\"/>\n       <use x=\"63.623047\" xlink:href=\"#DejaVuSans-46\"/>\n       <use x=\"95.410156\" xlink:href=\"#DejaVuSans-48\"/>\n       <use x=\"159.033203\" xlink:href=\"#DejaVuSans-53\"/>\n      </g>\n     </g>\n    </g>\n    <g id=\"ytick_3\">\n     <g id=\"line2d_9\">\n      <path clip-path=\"url(#pb5b29b48cf)\" d=\"M 41.192188 343.051286 \nL 710.792188 343.051286 \n\" style=\"fill:none;stroke:#ffffff;stroke-linecap:round;\"/>\n     </g>\n     <g id=\"text_10\">\n      <!-- 0.10 -->\n      <defs>\n       <path d=\"M 12.40625 8.296875 \nL 28.515625 8.296875 \nL 28.515625 63.921875 \nL 10.984375 60.40625 \nL 10.984375 69.390625 \nL 28.421875 72.90625 \nL 38.28125 72.90625 \nL 38.28125 8.296875 \nL 54.390625 8.296875 \nL 54.390625 0 \nL 12.40625 0 \nz\n\" id=\"DejaVuSans-49\"/>\n      </defs>\n      <g style=\"fill:#262626;\" transform=\"translate(7.2 347.230426)scale(0.11 -0.11)\">\n       <use xlink:href=\"#DejaVuSans-48\"/>\n       <use x=\"63.623047\" xlink:href=\"#DejaVuSans-46\"/>\n       <use x=\"95.410156\" xlink:href=\"#DejaVuSans-49\"/>\n       <use x=\"159.033203\" xlink:href=\"#DejaVuSans-48\"/>\n      </g>\n     </g>\n    </g>\n    <g id=\"ytick_4\">\n     <g id=\"line2d_10\">\n      <path clip-path=\"url(#pb5b29b48cf)\" d=\"M 41.192188 293.536928 \nL 710.792188 293.536928 \n\" style=\"fill:none;stroke:#ffffff;stroke-linecap:round;\"/>\n     </g>\n     <g id=\"text_11\">\n      <!-- 0.15 -->\n      <g style=\"fill:#262626;\" transform=\"translate(7.2 297.716069)scale(0.11 -0.11)\">\n       <use xlink:href=\"#DejaVuSans-48\"/>\n       <use x=\"63.623047\" xlink:href=\"#DejaVuSans-46\"/>\n       <use x=\"95.410156\" xlink:href=\"#DejaVuSans-49\"/>\n       <use x=\"159.033203\" xlink:href=\"#DejaVuSans-53\"/>\n      </g>\n     </g>\n    </g>\n    <g id=\"ytick_5\">\n     <g id=\"line2d_11\">\n      <path clip-path=\"url(#pb5b29b48cf)\" d=\"M 41.192188 244.022571 \nL 710.792188 244.022571 \n\" style=\"fill:none;stroke:#ffffff;stroke-linecap:round;\"/>\n     </g>\n     <g id=\"text_12\">\n      <!-- 0.20 -->\n      <g style=\"fill:#262626;\" transform=\"translate(7.2 248.201712)scale(0.11 -0.11)\">\n       <use xlink:href=\"#DejaVuSans-48\"/>\n       <use x=\"63.623047\" xlink:href=\"#DejaVuSans-46\"/>\n       <use x=\"95.410156\" xlink:href=\"#DejaVuSans-50\"/>\n       <use x=\"159.033203\" xlink:href=\"#DejaVuSans-48\"/>\n      </g>\n     </g>\n    </g>\n    <g id=\"ytick_6\">\n     <g id=\"line2d_12\">\n      <path clip-path=\"url(#pb5b29b48cf)\" d=\"M 41.192188 194.508214 \nL 710.792188 194.508214 \n\" style=\"fill:none;stroke:#ffffff;stroke-linecap:round;\"/>\n     </g>\n     <g id=\"text_13\">\n      <!-- 0.25 -->\n      <g style=\"fill:#262626;\" transform=\"translate(7.2 198.687355)scale(0.11 -0.11)\">\n       <use xlink:href=\"#DejaVuSans-48\"/>\n       <use x=\"63.623047\" xlink:href=\"#DejaVuSans-46\"/>\n       <use x=\"95.410156\" xlink:href=\"#DejaVuSans-50\"/>\n       <use x=\"159.033203\" xlink:href=\"#DejaVuSans-53\"/>\n      </g>\n     </g>\n    </g>\n    <g id=\"ytick_7\">\n     <g id=\"line2d_13\">\n      <path clip-path=\"url(#pb5b29b48cf)\" d=\"M 41.192188 144.993857 \nL 710.792188 144.993857 \n\" style=\"fill:none;stroke:#ffffff;stroke-linecap:round;\"/>\n     </g>\n     <g id=\"text_14\">\n      <!-- 0.30 -->\n      <defs>\n       <path d=\"M 40.578125 39.3125 \nQ 47.65625 37.796875 51.625 33 \nQ 55.609375 28.21875 55.609375 21.1875 \nQ 55.609375 10.40625 48.1875 4.484375 \nQ 40.765625 -1.421875 27.09375 -1.421875 \nQ 22.515625 -1.421875 17.65625 -0.515625 \nQ 12.796875 0.390625 7.625 2.203125 \nL 7.625 11.71875 \nQ 11.71875 9.328125 16.59375 8.109375 \nQ 21.484375 6.890625 26.8125 6.890625 \nQ 36.078125 6.890625 40.9375 10.546875 \nQ 45.796875 14.203125 45.796875 21.1875 \nQ 45.796875 27.640625 41.28125 31.265625 \nQ 36.765625 34.90625 28.71875 34.90625 \nL 20.21875 34.90625 \nL 20.21875 43.015625 \nL 29.109375 43.015625 \nQ 36.375 43.015625 40.234375 45.921875 \nQ 44.09375 48.828125 44.09375 54.296875 \nQ 44.09375 59.90625 40.109375 62.90625 \nQ 36.140625 65.921875 28.71875 65.921875 \nQ 24.65625 65.921875 20.015625 65.03125 \nQ 15.375 64.15625 9.8125 62.3125 \nL 9.8125 71.09375 \nQ 15.4375 72.65625 20.34375 73.4375 \nQ 25.25 74.21875 29.59375 74.21875 \nQ 40.828125 74.21875 47.359375 69.109375 \nQ 53.90625 64.015625 53.90625 55.328125 \nQ 53.90625 49.265625 50.4375 45.09375 \nQ 46.96875 40.921875 40.578125 39.3125 \nz\n\" id=\"DejaVuSans-51\"/>\n      </defs>\n      <g style=\"fill:#262626;\" transform=\"translate(7.2 149.172998)scale(0.11 -0.11)\">\n       <use xlink:href=\"#DejaVuSans-48\"/>\n       <use x=\"63.623047\" xlink:href=\"#DejaVuSans-46\"/>\n       <use x=\"95.410156\" xlink:href=\"#DejaVuSans-51\"/>\n       <use x=\"159.033203\" xlink:href=\"#DejaVuSans-48\"/>\n      </g>\n     </g>\n    </g>\n    <g id=\"ytick_8\">\n     <g id=\"line2d_14\">\n      <path clip-path=\"url(#pb5b29b48cf)\" d=\"M 41.192188 95.4795 \nL 710.792188 95.4795 \n\" style=\"fill:none;stroke:#ffffff;stroke-linecap:round;\"/>\n     </g>\n     <g id=\"text_15\">\n      <!-- 0.35 -->\n      <g style=\"fill:#262626;\" transform=\"translate(7.2 99.65864)scale(0.11 -0.11)\">\n       <use xlink:href=\"#DejaVuSans-48\"/>\n       <use x=\"63.623047\" xlink:href=\"#DejaVuSans-46\"/>\n       <use x=\"95.410156\" xlink:href=\"#DejaVuSans-51\"/>\n       <use x=\"159.033203\" xlink:href=\"#DejaVuSans-53\"/>\n      </g>\n     </g>\n    </g>\n    <g id=\"ytick_9\">\n     <g id=\"line2d_15\">\n      <path clip-path=\"url(#pb5b29b48cf)\" d=\"M 41.192188 45.965143 \nL 710.792188 45.965143 \n\" style=\"fill:none;stroke:#ffffff;stroke-linecap:round;\"/>\n     </g>\n     <g id=\"text_16\">\n      <!-- 0.40 -->\n      <g style=\"fill:#262626;\" transform=\"translate(7.2 50.144283)scale(0.11 -0.11)\">\n       <use xlink:href=\"#DejaVuSans-48\"/>\n       <use x=\"63.623047\" xlink:href=\"#DejaVuSans-46\"/>\n       <use x=\"95.410156\" xlink:href=\"#DejaVuSans-52\"/>\n       <use x=\"159.033203\" xlink:href=\"#DejaVuSans-48\"/>\n      </g>\n     </g>\n    </g>\n   </g>\n   <g id=\"patch_3\">\n    <path clip-path=\"url(#pb5b29b48cf)\" d=\"M 96.485596 442.08 \nL 107.66586 442.08 \nL 107.66586 441.776578 \nL 96.485596 441.776578 \nz\n\" style=\"fill:#4c72b0;opacity:0.4;stroke:#ffffff;stroke-linejoin:miter;\"/>\n   </g>\n   <g id=\"patch_4\">\n    <path clip-path=\"url(#pb5b29b48cf)\" d=\"M 107.66586 442.08 \nL 118.846124 442.08 \nL 118.846124 442.08 \nL 107.66586 442.08 \nz\n\" style=\"fill:#4c72b0;opacity:0.4;stroke:#ffffff;stroke-linejoin:miter;\"/>\n   </g>\n   <g id=\"patch_5\">\n    <path clip-path=\"url(#pb5b29b48cf)\" d=\"M 118.846124 442.08 \nL 130.026387 442.08 \nL 130.026387 441.776578 \nL 118.846124 441.776578 \nz\n\" style=\"fill:#4c72b0;opacity:0.4;stroke:#ffffff;stroke-linejoin:miter;\"/>\n   </g>\n   <g id=\"patch_6\">\n    <path clip-path=\"url(#pb5b29b48cf)\" d=\"M 130.026387 442.08 \nL 141.206651 442.08 \nL 141.206651 442.08 \nL 130.026387 442.08 \nz\n\" style=\"fill:#4c72b0;opacity:0.4;stroke:#ffffff;stroke-linejoin:miter;\"/>\n   </g>\n   <g id=\"patch_7\">\n    <path clip-path=\"url(#pb5b29b48cf)\" d=\"M 141.206651 442.08 \nL 152.386915 442.08 \nL 152.386915 441.169733 \nL 141.206651 441.169733 \nz\n\" style=\"fill:#4c72b0;opacity:0.4;stroke:#ffffff;stroke-linejoin:miter;\"/>\n   </g>\n   <g id=\"patch_8\">\n    <path clip-path=\"url(#pb5b29b48cf)\" d=\"M 152.386915 442.08 \nL 163.567178 442.08 \nL 163.567178 441.776578 \nL 152.386915 441.776578 \nz\n\" style=\"fill:#4c72b0;opacity:0.4;stroke:#ffffff;stroke-linejoin:miter;\"/>\n   </g>\n   <g id=\"patch_9\">\n    <path clip-path=\"url(#pb5b29b48cf)\" d=\"M 163.567178 442.08 \nL 174.747442 442.08 \nL 174.747442 441.776578 \nL 163.567178 441.776578 \nz\n\" style=\"fill:#4c72b0;opacity:0.4;stroke:#ffffff;stroke-linejoin:miter;\"/>\n   </g>\n   <g id=\"patch_10\">\n    <path clip-path=\"url(#pb5b29b48cf)\" d=\"M 174.747442 442.08 \nL 185.927706 442.08 \nL 185.927706 442.08 \nL 174.747442 442.08 \nz\n\" style=\"fill:#4c72b0;opacity:0.4;stroke:#ffffff;stroke-linejoin:miter;\"/>\n   </g>\n   <g id=\"patch_11\">\n    <path clip-path=\"url(#pb5b29b48cf)\" d=\"M 185.927706 442.08 \nL 197.107969 442.08 \nL 197.107969 441.776578 \nL 185.927706 441.776578 \nz\n\" style=\"fill:#4c72b0;opacity:0.4;stroke:#ffffff;stroke-linejoin:miter;\"/>\n   </g>\n   <g id=\"patch_12\">\n    <path clip-path=\"url(#pb5b29b48cf)\" d=\"M 197.107969 442.08 \nL 208.288233 442.08 \nL 208.288233 441.473155 \nL 197.107969 441.473155 \nz\n\" style=\"fill:#4c72b0;opacity:0.4;stroke:#ffffff;stroke-linejoin:miter;\"/>\n   </g>\n   <g id=\"patch_13\">\n    <path clip-path=\"url(#pb5b29b48cf)\" d=\"M 208.288233 442.08 \nL 219.468497 442.08 \nL 219.468497 441.473155 \nL 208.288233 441.473155 \nz\n\" style=\"fill:#4c72b0;opacity:0.4;stroke:#ffffff;stroke-linejoin:miter;\"/>\n   </g>\n   <g id=\"patch_14\">\n    <path clip-path=\"url(#pb5b29b48cf)\" d=\"M 219.468497 442.08 \nL 230.64876 442.08 \nL 230.64876 438.13551 \nL 219.468497 438.13551 \nz\n\" style=\"fill:#4c72b0;opacity:0.4;stroke:#ffffff;stroke-linejoin:miter;\"/>\n   </g>\n   <g id=\"patch_15\">\n    <path clip-path=\"url(#pb5b29b48cf)\" d=\"M 230.64876 442.08 \nL 241.829024 442.08 \nL 241.829024 440.562889 \nL 230.64876 440.562889 \nz\n\" style=\"fill:#4c72b0;opacity:0.4;stroke:#ffffff;stroke-linejoin:miter;\"/>\n   </g>\n   <g id=\"patch_16\">\n    <path clip-path=\"url(#pb5b29b48cf)\" d=\"M 241.829024 442.08 \nL 253.009287 442.08 \nL 253.009287 438.13551 \nL 241.829024 438.13551 \nz\n\" style=\"fill:#4c72b0;opacity:0.4;stroke:#ffffff;stroke-linejoin:miter;\"/>\n   </g>\n   <g id=\"patch_17\">\n    <path clip-path=\"url(#pb5b29b48cf)\" d=\"M 253.009287 442.08 \nL 264.189551 442.08 \nL 264.189551 437.832088 \nL 253.009287 437.832088 \nz\n\" style=\"fill:#4c72b0;opacity:0.4;stroke:#ffffff;stroke-linejoin:miter;\"/>\n   </g>\n   <g id=\"patch_18\">\n    <path clip-path=\"url(#pb5b29b48cf)\" d=\"M 264.189551 442.08 \nL 275.369815 442.08 \nL 275.369815 429.336264 \nL 264.189551 429.336264 \nz\n\" style=\"fill:#4c72b0;opacity:0.4;stroke:#ffffff;stroke-linejoin:miter;\"/>\n   </g>\n   <g id=\"patch_19\">\n    <path clip-path=\"url(#pb5b29b48cf)\" d=\"M 275.369815 442.08 \nL 286.550078 442.08 \nL 286.550078 416.592527 \nL 275.369815 416.592527 \nz\n\" style=\"fill:#4c72b0;opacity:0.4;stroke:#ffffff;stroke-linejoin:miter;\"/>\n   </g>\n   <g id=\"patch_20\">\n    <path clip-path=\"url(#pb5b29b48cf)\" d=\"M 286.550078 442.08 \nL 297.730342 442.08 \nL 297.730342 395.656389 \nL 286.550078 395.656389 \nz\n\" style=\"fill:#4c72b0;opacity:0.4;stroke:#ffffff;stroke-linejoin:miter;\"/>\n   </g>\n   <g id=\"patch_21\">\n    <path clip-path=\"url(#pb5b29b48cf)\" d=\"M 297.730342 442.08 \nL 308.910606 442.08 \nL 308.910606 373.809984 \nL 297.730342 373.809984 \nz\n\" style=\"fill:#4c72b0;opacity:0.4;stroke:#ffffff;stroke-linejoin:miter;\"/>\n   </g>\n   <g id=\"patch_22\">\n    <path clip-path=\"url(#pb5b29b48cf)\" d=\"M 308.910606 442.08 \nL 320.090869 442.08 \nL 320.090869 346.501978 \nL 308.910606 346.501978 \nz\n\" style=\"fill:#4c72b0;opacity:0.4;stroke:#ffffff;stroke-linejoin:miter;\"/>\n   </g>\n   <g id=\"patch_23\">\n    <path clip-path=\"url(#pb5b29b48cf)\" d=\"M 320.090869 442.08 \nL 331.271133 442.08 \nL 331.271133 325.869262 \nL 320.090869 325.869262 \nz\n\" style=\"fill:#4c72b0;opacity:0.4;stroke:#ffffff;stroke-linejoin:miter;\"/>\n   </g>\n   <g id=\"patch_24\">\n    <path clip-path=\"url(#pb5b29b48cf)\" d=\"M 331.271133 442.08 \nL 342.451397 442.08 \nL 342.451397 292.49281 \nL 331.271133 292.49281 \nz\n\" style=\"fill:#4c72b0;opacity:0.4;stroke:#ffffff;stroke-linejoin:miter;\"/>\n   </g>\n   <g id=\"patch_25\">\n    <path clip-path=\"url(#pb5b29b48cf)\" d=\"M 342.451397 442.08 \nL 353.63166 442.08 \nL 353.63166 254.261601 \nL 342.451397 254.261601 \nz\n\" style=\"fill:#4c72b0;opacity:0.4;stroke:#ffffff;stroke-linejoin:miter;\"/>\n   </g>\n   <g id=\"patch_26\">\n    <path clip-path=\"url(#pb5b29b48cf)\" d=\"M 353.63166 442.08 \nL 364.811924 442.08 \nL 364.811924 220.581727 \nL 353.63166 220.581727 \nz\n\" style=\"fill:#4c72b0;opacity:0.4;stroke:#ffffff;stroke-linejoin:miter;\"/>\n   </g>\n   <g id=\"patch_27\">\n    <path clip-path=\"url(#pb5b29b48cf)\" d=\"M 364.811924 442.08 \nL 375.992188 442.08 \nL 375.992188 180.529984 \nL 364.811924 180.529984 \nz\n\" style=\"fill:#4c72b0;opacity:0.4;stroke:#ffffff;stroke-linejoin:miter;\"/>\n   </g>\n   <g id=\"patch_28\">\n    <path clip-path=\"url(#pb5b29b48cf)\" d=\"M 375.992188 442.08 \nL 387.172451 442.08 \nL 387.172451 126.520816 \nL 375.992188 126.520816 \nz\n\" style=\"fill:#4c72b0;opacity:0.4;stroke:#ffffff;stroke-linejoin:miter;\"/>\n   </g>\n   <g id=\"patch_29\">\n    <path clip-path=\"url(#pb5b29b48cf)\" d=\"M 387.172451 442.08 \nL 398.352715 442.08 \nL 398.352715 73.118493 \nL 387.172451 73.118493 \nz\n\" style=\"fill:#4c72b0;opacity:0.4;stroke:#ffffff;stroke-linejoin:miter;\"/>\n   </g>\n   <g id=\"patch_30\">\n    <path clip-path=\"url(#pb5b29b48cf)\" d=\"M 398.352715 442.08 \nL 409.532978 442.08 \nL 409.532978 55.823422 \nL 398.352715 55.823422 \nz\n\" style=\"fill:#4c72b0;opacity:0.4;stroke:#ffffff;stroke-linejoin:miter;\"/>\n   </g>\n   <g id=\"patch_31\">\n    <path clip-path=\"url(#pb5b29b48cf)\" d=\"M 409.532978 442.08 \nL 420.713242 442.08 \nL 420.713242 60.981601 \nL 409.532978 60.981601 \nz\n\" style=\"fill:#4c72b0;opacity:0.4;stroke:#ffffff;stroke-linejoin:miter;\"/>\n   </g>\n   <g id=\"patch_32\">\n    <path clip-path=\"url(#pb5b29b48cf)\" d=\"M 420.713242 442.08 \nL 431.893506 442.08 \nL 431.893506 27.908571 \nL 420.713242 27.908571 \nz\n\" style=\"fill:#4c72b0;opacity:0.4;stroke:#ffffff;stroke-linejoin:miter;\"/>\n   </g>\n   <g id=\"patch_33\">\n    <path clip-path=\"url(#pb5b29b48cf)\" d=\"M 431.893506 442.08 \nL 443.073769 442.08 \nL 443.073769 51.272088 \nL 431.893506 51.272088 \nz\n\" style=\"fill:#4c72b0;opacity:0.4;stroke:#ffffff;stroke-linejoin:miter;\"/>\n   </g>\n   <g id=\"patch_34\">\n    <path clip-path=\"url(#pb5b29b48cf)\" d=\"M 443.073769 442.08 \nL 454.254033 442.08 \nL 454.254033 88.289608 \nL 443.073769 88.289608 \nz\n\" style=\"fill:#4c72b0;opacity:0.4;stroke:#ffffff;stroke-linejoin:miter;\"/>\n   </g>\n   <g id=\"patch_35\">\n    <path clip-path=\"url(#pb5b29b48cf)\" d=\"M 454.254033 442.08 \nL 465.434297 442.08 \nL 465.434297 155.649356 \nL 454.254033 155.649356 \nz\n\" style=\"fill:#4c72b0;opacity:0.4;stroke:#ffffff;stroke-linejoin:miter;\"/>\n   </g>\n   <g id=\"patch_36\">\n    <path clip-path=\"url(#pb5b29b48cf)\" d=\"M 465.434297 442.08 \nL 476.61456 442.08 \nL 476.61456 194.183987 \nL 465.434297 194.183987 \nz\n\" style=\"fill:#4c72b0;opacity:0.4;stroke:#ffffff;stroke-linejoin:miter;\"/>\n   </g>\n   <g id=\"patch_37\">\n    <path clip-path=\"url(#pb5b29b48cf)\" d=\"M 476.61456 442.08 \nL 487.794824 442.08 \nL 487.794824 243.338399 \nL 476.61456 243.338399 \nz\n\" style=\"fill:#4c72b0;opacity:0.4;stroke:#ffffff;stroke-linejoin:miter;\"/>\n   </g>\n   <g id=\"patch_38\">\n    <path clip-path=\"url(#pb5b29b48cf)\" d=\"M 487.794824 442.08 \nL 498.975088 442.08 \nL 498.975088 313.73237 \nL 487.794824 313.73237 \nz\n\" style=\"fill:#4c72b0;opacity:0.4;stroke:#ffffff;stroke-linejoin:miter;\"/>\n   </g>\n   <g id=\"patch_39\">\n    <path clip-path=\"url(#pb5b29b48cf)\" d=\"M 498.975088 442.08 \nL 510.155351 442.08 \nL 510.155351 349.536201 \nL 498.975088 349.536201 \nz\n\" style=\"fill:#4c72b0;opacity:0.4;stroke:#ffffff;stroke-linejoin:miter;\"/>\n   </g>\n   <g id=\"patch_40\">\n    <path clip-path=\"url(#pb5b29b48cf)\" d=\"M 510.155351 442.08 \nL 521.335615 442.08 \nL 521.335615 383.82292 \nL 510.155351 383.82292 \nz\n\" style=\"fill:#4c72b0;opacity:0.4;stroke:#ffffff;stroke-linejoin:miter;\"/>\n   </g>\n   <g id=\"patch_41\">\n    <path clip-path=\"url(#pb5b29b48cf)\" d=\"M 521.335615 442.08 \nL 532.515878 442.08 \nL 532.515878 403.545369 \nL 521.335615 403.545369 \nz\n\" style=\"fill:#4c72b0;opacity:0.4;stroke:#ffffff;stroke-linejoin:miter;\"/>\n   </g>\n   <g id=\"patch_42\">\n    <path clip-path=\"url(#pb5b29b48cf)\" d=\"M 532.515878 442.08 \nL 543.696142 442.08 \nL 543.696142 416.289105 \nL 532.515878 416.289105 \nz\n\" style=\"fill:#4c72b0;opacity:0.4;stroke:#ffffff;stroke-linejoin:miter;\"/>\n   </g>\n   <g id=\"patch_43\">\n    <path clip-path=\"url(#pb5b29b48cf)\" d=\"M 543.696142 442.08 \nL 554.876406 442.08 \nL 554.876406 426.908885 \nL 543.696142 426.908885 \nz\n\" style=\"fill:#4c72b0;opacity:0.4;stroke:#ffffff;stroke-linejoin:miter;\"/>\n   </g>\n   <g id=\"patch_44\">\n    <path clip-path=\"url(#pb5b29b48cf)\" d=\"M 554.876406 442.08 \nL 566.056669 442.08 \nL 566.056669 432.067064 \nL 554.876406 432.067064 \nz\n\" style=\"fill:#4c72b0;opacity:0.4;stroke:#ffffff;stroke-linejoin:miter;\"/>\n   </g>\n   <g id=\"patch_45\">\n    <path clip-path=\"url(#pb5b29b48cf)\" d=\"M 566.056669 442.08 \nL 577.236933 442.08 \nL 577.236933 438.438932 \nL 566.056669 438.438932 \nz\n\" style=\"fill:#4c72b0;opacity:0.4;stroke:#ffffff;stroke-linejoin:miter;\"/>\n   </g>\n   <g id=\"patch_46\">\n    <path clip-path=\"url(#pb5b29b48cf)\" d=\"M 577.236933 442.08 \nL 588.417197 442.08 \nL 588.417197 438.13551 \nL 577.236933 438.13551 \nz\n\" style=\"fill:#4c72b0;opacity:0.4;stroke:#ffffff;stroke-linejoin:miter;\"/>\n   </g>\n   <g id=\"patch_47\">\n    <path clip-path=\"url(#pb5b29b48cf)\" d=\"M 588.417197 442.08 \nL 599.59746 442.08 \nL 599.59746 438.742355 \nL 588.417197 438.742355 \nz\n\" style=\"fill:#4c72b0;opacity:0.4;stroke:#ffffff;stroke-linejoin:miter;\"/>\n   </g>\n   <g id=\"patch_48\">\n    <path clip-path=\"url(#pb5b29b48cf)\" d=\"M 599.59746 442.08 \nL 610.777724 442.08 \nL 610.777724 439.652622 \nL 599.59746 439.652622 \nz\n\" style=\"fill:#4c72b0;opacity:0.4;stroke:#ffffff;stroke-linejoin:miter;\"/>\n   </g>\n   <g id=\"patch_49\">\n    <path clip-path=\"url(#pb5b29b48cf)\" d=\"M 610.777724 442.08 \nL 621.957988 442.08 \nL 621.957988 440.562889 \nL 610.777724 440.562889 \nz\n\" style=\"fill:#4c72b0;opacity:0.4;stroke:#ffffff;stroke-linejoin:miter;\"/>\n   </g>\n   <g id=\"patch_50\">\n    <path clip-path=\"url(#pb5b29b48cf)\" d=\"M 621.957988 442.08 \nL 633.138251 442.08 \nL 633.138251 439.956044 \nL 621.957988 439.956044 \nz\n\" style=\"fill:#4c72b0;opacity:0.4;stroke:#ffffff;stroke-linejoin:miter;\"/>\n   </g>\n   <g id=\"patch_51\">\n    <path clip-path=\"url(#pb5b29b48cf)\" d=\"M 633.138251 442.08 \nL 644.318515 442.08 \nL 644.318515 441.776578 \nL 633.138251 441.776578 \nz\n\" style=\"fill:#4c72b0;opacity:0.4;stroke:#ffffff;stroke-linejoin:miter;\"/>\n   </g>\n   <g id=\"patch_52\">\n    <path clip-path=\"url(#pb5b29b48cf)\" d=\"M 644.318515 442.08 \nL 655.498779 442.08 \nL 655.498779 441.169733 \nL 644.318515 441.169733 \nz\n\" style=\"fill:#4c72b0;opacity:0.4;stroke:#ffffff;stroke-linejoin:miter;\"/>\n   </g>\n   <g id=\"line2d_16\">\n    <path clip-path=\"url(#pb5b29b48cf)\" d=\"M 71.628551 442.077893 \nL 90.801064 441.95054 \nL 100.38732 441.934613 \nL 114.766704 442.032723 \nL 133.939217 441.832827 \nL 153.111729 441.472752 \nL 167.491114 441.824754 \nL 181.870498 441.855169 \nL 201.043011 441.588476 \nL 205.836139 441.409046 \nL 210.629267 441.073491 \nL 225.008651 439.499833 \nL 229.801779 439.384999 \nL 234.594908 439.432299 \nL 239.388036 439.322806 \nL 244.181164 438.90171 \nL 248.974292 438.230014 \nL 253.76742 437.268432 \nL 258.560548 435.729101 \nL 263.353676 433.343655 \nL 268.146805 430.024067 \nL 272.939933 425.664604 \nL 277.733061 420.049725 \nL 282.526189 413.011558 \nL 287.319317 404.559757 \nL 292.112445 395.016805 \nL 306.49183 364.979328 \nL 316.078086 344.147138 \nL 320.871214 333.602131 \nL 325.664342 322.66135 \nL 330.45747 310.385355 \nL 335.250598 296.297419 \nL 354.423111 235.005919 \nL 359.216239 218.84472 \nL 364.009367 200.986853 \nL 368.802495 181.977181 \nL 373.595623 162.191388 \nL 378.388752 141.358447 \nL 383.18188 119.905349 \nL 387.975008 99.8422 \nL 392.768136 83.57042 \nL 397.561264 72.090303 \nL 402.354392 64.656815 \nL 407.14752 59.308171 \nL 411.940648 53.687562 \nL 416.733777 46.993829 \nL 421.526905 41.348587 \nL 426.320033 39.970306 \nL 431.113161 44.179315 \nL 435.906289 53.200054 \nL 440.699417 66.199404 \nL 445.492545 83.142142 \nL 450.285674 103.913407 \nL 459.87193 150.975834 \nL 464.665058 172.596196 \nL 474.251314 210.719172 \nL 479.044442 231.625141 \nL 483.83757 255.279076 \nL 488.630699 280.094698 \nL 493.423827 303.499073 \nL 498.216955 324.07242 \nL 503.010083 342.196357 \nL 507.803211 358.606513 \nL 512.596339 373.20069 \nL 517.389467 385.385775 \nL 522.182596 394.986272 \nL 526.975724 402.544566 \nL 531.768852 408.805888 \nL 536.56198 414.271275 \nL 541.355108 419.178804 \nL 546.148236 423.484988 \nL 550.941364 427.013511 \nL 555.734492 429.827428 \nL 560.527621 432.250952 \nL 565.320749 434.479084 \nL 570.113877 436.356741 \nL 574.907005 437.614295 \nL 579.700133 438.224978 \nL 603.665774 439.49721 \nL 613.25203 440.099232 \nL 622.838286 440.419166 \nL 627.631414 440.531452 \nL 637.217671 441.076689 \nL 646.803927 441.492406 \nL 675.562696 442.069943 \nL 680.355824 442.07774 \nL 680.355824 442.07774 \n\" style=\"fill:none;stroke:#4c72b0;stroke-linecap:round;stroke-width:1.5;\"/>\n   </g>\n   <g id=\"patch_53\">\n    <path d=\"M 41.192188 442.08 \nL 41.192188 7.2 \n\" style=\"fill:none;stroke:#ffffff;stroke-linecap:square;stroke-linejoin:miter;stroke-width:1.25;\"/>\n   </g>\n   <g id=\"patch_54\">\n    <path d=\"M 710.792188 442.08 \nL 710.792188 7.2 \n\" style=\"fill:none;stroke:#ffffff;stroke-linecap:square;stroke-linejoin:miter;stroke-width:1.25;\"/>\n   </g>\n   <g id=\"patch_55\">\n    <path d=\"M 41.192187 442.08 \nL 710.792187 442.08 \n\" style=\"fill:none;stroke:#ffffff;stroke-linecap:square;stroke-linejoin:miter;stroke-width:1.25;\"/>\n   </g>\n   <g id=\"patch_56\">\n    <path d=\"M 41.192187 7.2 \nL 710.792187 7.2 \n\" style=\"fill:none;stroke:#ffffff;stroke-linecap:square;stroke-linejoin:miter;stroke-width:1.25;\"/>\n   </g>\n  </g>\n </g>\n <defs>\n  <clipPath id=\"pb5b29b48cf\">\n   <rect height=\"434.88\" width=\"669.6\" x=\"41.192188\" y=\"7.2\"/>\n  </clipPath>\n </defs>\n</svg>\n",
      "image/png": "[encoded data removed]"
     },
     "metadata": {}
    }
   ],
   "source": [
    "sns.distplot(std_non_pulsar);"
   ]
  },
  {
   "cell_type": "markdown",
   "metadata": {},
   "source": [
    "- Resposta: A distribuição falsa é bastante próxima da distribuição normal, portanto os valores fazem sentido"
   ]
  },
  {
   "cell_type": "markdown",
   "metadata": {},
   "source": [
    "## Questão 5\n",
    "\n",
    "Qual a diferença entre os quantis Q1, Q2 e Q3 de `false_pulsar_mean_profile_standardized` e os mesmos quantis teóricos de uma distribuição normal de média 0 e variância 1? Responda como uma tupla de três elementos arredondados para três casas decimais."
   ]
  },
  {
   "cell_type": "code",
   "execution_count": 16,
   "metadata": {
    "tags": []
   },
   "outputs": [
    {
     "output_type": "execute_result",
     "data": {
      "text/plain": "(0.027, 0.04, -0.004)"
     },
     "metadata": {},
     "execution_count": 16
    }
   ],
   "source": [
    "def q5():\n",
    "    non_pulsar = stars[stars['target'] == 0]['mean_profile']\n",
    "    std_non_pulsar = (non_pulsar - non_pulsar.mean()) / non_pulsar.std()\n",
    "    non_pulsar_qt = std_non_pulsar.quantile((0.25, 0.5, 0.75))\n",
    "    normal_qt = sct.norm.ppf((0.25, 0.5, 0.75), loc = 0, scale = 1)\n",
    "    non_pulsar_qt = np.array(non_pulsar_qt.tolist())\n",
    "\n",
    "    return tuple(np.around(non_pulsar_qt - normal_qt, decimals = 3))\n",
    "\n",
    "\n",
    "q5()"
   ]
  },
  {
   "cell_type": "markdown",
   "metadata": {},
   "source": [
    "Para refletir:\n",
    "\n",
    "* Os valores encontrados fazem sentido?\n",
    "* O que isso pode dizer sobre a distribuição da variável `false_pulsar_mean_profile_standardized`?\n",
    "\n",
    "- Resposta: Demonstra que a distribuição Falsa é muito próxima da distribuição Normal\n",
    "<br><br>\n",
    "* Curiosidade: alguns testes de hipóteses sobre normalidade dos dados utilizam essa mesma abordagem."
   ]
  }
 ],
 "metadata": {
  "kernelspec": {
   "display_name": "Python 3",
   "language": "python",
   "name": "python3"
  },
  "language_info": {
   "codemirror_mode": {
    "name": "ipython",
    "version": 3
   },
   "file_extension": ".py",
   "mimetype": "text/x-python",
   "name": "python",
   "nbconvert_exporter": "python",
   "pygments_lexer": "ipython3",
   "version": "3.8.2-final"
  }
 },
 "nbformat": 4,
 "nbformat_minor": 2
}