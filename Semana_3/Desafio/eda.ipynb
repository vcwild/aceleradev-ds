{
 "cells": [
  {
   "cell_type": "markdown",
   "metadata": {},
   "source": [
    "## Setup"
   ]
  },
  {
   "cell_type": "code",
   "execution_count": 1,
   "metadata": {},
   "outputs": [],
   "source": [
    "import pandas as pd "
   ]
  },
  {
   "cell_type": "markdown",
   "metadata": {},
   "source": [
    "## Ler dataset"
   ]
  },
  {
   "cell_type": "code",
   "execution_count": 2,
   "metadata": {
    "tags": []
   },
   "outputs": [
    {
     "output_type": "stream",
     "name": "stdout",
     "text": "<class 'pandas.core.frame.DataFrame'>\nRangeIndex: 7000 entries, 0 to 6999\nData columns (total 12 columns):\n #   Column                    Non-Null Count  Dtype  \n---  ------                    --------------  -----  \n 0   RowNumber                 7000 non-null   int64  \n 1   id                        7000 non-null   object \n 2   sobrenome                 7000 non-null   object \n 3   pontuacao_credito         7000 non-null   int64  \n 4   estado_residencia         7000 non-null   object \n 5   genero                    7000 non-null   object \n 6   idade                     7000 non-null   int64  \n 7   nivel_estabilidade        7000 non-null   int64  \n 8   saldo_conta               7000 non-null   float64\n 9   numero_produtos           7000 non-null   int64  \n 10  possui_cartao_de_credito  7000 non-null   int64  \n 11  membro_ativo              7000 non-null   int64  \ndtypes: float64(1), int64(7), object(4)\nmemory usage: 656.4+ KB\n"
    }
   ],
   "source": [
    "df = pd.read_csv('desafio1.csv')\n",
    "df.info()"
   ]
  },
  {
   "cell_type": "markdown",
   "metadata": {},
   "source": [
    "## Obter medidas de dispersão"
   ]
  },
  {
   "cell_type": "code",
   "execution_count": 3,
   "metadata": {},
   "outputs": [
    {
     "output_type": "execute_result",
     "data": {
      "text/plain": "                       PR          RS          SC\nmoda           850.000000  850.000000  850.000000\nmediana        650.000000  650.000000  653.000000\nmedia          648.961294  651.105143  649.537653\ndesvio_padrao   98.607186   95.136598   97.233493",
      "text/html": "<div>\n<style scoped>\n    .dataframe tbody tr th:only-of-type {\n        vertical-align: middle;\n    }\n\n    .dataframe tbody tr th {\n        vertical-align: top;\n    }\n\n    .dataframe thead th {\n        text-align: right;\n    }\n</style>\n<table border=\"1\" class=\"dataframe\">\n  <thead>\n    <tr style=\"text-align: right;\">\n      <th></th>\n      <th>PR</th>\n      <th>RS</th>\n      <th>SC</th>\n    </tr>\n  </thead>\n  <tbody>\n    <tr>\n      <th>moda</th>\n      <td>850.000000</td>\n      <td>850.000000</td>\n      <td>850.000000</td>\n    </tr>\n    <tr>\n      <th>mediana</th>\n      <td>650.000000</td>\n      <td>650.000000</td>\n      <td>653.000000</td>\n    </tr>\n    <tr>\n      <th>media</th>\n      <td>648.961294</td>\n      <td>651.105143</td>\n      <td>649.537653</td>\n    </tr>\n    <tr>\n      <th>desvio_padrao</th>\n      <td>98.607186</td>\n      <td>95.136598</td>\n      <td>97.233493</td>\n    </tr>\n  </tbody>\n</table>\n</div>"
     },
     "metadata": {},
     "execution_count": 3
    }
   ],
   "source": [
    "dff = df.groupby('estado_residencia')['pontuacao_credito']\n",
    "aux = pd.DataFrame({})\n",
    "aux[0] = dff.agg(lambda x: x.value_counts().index[0]) #mode\n",
    "aux[1] = dff.median()\n",
    "aux[2] = dff.mean()\n",
    "aux[3] = dff.std()\n",
    "aux.index.name = None\n",
    "aux = aux.transpose()\n",
    "aux = aux.rename(index = {\n",
    "    0: 'moda',\n",
    "    1: 'mediana',\n",
    "    2: 'media',\n",
    "    3: 'desvio_padrao'\n",
    "})\n",
    "\n",
    "aux"
   ]
  },
  {
   "cell_type": "markdown",
   "metadata": {},
   "source": [
    "## Exportar para JSON"
   ]
  },
  {
   "cell_type": "code",
   "execution_count": 4,
   "metadata": {},
   "outputs": [],
   "source": [
    "out = aux[['SC', 'RS', 'PR']]\n",
    "out.to_json('submission.json')"
   ]
  }
 ],
 "metadata": {
  "language_info": {
   "codemirror_mode": {
    "name": "ipython",
    "version": 3
   },
   "file_extension": ".py",
   "mimetype": "text/x-python",
   "name": "python",
   "nbconvert_exporter": "python",
   "pygments_lexer": "ipython3",
   "version": "3.7.7-final"
  },
  "orig_nbformat": 2,
  "kernelspec": {
   "name": "python37764bitcodenationcondad2ee10a650924ab59d65bde6ac3d834c",
   "display_name": "Python 3.7.7 64-bit ('codenation': conda)"
  }
 },
 "nbformat": 4,
 "nbformat_minor": 2
}